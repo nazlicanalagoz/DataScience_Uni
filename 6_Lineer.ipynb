{
  "nbformat": 4,
  "nbformat_minor": 0,
  "metadata": {
    "colab": {
      "name": "6-Lineer.ipynb",
      "provenance": [],
      "collapsed_sections": [],
      "authorship_tag": "ABX9TyNQrxwlfMPOKFuTn1LqJvhd",
      "include_colab_link": true
    },
    "kernelspec": {
      "name": "python3",
      "display_name": "Python 3"
    },
    "language_info": {
      "name": "python"
    }
  },
  "cells": [
    {
      "cell_type": "markdown",
      "metadata": {
        "id": "view-in-github",
        "colab_type": "text"
      },
      "source": [
        "<a href=\"https://colab.research.google.com/github/nazlicanalagoz/DataScience_Uni/blob/main/6_Lineer.ipynb\" target=\"_parent\"><img src=\"https://colab.research.google.com/assets/colab-badge.svg\" alt=\"Open In Colab\"/></a>"
      ]
    },
    {
      "cell_type": "code",
      "metadata": {
        "id": "9y2bBM0Px8he"
      },
      "source": [
        "# Basit lineer regresyon\n",
        "import matplotlib.pyplot as plt\n",
        "import numpy as np\n",
        "import pandas as pd\n",
        "from sklearn.linear_model import LinearRegression\n",
        "from sklearn.metrics import r2_score, mean_absolute_error, mean_squared_error\n",
        "from sklearn.model_selection import train_test_split\n",
        "import seaborn as sns"
      ],
      "execution_count": null,
      "outputs": []
    },
    {
      "cell_type": "code",
      "metadata": {
        "id": "3248G9wE1sJn",
        "colab": {
          "base_uri": "https://localhost:8080/",
          "height": 282
        },
        "outputId": "c1d12e62-015c-4c9c-a52f-a31ca899c4c7"
      },
      "source": [
        "x=np.linspace(0,10,50)\n",
        "y=2*x + 1 + np.random.randn(50)\n",
        "plt.scatter(x,y)"
      ],
      "execution_count": null,
      "outputs": [
        {
          "output_type": "execute_result",
          "data": {
            "text/plain": [
              "<matplotlib.collections.PathCollection at 0x7fa7a291d950>"
            ]
          },
          "metadata": {},
          "execution_count": 2
        },
        {
          "output_type": "display_data",
          "data": {
            "image/png": "[encoded data removed]",
            "text/plain": [
              "<Figure size 432x288 with 1 Axes>"
            ]
          },
          "metadata": {
            "needs_background": "light"
          }
        }
      ]
    },
    {
      "cell_type": "code",
      "metadata": {
        "colab": {
          "base_uri": "https://localhost:8080/"
        },
        "id": "3MJu6CelAyQW",
        "outputId": "a073d239-c6d4-4a78-f6c3-c865e6a40b3c"
      },
      "source": [
        "# MODEL OLUŞTURMA\n",
        "model = LinearRegression()\n",
        "model.fit(x.reshape(-1,1),y.reshape(-1,1))  # tek sütun alır, reshape(-1,1) kaç satır olursa olsun tek sütuna çevirerek kullanır\n"
      ],
      "execution_count": null,
      "outputs": [
        {
          "output_type": "execute_result",
          "data": {
            "text/plain": [
              "LinearRegression()"
            ]
          },
          "metadata": {},
          "execution_count": 3
        }
      ]
    },
    {
      "cell_type": "code",
      "metadata": {
        "colab": {
          "base_uri": "https://localhost:8080/"
        },
        "id": "AAGR2_lMBXqY",
        "outputId": "830f4d48-1d07-44c7-e0eb-77d23c4be747"
      },
      "source": [
        "# VERİ SETİNİ EĞİTİM VE TEST OLARAK BÖLME\n",
        "x_egitim, x_test, y_egitim, y_test = train_test_split(x,y,test_size=0.2, random_state=2)\n",
        "model.fit(x_egitim.reshape(-1,1),y_egitim.reshape(-1,1))"
      ],
      "execution_count": null,
      "outputs": [
        {
          "output_type": "execute_result",
          "data": {
            "text/plain": [
              "LinearRegression()"
            ]
          },
          "metadata": {},
          "execution_count": 4
        }
      ]
    },
    {
      "cell_type": "code",
      "metadata": {
        "colab": {
          "base_uri": "https://localhost:8080/"
        },
        "id": "pzc0UY1JCZZx",
        "outputId": "cceaef41-0386-4ebd-825b-20d92bd0430a"
      },
      "source": [
        "# y = ax + b     y= 2.0397x + 0.476\n",
        "print(\"Katsayı : \", model.coef_)\n",
        "print(\"Sabit : \", model.intercept_)"
      ],
      "execution_count": null,
      "outputs": [
        {
          "output_type": "stream",
          "name": "stdout",
          "text": [
            "Katsayı :  [[1.92236474]]\n",
            "Sabit :  [1.24626353]\n"
          ]
        }
      ]
    },
    {
      "cell_type": "code",
      "metadata": {
        "colab": {
          "base_uri": "https://localhost:8080/"
        },
        "id": "2R2LogmmC0aA",
        "outputId": "8fc997f0-4368-483b-86e2-d009d5d46afc"
      },
      "source": [
        "print(\"Kurulan Lineer Regresyon Modeli y={} + {}*x\".format(model.intercept_.round(2), model.coef_.round(2)))"
      ],
      "execution_count": null,
      "outputs": [
        {
          "output_type": "stream",
          "name": "stdout",
          "text": [
            "Kurulan Lineer Regresyon Modeli y=[1.25] + [[1.92]]*x\n"
          ]
        }
      ]
    },
    {
      "cell_type": "code",
      "metadata": {
        "id": "i-rjMi2jDRsO",
        "colab": {
          "base_uri": "https://localhost:8080/"
        },
        "outputId": "021d666e-722a-4b84-e50b-68e996a21162"
      },
      "source": [
        "y_tahmin=model.predict(x.reshape(-1,1))\n",
        "y_tahmin"
      ],
      "execution_count": null,
      "outputs": [
        {
          "output_type": "execute_result",
          "data": {
            "text/plain": [
              "array([[ 1.24626353],\n",
              "       [ 1.63858287],\n",
              "       [ 2.0309022 ],\n",
              "       [ 2.42322154],\n",
              "       [ 2.81554087],\n",
              "       [ 3.20786021],\n",
              "       [ 3.60017954],\n",
              "       [ 3.99249888],\n",
              "       [ 4.38481821],\n",
              "       [ 4.77713755],\n",
              "       [ 5.16945688],\n",
              "       [ 5.56177622],\n",
              "       [ 5.95409555],\n",
              "       [ 6.34641489],\n",
              "       [ 6.73873422],\n",
              "       [ 7.13105356],\n",
              "       [ 7.52337289],\n",
              "       [ 7.91569223],\n",
              "       [ 8.30801156],\n",
              "       [ 8.7003309 ],\n",
              "       [ 9.09265023],\n",
              "       [ 9.48496957],\n",
              "       [ 9.8772889 ],\n",
              "       [10.26960824],\n",
              "       [10.66192758],\n",
              "       [11.05424691],\n",
              "       [11.44656625],\n",
              "       [11.83888558],\n",
              "       [12.23120492],\n",
              "       [12.62352425],\n",
              "       [13.01584359],\n",
              "       [13.40816292],\n",
              "       [13.80048226],\n",
              "       [14.19280159],\n",
              "       [14.58512093],\n",
              "       [14.97744026],\n",
              "       [15.3697596 ],\n",
              "       [15.76207893],\n",
              "       [16.15439827],\n",
              "       [16.5467176 ],\n",
              "       [16.93903694],\n",
              "       [17.33135627],\n",
              "       [17.72367561],\n",
              "       [18.11599494],\n",
              "       [18.50831428],\n",
              "       [18.90063361],\n",
              "       [19.29295295],\n",
              "       [19.68527228],\n",
              "       [20.07759162],\n",
              "       [20.46991095]])"
            ]
          },
          "metadata": {},
          "execution_count": 7
        }
      ]
    },
    {
      "cell_type": "code",
      "metadata": {
        "colab": {
          "base_uri": "https://localhost:8080/",
          "height": 282
        },
        "id": "X065ovrGDjgB",
        "outputId": "420af5b1-5342-4020-eff5-8ac9601e74f9"
      },
      "source": [
        "# GERÇEK DEĞER\n",
        "plt.scatter(x,y)\n",
        "# TAHMİN/HESAPLANAN DEĞER        EĞRİ UYDURMA İŞLEMİ\n",
        "plt.plot(x,y_tahmin)"
      ],
      "execution_count": null,
      "outputs": [
        {
          "output_type": "execute_result",
          "data": {
            "text/plain": [
              "[<matplotlib.lines.Line2D at 0x7fa7a29c9e10>]"
            ]
          },
          "metadata": {},
          "execution_count": 8
        },
        {
          "output_type": "display_data",
          "data": {
            "image/png": "[encoded data removed]",
            "text/plain": [
              "<Figure size 432x288 with 1 Axes>"
            ]
          },
          "metadata": {
            "needs_background": "light"
          }
        }
      ]
    },
    {
      "cell_type": "code",
      "metadata": {
        "colab": {
          "base_uri": "https://localhost:8080/"
        },
        "id": "Zj3sbfJhDqjD",
        "outputId": "512720c4-196a-4582-f1da-acf846f2a0d2"
      },
      "source": [
        "# PERFORMANS ÖLÇÜMÜ\n",
        "# R2          >> verilerin yerleştirilmiş regrasyon hattına yani eğrimize, ne kadar yakın olduğunu gösteren istatistiksel ölçümdür. Doğrusal Regrasyonda kullanılır.\n",
        "# İyi bir model düşük bir R2 modeline sahip olabilir. Taraflı bir model, yüksek bir R2 modeline sahip olabilir.\n",
        "r2_score(y,y_tahmin)"
      ],
      "execution_count": null,
      "outputs": [
        {
          "output_type": "execute_result",
          "data": {
            "text/plain": [
              "0.963159875006816"
            ]
          },
          "metadata": {},
          "execution_count": 9
        }
      ]
    },
    {
      "cell_type": "code",
      "metadata": {
        "colab": {
          "base_uri": "https://localhost:8080/"
        },
        "id": "4ATeeCfuEU3y",
        "outputId": "7b11ee28-c428-4a2f-e94d-853978936aa5"
      },
      "source": [
        "# RMSE    tahmin hatalarının standart sapması\n",
        "mean_squared_error(y,y_tahmin, squared=False)"
      ],
      "execution_count": null,
      "outputs": [
        {
          "output_type": "execute_result",
          "data": {
            "text/plain": [
              "1.0915212661185751"
            ]
          },
          "metadata": {},
          "execution_count": 10
        }
      ]
    },
    {
      "cell_type": "code",
      "metadata": {
        "id": "rcuP6Z92FPoe",
        "colab": {
          "base_uri": "https://localhost:8080/",
          "height": 1000
        },
        "outputId": "d9cfbcb1-f15a-4b4f-d718-59bb943589c4"
      },
      "source": [
        "sonuc=pd.DataFrame({'x':x,'y':y.flatten(),'y_tahmin':y_tahmin.flatten()})\n",
        "sonuc"
      ],
      "execution_count": null,
      "outputs": [
        {
          "output_type": "execute_result",
          "data": {
            "text/html": [
              "<div>\n",
              "<style scoped>\n",
              "    .dataframe tbody tr th:only-of-type {\n",
              "        vertical-align: middle;\n",
              "    }\n",
              "\n",
              "    .dataframe tbody tr th {\n",
              "        vertical-align: top;\n",
              "    }\n",
              "\n",
              "    .dataframe thead th {\n",
              "        text-align: right;\n",
              "    }\n",
              "</style>\n",
              "<table border=\"1\" class=\"dataframe\">\n",
              "  <thead>\n",
              "    <tr style=\"text-align: right;\">\n",
              "      <th></th>\n",
              "      <th>x</th>\n",
              "      <th>y</th>\n",
              "      <th>y_tahmin</th>\n",
              "    </tr>\n",
              "  </thead>\n",
              "  <tbody>\n",
              "    <tr>\n",
              "      <th>0</th>\n",
              "      <td>0.000000</td>\n",
              "      <td>0.674801</td>\n",
              "      <td>1.246264</td>\n",
              "    </tr>\n",
              "    <tr>\n",
              "      <th>1</th>\n",
              "      <td>0.204082</td>\n",
              "      <td>1.195954</td>\n",
              "      <td>1.638583</td>\n",
              "    </tr>\n",
              "    <tr>\n",
              "      <th>2</th>\n",
              "      <td>0.408163</td>\n",
              "      <td>1.912698</td>\n",
              "      <td>2.030902</td>\n",
              "    </tr>\n",
              "    <tr>\n",
              "      <th>3</th>\n",
              "      <td>0.612245</td>\n",
              "      <td>1.734304</td>\n",
              "      <td>2.423222</td>\n",
              "    </tr>\n",
              "    <tr>\n",
              "      <th>4</th>\n",
              "      <td>0.816327</td>\n",
              "      <td>1.897506</td>\n",
              "      <td>2.815541</td>\n",
              "    </tr>\n",
              "    <tr>\n",
              "      <th>5</th>\n",
              "      <td>1.020408</td>\n",
              "      <td>3.356928</td>\n",
              "      <td>3.207860</td>\n",
              "    </tr>\n",
              "    <tr>\n",
              "      <th>6</th>\n",
              "      <td>1.224490</td>\n",
              "      <td>1.977503</td>\n",
              "      <td>3.600180</td>\n",
              "    </tr>\n",
              "    <tr>\n",
              "      <th>7</th>\n",
              "      <td>1.428571</td>\n",
              "      <td>4.138739</td>\n",
              "      <td>3.992499</td>\n",
              "    </tr>\n",
              "    <tr>\n",
              "      <th>8</th>\n",
              "      <td>1.632653</td>\n",
              "      <td>4.256125</td>\n",
              "      <td>4.384818</td>\n",
              "    </tr>\n",
              "    <tr>\n",
              "      <th>9</th>\n",
              "      <td>1.836735</td>\n",
              "      <td>6.185906</td>\n",
              "      <td>4.777138</td>\n",
              "    </tr>\n",
              "    <tr>\n",
              "      <th>10</th>\n",
              "      <td>2.040816</td>\n",
              "      <td>6.028081</td>\n",
              "      <td>5.169457</td>\n",
              "    </tr>\n",
              "    <tr>\n",
              "      <th>11</th>\n",
              "      <td>2.244898</td>\n",
              "      <td>4.349297</td>\n",
              "      <td>5.561776</td>\n",
              "    </tr>\n",
              "    <tr>\n",
              "      <th>12</th>\n",
              "      <td>2.448980</td>\n",
              "      <td>5.975567</td>\n",
              "      <td>5.954096</td>\n",
              "    </tr>\n",
              "    <tr>\n",
              "      <th>13</th>\n",
              "      <td>2.653061</td>\n",
              "      <td>7.788968</td>\n",
              "      <td>6.346415</td>\n",
              "    </tr>\n",
              "    <tr>\n",
              "      <th>14</th>\n",
              "      <td>2.857143</td>\n",
              "      <td>6.357481</td>\n",
              "      <td>6.738734</td>\n",
              "    </tr>\n",
              "    <tr>\n",
              "      <th>15</th>\n",
              "      <td>3.061224</td>\n",
              "      <td>7.335027</td>\n",
              "      <td>7.131054</td>\n",
              "    </tr>\n",
              "    <tr>\n",
              "      <th>16</th>\n",
              "      <td>3.265306</td>\n",
              "      <td>7.591936</td>\n",
              "      <td>7.523373</td>\n",
              "    </tr>\n",
              "    <tr>\n",
              "      <th>17</th>\n",
              "      <td>3.469388</td>\n",
              "      <td>9.088677</td>\n",
              "      <td>7.915692</td>\n",
              "    </tr>\n",
              "    <tr>\n",
              "      <th>18</th>\n",
              "      <td>3.673469</td>\n",
              "      <td>9.733296</td>\n",
              "      <td>8.308012</td>\n",
              "    </tr>\n",
              "    <tr>\n",
              "      <th>19</th>\n",
              "      <td>3.877551</td>\n",
              "      <td>12.475276</td>\n",
              "      <td>8.700331</td>\n",
              "    </tr>\n",
              "    <tr>\n",
              "      <th>20</th>\n",
              "      <td>4.081633</td>\n",
              "      <td>10.360937</td>\n",
              "      <td>9.092650</td>\n",
              "    </tr>\n",
              "    <tr>\n",
              "      <th>21</th>\n",
              "      <td>4.285714</td>\n",
              "      <td>8.442327</td>\n",
              "      <td>9.484970</td>\n",
              "    </tr>\n",
              "    <tr>\n",
              "      <th>22</th>\n",
              "      <td>4.489796</td>\n",
              "      <td>11.966107</td>\n",
              "      <td>9.877289</td>\n",
              "    </tr>\n",
              "    <tr>\n",
              "      <th>23</th>\n",
              "      <td>4.693878</td>\n",
              "      <td>10.879801</td>\n",
              "      <td>10.269608</td>\n",
              "    </tr>\n",
              "    <tr>\n",
              "      <th>24</th>\n",
              "      <td>4.897959</td>\n",
              "      <td>9.673823</td>\n",
              "      <td>10.661928</td>\n",
              "    </tr>\n",
              "    <tr>\n",
              "      <th>25</th>\n",
              "      <td>5.102041</td>\n",
              "      <td>10.216194</td>\n",
              "      <td>11.054247</td>\n",
              "    </tr>\n",
              "    <tr>\n",
              "      <th>26</th>\n",
              "      <td>5.306122</td>\n",
              "      <td>12.129549</td>\n",
              "      <td>11.446566</td>\n",
              "    </tr>\n",
              "    <tr>\n",
              "      <th>27</th>\n",
              "      <td>5.510204</td>\n",
              "      <td>11.027405</td>\n",
              "      <td>11.838886</td>\n",
              "    </tr>\n",
              "    <tr>\n",
              "      <th>28</th>\n",
              "      <td>5.714286</td>\n",
              "      <td>12.552053</td>\n",
              "      <td>12.231205</td>\n",
              "    </tr>\n",
              "    <tr>\n",
              "      <th>29</th>\n",
              "      <td>5.918367</td>\n",
              "      <td>10.415586</td>\n",
              "      <td>12.623524</td>\n",
              "    </tr>\n",
              "    <tr>\n",
              "      <th>30</th>\n",
              "      <td>6.122449</td>\n",
              "      <td>12.974665</td>\n",
              "      <td>13.015844</td>\n",
              "    </tr>\n",
              "    <tr>\n",
              "      <th>31</th>\n",
              "      <td>6.326531</td>\n",
              "      <td>13.102033</td>\n",
              "      <td>13.408163</td>\n",
              "    </tr>\n",
              "    <tr>\n",
              "      <th>32</th>\n",
              "      <td>6.530612</td>\n",
              "      <td>13.704390</td>\n",
              "      <td>13.800482</td>\n",
              "    </tr>\n",
              "    <tr>\n",
              "      <th>33</th>\n",
              "      <td>6.734694</td>\n",
              "      <td>15.471818</td>\n",
              "      <td>14.192802</td>\n",
              "    </tr>\n",
              "    <tr>\n",
              "      <th>34</th>\n",
              "      <td>6.938776</td>\n",
              "      <td>14.035058</td>\n",
              "      <td>14.585121</td>\n",
              "    </tr>\n",
              "    <tr>\n",
              "      <th>35</th>\n",
              "      <td>7.142857</td>\n",
              "      <td>15.350928</td>\n",
              "      <td>14.977440</td>\n",
              "    </tr>\n",
              "    <tr>\n",
              "      <th>36</th>\n",
              "      <td>7.346939</td>\n",
              "      <td>14.476047</td>\n",
              "      <td>15.369760</td>\n",
              "    </tr>\n",
              "    <tr>\n",
              "      <th>37</th>\n",
              "      <td>7.551020</td>\n",
              "      <td>16.803210</td>\n",
              "      <td>15.762079</td>\n",
              "    </tr>\n",
              "    <tr>\n",
              "      <th>38</th>\n",
              "      <td>7.755102</td>\n",
              "      <td>14.878074</td>\n",
              "      <td>16.154398</td>\n",
              "    </tr>\n",
              "    <tr>\n",
              "      <th>39</th>\n",
              "      <td>7.959184</td>\n",
              "      <td>15.508716</td>\n",
              "      <td>16.546718</td>\n",
              "    </tr>\n",
              "    <tr>\n",
              "      <th>40</th>\n",
              "      <td>8.163265</td>\n",
              "      <td>16.498015</td>\n",
              "      <td>16.939037</td>\n",
              "    </tr>\n",
              "    <tr>\n",
              "      <th>41</th>\n",
              "      <td>8.367347</td>\n",
              "      <td>16.304364</td>\n",
              "      <td>17.331356</td>\n",
              "    </tr>\n",
              "    <tr>\n",
              "      <th>42</th>\n",
              "      <td>8.571429</td>\n",
              "      <td>19.532878</td>\n",
              "      <td>17.723676</td>\n",
              "    </tr>\n",
              "    <tr>\n",
              "      <th>43</th>\n",
              "      <td>8.775510</td>\n",
              "      <td>18.200235</td>\n",
              "      <td>18.115995</td>\n",
              "    </tr>\n",
              "    <tr>\n",
              "      <th>44</th>\n",
              "      <td>8.979592</td>\n",
              "      <td>18.823456</td>\n",
              "      <td>18.508314</td>\n",
              "    </tr>\n",
              "    <tr>\n",
              "      <th>45</th>\n",
              "      <td>9.183673</td>\n",
              "      <td>19.534847</td>\n",
              "      <td>18.900634</td>\n",
              "    </tr>\n",
              "    <tr>\n",
              "      <th>46</th>\n",
              "      <td>9.387755</td>\n",
              "      <td>18.048224</td>\n",
              "      <td>19.292953</td>\n",
              "    </tr>\n",
              "    <tr>\n",
              "      <th>47</th>\n",
              "      <td>9.591837</td>\n",
              "      <td>20.244639</td>\n",
              "      <td>19.685272</td>\n",
              "    </tr>\n",
              "    <tr>\n",
              "      <th>48</th>\n",
              "      <td>9.795918</td>\n",
              "      <td>18.846314</td>\n",
              "      <td>20.077592</td>\n",
              "    </tr>\n",
              "    <tr>\n",
              "      <th>49</th>\n",
              "      <td>10.000000</td>\n",
              "      <td>19.757564</td>\n",
              "      <td>20.469911</td>\n",
              "    </tr>\n",
              "  </tbody>\n",
              "</table>\n",
              "</div>"
            ],
            "text/plain": [
              "            x          y   y_tahmin\n",
              "0    0.000000   0.674801   1.246264\n",
              "1    0.204082   1.195954   1.638583\n",
              "2    0.408163   1.912698   2.030902\n",
              "3    0.612245   1.734304   2.423222\n",
              "4    0.816327   1.897506   2.815541\n",
              "5    1.020408   3.356928   3.207860\n",
              "6    1.224490   1.977503   3.600180\n",
              "7    1.428571   4.138739   3.992499\n",
              "8    1.632653   4.256125   4.384818\n",
              "9    1.836735   6.185906   4.777138\n",
              "10   2.040816   6.028081   5.169457\n",
              "11   2.244898   4.349297   5.561776\n",
              "12   2.448980   5.975567   5.954096\n",
              "13   2.653061   7.788968   6.346415\n",
              "14   2.857143   6.357481   6.738734\n",
              "15   3.061224   7.335027   7.131054\n",
              "16   3.265306   7.591936   7.523373\n",
              "17   3.469388   9.088677   7.915692\n",
              "18   3.673469   9.733296   8.308012\n",
              "19   3.877551  12.475276   8.700331\n",
              "20   4.081633  10.360937   9.092650\n",
              "21   4.285714   8.442327   9.484970\n",
              "22   4.489796  11.966107   9.877289\n",
              "23   4.693878  10.879801  10.269608\n",
              "24   4.897959   9.673823  10.661928\n",
              "25   5.102041  10.216194  11.054247\n",
              "26   5.306122  12.129549  11.446566\n",
              "27   5.510204  11.027405  11.838886\n",
              "28   5.714286  12.552053  12.231205\n",
              "29   5.918367  10.415586  12.623524\n",
              "30   6.122449  12.974665  13.015844\n",
              "31   6.326531  13.102033  13.408163\n",
              "32   6.530612  13.704390  13.800482\n",
              "33   6.734694  15.471818  14.192802\n",
              "34   6.938776  14.035058  14.585121\n",
              "35   7.142857  15.350928  14.977440\n",
              "36   7.346939  14.476047  15.369760\n",
              "37   7.551020  16.803210  15.762079\n",
              "38   7.755102  14.878074  16.154398\n",
              "39   7.959184  15.508716  16.546718\n",
              "40   8.163265  16.498015  16.939037\n",
              "41   8.367347  16.304364  17.331356\n",
              "42   8.571429  19.532878  17.723676\n",
              "43   8.775510  18.200235  18.115995\n",
              "44   8.979592  18.823456  18.508314\n",
              "45   9.183673  19.534847  18.900634\n",
              "46   9.387755  18.048224  19.292953\n",
              "47   9.591837  20.244639  19.685272\n",
              "48   9.795918  18.846314  20.077592\n",
              "49  10.000000  19.757564  20.469911"
            ]
          },
          "metadata": {},
          "execution_count": 11
        }
      ]
    },
    {
      "cell_type": "code",
      "metadata": {
        "colab": {
          "base_uri": "https://localhost:8080/",
          "height": 432
        },
        "id": "MeGed8eX5hvK",
        "outputId": "a5b1ab13-1f7e-453d-d65f-b124a0bc7d1c"
      },
      "source": [
        "# ÇOKLU REGRESYON\n",
        "# veri seti linki  https://archive.ics.uci.edu/ml/machine-learning-databases/00320/\n",
        "df=pd.read_csv('/content/student-mat.csv',sep=';')\n",
        "df"
      ],
      "execution_count": null,
      "outputs": [
        {
          "output_type": "error",
          "ename": "FileNotFoundError",
          "evalue": "ignored",
          "traceback": [
            "\u001b[0;31m---------------------------------------------------------------------------\u001b[0m",
            "\u001b[0;31mFileNotFoundError\u001b[0m                         Traceback (most recent call last)",
            "\u001b[0;32m<ipython-input-12-0a1dbbe6a59e>\u001b[0m in \u001b[0;36m<module>\u001b[0;34m()\u001b[0m\n\u001b[1;32m      1\u001b[0m \u001b[0;31m# ÇOKLU REGRESYON\u001b[0m\u001b[0;34m\u001b[0m\u001b[0;34m\u001b[0m\u001b[0;34m\u001b[0m\u001b[0m\n\u001b[1;32m      2\u001b[0m \u001b[0;31m# veri seti linki  https://archive.ics.uci.edu/ml/machine-learning-databases/00320/\u001b[0m\u001b[0;34m\u001b[0m\u001b[0;34m\u001b[0m\u001b[0;34m\u001b[0m\u001b[0m\n\u001b[0;32m----> 3\u001b[0;31m \u001b[0mdf\u001b[0m\u001b[0;34m=\u001b[0m\u001b[0mpd\u001b[0m\u001b[0;34m.\u001b[0m\u001b[0mread_csv\u001b[0m\u001b[0;34m(\u001b[0m\u001b[0;34m'/content/student-mat.csv'\u001b[0m\u001b[0;34m,\u001b[0m\u001b[0msep\u001b[0m\u001b[0;34m=\u001b[0m\u001b[0;34m';'\u001b[0m\u001b[0;34m)\u001b[0m\u001b[0;34m\u001b[0m\u001b[0;34m\u001b[0m\u001b[0m\n\u001b[0m\u001b[1;32m      4\u001b[0m \u001b[0mdf\u001b[0m\u001b[0;34m\u001b[0m\u001b[0;34m\u001b[0m\u001b[0m\n",
            "\u001b[0;32m/usr/local/lib/python3.7/dist-packages/pandas/io/parsers.py\u001b[0m in \u001b[0;36mread_csv\u001b[0;34m(filepath_or_buffer, sep, delimiter, header, names, index_col, usecols, squeeze, prefix, mangle_dupe_cols, dtype, engine, converters, true_values, false_values, skipinitialspace, skiprows, skipfooter, nrows, na_values, keep_default_na, na_filter, verbose, skip_blank_lines, parse_dates, infer_datetime_format, keep_date_col, date_parser, dayfirst, cache_dates, iterator, chunksize, compression, thousands, decimal, lineterminator, quotechar, quoting, doublequote, escapechar, comment, encoding, dialect, error_bad_lines, warn_bad_lines, delim_whitespace, low_memory, memory_map, float_precision)\u001b[0m\n\u001b[1;32m    686\u001b[0m     )\n\u001b[1;32m    687\u001b[0m \u001b[0;34m\u001b[0m\u001b[0m\n\u001b[0;32m--> 688\u001b[0;31m     \u001b[0;32mreturn\u001b[0m \u001b[0m_read\u001b[0m\u001b[0;34m(\u001b[0m\u001b[0mfilepath_or_buffer\u001b[0m\u001b[0;34m,\u001b[0m \u001b[0mkwds\u001b[0m\u001b[0;34m)\u001b[0m\u001b[0;34m\u001b[0m\u001b[0;34m\u001b[0m\u001b[0m\n\u001b[0m\u001b[1;32m    689\u001b[0m \u001b[0;34m\u001b[0m\u001b[0m\n\u001b[1;32m    690\u001b[0m \u001b[0;34m\u001b[0m\u001b[0m\n",
            "\u001b[0;32m/usr/local/lib/python3.7/dist-packages/pandas/io/parsers.py\u001b[0m in \u001b[0;36m_read\u001b[0;34m(filepath_or_buffer, kwds)\u001b[0m\n\u001b[1;32m    452\u001b[0m \u001b[0;34m\u001b[0m\u001b[0m\n\u001b[1;32m    453\u001b[0m     \u001b[0;31m# Create the parser.\u001b[0m\u001b[0;34m\u001b[0m\u001b[0;34m\u001b[0m\u001b[0;34m\u001b[0m\u001b[0m\n\u001b[0;32m--> 454\u001b[0;31m     \u001b[0mparser\u001b[0m \u001b[0;34m=\u001b[0m \u001b[0mTextFileReader\u001b[0m\u001b[0;34m(\u001b[0m\u001b[0mfp_or_buf\u001b[0m\u001b[0;34m,\u001b[0m \u001b[0;34m**\u001b[0m\u001b[0mkwds\u001b[0m\u001b[0;34m)\u001b[0m\u001b[0;34m\u001b[0m\u001b[0;34m\u001b[0m\u001b[0m\n\u001b[0m\u001b[1;32m    455\u001b[0m \u001b[0;34m\u001b[0m\u001b[0m\n\u001b[1;32m    456\u001b[0m     \u001b[0;32mif\u001b[0m \u001b[0mchunksize\u001b[0m \u001b[0;32mor\u001b[0m \u001b[0miterator\u001b[0m\u001b[0;34m:\u001b[0m\u001b[0;34m\u001b[0m\u001b[0;34m\u001b[0m\u001b[0m\n",
            "\u001b[0;32m/usr/local/lib/python3.7/dist-packages/pandas/io/parsers.py\u001b[0m in \u001b[0;36m__init__\u001b[0;34m(self, f, engine, **kwds)\u001b[0m\n\u001b[1;32m    946\u001b[0m             \u001b[0mself\u001b[0m\u001b[0;34m.\u001b[0m\u001b[0moptions\u001b[0m\u001b[0;34m[\u001b[0m\u001b[0;34m\"has_index_names\"\u001b[0m\u001b[0;34m]\u001b[0m \u001b[0;34m=\u001b[0m \u001b[0mkwds\u001b[0m\u001b[0;34m[\u001b[0m\u001b[0;34m\"has_index_names\"\u001b[0m\u001b[0;34m]\u001b[0m\u001b[0;34m\u001b[0m\u001b[0;34m\u001b[0m\u001b[0m\n\u001b[1;32m    947\u001b[0m \u001b[0;34m\u001b[0m\u001b[0m\n\u001b[0;32m--> 948\u001b[0;31m         \u001b[0mself\u001b[0m\u001b[0;34m.\u001b[0m\u001b[0m_make_engine\u001b[0m\u001b[0;34m(\u001b[0m\u001b[0mself\u001b[0m\u001b[0;34m.\u001b[0m\u001b[0mengine\u001b[0m\u001b[0;34m)\u001b[0m\u001b[0;34m\u001b[0m\u001b[0;34m\u001b[0m\u001b[0m\n\u001b[0m\u001b[1;32m    949\u001b[0m \u001b[0;34m\u001b[0m\u001b[0m\n\u001b[1;32m    950\u001b[0m     \u001b[0;32mdef\u001b[0m \u001b[0mclose\u001b[0m\u001b[0;34m(\u001b[0m\u001b[0mself\u001b[0m\u001b[0;34m)\u001b[0m\u001b[0;34m:\u001b[0m\u001b[0;34m\u001b[0m\u001b[0;34m\u001b[0m\u001b[0m\n",
            "\u001b[0;32m/usr/local/lib/python3.7/dist-packages/pandas/io/parsers.py\u001b[0m in \u001b[0;36m_make_engine\u001b[0;34m(self, engine)\u001b[0m\n\u001b[1;32m   1178\u001b[0m     \u001b[0;32mdef\u001b[0m \u001b[0m_make_engine\u001b[0m\u001b[0;34m(\u001b[0m\u001b[0mself\u001b[0m\u001b[0;34m,\u001b[0m \u001b[0mengine\u001b[0m\u001b[0;34m=\u001b[0m\u001b[0;34m\"c\"\u001b[0m\u001b[0;34m)\u001b[0m\u001b[0;34m:\u001b[0m\u001b[0;34m\u001b[0m\u001b[0;34m\u001b[0m\u001b[0m\n\u001b[1;32m   1179\u001b[0m         \u001b[0;32mif\u001b[0m \u001b[0mengine\u001b[0m \u001b[0;34m==\u001b[0m \u001b[0;34m\"c\"\u001b[0m\u001b[0;34m:\u001b[0m\u001b[0;34m\u001b[0m\u001b[0;34m\u001b[0m\u001b[0m\n\u001b[0;32m-> 1180\u001b[0;31m             \u001b[0mself\u001b[0m\u001b[0;34m.\u001b[0m\u001b[0m_engine\u001b[0m \u001b[0;34m=\u001b[0m \u001b[0mCParserWrapper\u001b[0m\u001b[0;34m(\u001b[0m\u001b[0mself\u001b[0m\u001b[0;34m.\u001b[0m\u001b[0mf\u001b[0m\u001b[0;34m,\u001b[0m \u001b[0;34m**\u001b[0m\u001b[0mself\u001b[0m\u001b[0;34m.\u001b[0m\u001b[0moptions\u001b[0m\u001b[0;34m)\u001b[0m\u001b[0;34m\u001b[0m\u001b[0;34m\u001b[0m\u001b[0m\n\u001b[0m\u001b[1;32m   1181\u001b[0m         \u001b[0;32melse\u001b[0m\u001b[0;34m:\u001b[0m\u001b[0;34m\u001b[0m\u001b[0;34m\u001b[0m\u001b[0m\n\u001b[1;32m   1182\u001b[0m             \u001b[0;32mif\u001b[0m \u001b[0mengine\u001b[0m \u001b[0;34m==\u001b[0m \u001b[0;34m\"python\"\u001b[0m\u001b[0;34m:\u001b[0m\u001b[0;34m\u001b[0m\u001b[0;34m\u001b[0m\u001b[0m\n",
            "\u001b[0;32m/usr/local/lib/python3.7/dist-packages/pandas/io/parsers.py\u001b[0m in \u001b[0;36m__init__\u001b[0;34m(self, src, **kwds)\u001b[0m\n\u001b[1;32m   2008\u001b[0m         \u001b[0mkwds\u001b[0m\u001b[0;34m[\u001b[0m\u001b[0;34m\"usecols\"\u001b[0m\u001b[0;34m]\u001b[0m \u001b[0;34m=\u001b[0m \u001b[0mself\u001b[0m\u001b[0;34m.\u001b[0m\u001b[0musecols\u001b[0m\u001b[0;34m\u001b[0m\u001b[0;34m\u001b[0m\u001b[0m\n\u001b[1;32m   2009\u001b[0m \u001b[0;34m\u001b[0m\u001b[0m\n\u001b[0;32m-> 2010\u001b[0;31m         \u001b[0mself\u001b[0m\u001b[0;34m.\u001b[0m\u001b[0m_reader\u001b[0m \u001b[0;34m=\u001b[0m \u001b[0mparsers\u001b[0m\u001b[0;34m.\u001b[0m\u001b[0mTextReader\u001b[0m\u001b[0;34m(\u001b[0m\u001b[0msrc\u001b[0m\u001b[0;34m,\u001b[0m \u001b[0;34m**\u001b[0m\u001b[0mkwds\u001b[0m\u001b[0;34m)\u001b[0m\u001b[0;34m\u001b[0m\u001b[0;34m\u001b[0m\u001b[0m\n\u001b[0m\u001b[1;32m   2011\u001b[0m         \u001b[0mself\u001b[0m\u001b[0;34m.\u001b[0m\u001b[0munnamed_cols\u001b[0m \u001b[0;34m=\u001b[0m \u001b[0mself\u001b[0m\u001b[0;34m.\u001b[0m\u001b[0m_reader\u001b[0m\u001b[0;34m.\u001b[0m\u001b[0munnamed_cols\u001b[0m\u001b[0;34m\u001b[0m\u001b[0;34m\u001b[0m\u001b[0m\n\u001b[1;32m   2012\u001b[0m \u001b[0;34m\u001b[0m\u001b[0m\n",
            "\u001b[0;32mpandas/_libs/parsers.pyx\u001b[0m in \u001b[0;36mpandas._libs.parsers.TextReader.__cinit__\u001b[0;34m()\u001b[0m\n",
            "\u001b[0;32mpandas/_libs/parsers.pyx\u001b[0m in \u001b[0;36mpandas._libs.parsers.TextReader._setup_parser_source\u001b[0;34m()\u001b[0m\n",
            "\u001b[0;31mFileNotFoundError\u001b[0m: [Errno 2] No such file or directory: '/content/student-mat.csv'"
          ]
        }
      ]
    },
    {
      "cell_type": "code",
      "metadata": {
        "id": "cauBX80PdYs8"
      },
      "source": [
        "from google.colab import drive\n",
        "drive.mount('/content/drive')"
      ],
      "execution_count": null,
      "outputs": []
    },
    {
      "cell_type": "code",
      "metadata": {
        "id": "GIf1vbGD6412"
      },
      "source": [
        "# Başarı durumuna etki eden öznitelikleri çıkarıcaz\n",
        "df = df[['G1','G2','G3','studytime','failures','absences','age']]\n",
        "df.head()"
      ],
      "execution_count": null,
      "outputs": []
    },
    {
      "cell_type": "code",
      "metadata": {
        "id": "RoALSfAE7YeD"
      },
      "source": [
        "# öznitelik ismi değiştirme\n",
        "df.rename(columns={'G1':'Quiz1','G2':'Vize','G3':'Final','studytime':'Çalışma Zamanı','failures':'Başarısızlık','absences':'Devam Durumu','age':'Yaş'},inplace=True)\n",
        "df.head()"
      ],
      "execution_count": null,
      "outputs": []
    },
    {
      "cell_type": "code",
      "metadata": {
        "id": "w3Hh5i4G79B9"
      },
      "source": [
        "df.dtypes"
      ],
      "execution_count": null,
      "outputs": []
    },
    {
      "cell_type": "code",
      "metadata": {
        "id": "IRbp205l85yO"
      },
      "source": [
        "# veri setinden final i çıkartalım\n",
        "final=np.array(df['Final'])   # final özniteliğine ait verileri dizi haline getir\n",
        "veri = np.array(df.drop('Final',axis=1))  # final özniteliğini axis=1 sütunu sil, kalan verileri diziye dönüştür\n",
        "veri"
      ],
      "execution_count": null,
      "outputs": []
    },
    {
      "cell_type": "code",
      "metadata": {
        "id": "6Ii9O9uD9AkW"
      },
      "source": [
        "from sklearn.linear_model import LinearRegression\n",
        "from sklearn.metrics import r2_score, mean_absolute_error, mean_squared_error\n",
        "from sklearn.model_selection import train_test_split"
      ],
      "execution_count": null,
      "outputs": []
    },
    {
      "cell_type": "code",
      "metadata": {
        "id": "7k75RK9l9IRH"
      },
      "source": [
        "#  %20 test %80 eğitim    x >> veri  y >> final\n",
        "x_train,x_test,y_train,y_test = train_test_split(veri,final,test_size=0.2,random_state=2)"
      ],
      "execution_count": null,
      "outputs": []
    },
    {
      "cell_type": "code",
      "metadata": {
        "id": "8kRiMVBY7ljB"
      },
      "source": [
        "model = LinearRegression()\n",
        "model.fit(x_train,y_train)"
      ],
      "execution_count": null,
      "outputs": []
    },
    {
      "cell_type": "code",
      "metadata": {
        "id": "_F2E24Ul76FU"
      },
      "source": [
        "model.score(x_test,y_test)  # modelin eğitim verisi üzerindeki doğruluğu"
      ],
      "execution_count": null,
      "outputs": []
    },
    {
      "cell_type": "code",
      "metadata": {
        "id": "LdaK_jsY78uQ"
      },
      "source": [
        "print(\"Katsayı : \", model.coef_)\n",
        "print(\"Sabit : \",model.intercept_)"
      ],
      "execution_count": null,
      "outputs": []
    },
    {
      "cell_type": "code",
      "metadata": {
        "id": "nSR164668OAv"
      },
      "source": [
        "df.head()"
      ],
      "execution_count": null,
      "outputs": []
    },
    {
      "cell_type": "code",
      "metadata": {
        "id": "jpEWfYvW8O1w"
      },
      "source": [
        "# Bilinen değere göre final notu tahmini\n",
        "tahmin = np.array([[15,14,3,0,2,15]])\n",
        "model.predict(tahmin)"
      ],
      "execution_count": null,
      "outputs": []
    },
    {
      "cell_type": "code",
      "metadata": {
        "id": "edSFPgxG8hex"
      },
      "source": [
        ""
      ],
      "execution_count": null,
      "outputs": []
    }
  ]
}