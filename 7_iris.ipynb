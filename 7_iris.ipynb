{
  "nbformat": 4,
  "nbformat_minor": 0,
  "metadata": {
    "colab": {
      "name": "7-iris.ipynb",
      "provenance": [],
      "collapsed_sections": [],
      "authorship_tag": "ABX9TyO9y4Kx/uh+ABA1/sFF03OT",
      "include_colab_link": true
    },
    "kernelspec": {
      "name": "python3",
      "display_name": "Python 3"
    },
    "language_info": {
      "name": "python"
    }
  },
  "cells": [
    {
      "cell_type": "markdown",
      "metadata": {
        "id": "view-in-github",
        "colab_type": "text"
      },
      "source": [
        "<a href=\"https://colab.research.google.com/github/nazlicanalagoz/DataScience_Uni/blob/main/7_iris.ipynb\" target=\"_parent\"><img src=\"https://colab.research.google.com/assets/colab-badge.svg\" alt=\"Open In Colab\"/></a>"
      ]
    },
    {
      "cell_type": "code",
      "metadata": {
        "id": "Pq7Nx362_4I8"
      },
      "source": [
        "import pandas as pd # dataframe manipülasyon işlemleri\n",
        "import numpy as np # vektörel ve matris işlemleri\n",
        "import seaborn as sns # görselleştirme\n",
        "import matplotlib.pyplot as plt # görselleştirme\n",
        "from sklearn.datasets import load_iris\n",
        "from sklearn import cluster\n",
        "#from sklearn.cluster import KMeans\n",
        "from sklearn.metrics import accuracy_score # performans"
      ],
      "execution_count": null,
      "outputs": []
    },
    {
      "cell_type": "code",
      "metadata": {
        "id": "zwRgb9Xo_6su"
      },
      "source": [
        "iris = load_iris()\n",
        "x,y= load_iris(return_X_y=True)   # x özellikleri/ öznitelikleri gösterir. y ise çıktı/hedefi gösterir"
      ],
      "execution_count": null,
      "outputs": []
    },
    {
      "cell_type": "code",
      "metadata": {
        "colab": {
          "base_uri": "https://localhost:8080/"
        },
        "id": "rapzBvgGAs9y",
        "outputId": "8bc662a3-2a37-4fa4-a002-c0168f9ebb47"
      },
      "source": [
        "x.shape  # kaç gözlem ve öznitelik var"
      ],
      "execution_count": null,
      "outputs": [
        {
          "output_type": "execute_result",
          "data": {
            "text/plain": [
              "(150, 4)"
            ]
          },
          "metadata": {},
          "execution_count": 3
        }
      ]
    },
    {
      "cell_type": "code",
      "metadata": {
        "id": "oktrN5aKAv-k"
      },
      "source": [
        "x"
      ],
      "execution_count": null,
      "outputs": []
    },
    {
      "cell_type": "code",
      "metadata": {
        "colab": {
          "base_uri": "https://localhost:8080/"
        },
        "id": "WBzd73VhA1LJ",
        "outputId": "8fa276d9-a5e9-4c83-eff4-78e27d518665"
      },
      "source": [
        "iris.feature_names # öznitelik isimleri"
      ],
      "execution_count": null,
      "outputs": [
        {
          "output_type": "execute_result",
          "data": {
            "text/plain": [
              "['sepal length (cm)',\n",
              " 'sepal width (cm)',\n",
              " 'petal length (cm)',\n",
              " 'petal width (cm)']"
            ]
          },
          "metadata": {},
          "execution_count": 5
        }
      ]
    },
    {
      "cell_type": "code",
      "metadata": {
        "id": "Vr0Y_LvfA8qX",
        "colab": {
          "base_uri": "https://localhost:8080/"
        },
        "outputId": "a868da65-b849-427f-b141-22bf4c4ddbb8"
      },
      "source": [
        "iris.target_names  #hedef değer isimlerimiz"
      ],
      "execution_count": null,
      "outputs": [
        {
          "output_type": "execute_result",
          "data": {
            "text/plain": [
              "array(['setosa', 'versicolor', 'virginica'], dtype='<U10')"
            ]
          },
          "metadata": {},
          "execution_count": 6
        }
      ]
    },
    {
      "cell_type": "code",
      "metadata": {
        "colab": {
          "base_uri": "https://localhost:8080/"
        },
        "id": "b95L7y6Smv-1",
        "outputId": "a382196c-9c2d-42ef-cdc9-9b7bc964e4e6"
      },
      "source": [
        "iris.target"
      ],
      "execution_count": null,
      "outputs": [
        {
          "output_type": "execute_result",
          "data": {
            "text/plain": [
              "array([0, 0, 0, 0, 0, 0, 0, 0, 0, 0, 0, 0, 0, 0, 0, 0, 0, 0, 0, 0, 0, 0,\n",
              "       0, 0, 0, 0, 0, 0, 0, 0, 0, 0, 0, 0, 0, 0, 0, 0, 0, 0, 0, 0, 0, 0,\n",
              "       0, 0, 0, 0, 0, 0, 1, 1, 1, 1, 1, 1, 1, 1, 1, 1, 1, 1, 1, 1, 1, 1,\n",
              "       1, 1, 1, 1, 1, 1, 1, 1, 1, 1, 1, 1, 1, 1, 1, 1, 1, 1, 1, 1, 1, 1,\n",
              "       1, 1, 1, 1, 1, 1, 1, 1, 1, 1, 1, 1, 2, 2, 2, 2, 2, 2, 2, 2, 2, 2,\n",
              "       2, 2, 2, 2, 2, 2, 2, 2, 2, 2, 2, 2, 2, 2, 2, 2, 2, 2, 2, 2, 2, 2,\n",
              "       2, 2, 2, 2, 2, 2, 2, 2, 2, 2, 2, 2, 2, 2, 2, 2, 2, 2])"
            ]
          },
          "metadata": {},
          "execution_count": 7
        }
      ]
    },
    {
      "cell_type": "code",
      "metadata": {
        "id": "elArjEYYm0Qi"
      },
      "source": [
        "# Stilli Grafik Oluşturma\n",
        "plt.style.use('ggplot')"
      ],
      "execution_count": null,
      "outputs": []
    },
    {
      "cell_type": "code",
      "metadata": {
        "colab": {
          "base_uri": "https://localhost:8080/",
          "height": 302
        },
        "id": "mxPWqcnhnBTg",
        "outputId": "6c8a0638-d430-4b62-fbc3-a27c46abca12"
      },
      "source": [
        "plt.scatter(x[:,0],x[:,1],c=y)\n",
        "plt.xlabel(iris.feature_names[0])\n",
        "plt.ylabel(iris.feature_names[1])"
      ],
      "execution_count": null,
      "outputs": [
        {
          "output_type": "execute_result",
          "data": {
            "text/plain": [
              "Text(0, 0.5, 'sepal width (cm)')"
            ]
          },
          "metadata": {},
          "execution_count": 10
        },
        {
          "output_type": "display_data",
          "data": {
            "image/png": "[encoded data removed]",
            "text/plain": [
              "<Figure size 432x288 with 1 Axes>"
            ]
          },
          "metadata": {}
        }
      ]
    },
    {
      "cell_type": "code",
      "metadata": {
        "colab": {
          "base_uri": "https://localhost:8080/",
          "height": 340
        },
        "id": "R1jLZ6BInOKL",
        "outputId": "7eeda452-9a4f-453b-c07c-8c8b6145a196"
      },
      "source": [
        "# Seaborn Görselleştirme\n",
        "sns.scatterplot(x[:,0],x[:,1],hue=y)"
      ],
      "execution_count": null,
      "outputs": [
        {
          "output_type": "stream",
          "name": "stderr",
          "text": [
            "/usr/local/lib/python3.7/dist-packages/seaborn/_decorators.py:43: FutureWarning: Pass the following variables as keyword args: x, y. From version 0.12, the only valid positional argument will be `data`, and passing other arguments without an explicit keyword will result in an error or misinterpretation.\n",
            "  FutureWarning\n"
          ]
        },
        {
          "output_type": "execute_result",
          "data": {
            "text/plain": [
              "<matplotlib.axes._subplots.AxesSubplot at 0x7f230ae16510>"
            ]
          },
          "metadata": {},
          "execution_count": 11
        },
        {
          "output_type": "display_data",
          "data": {
            "image/png": "[encoded data removed]",
            "text/plain": [
              "<Figure size 432x288 with 1 Axes>"
            ]
          },
          "metadata": {}
        }
      ]
    },
    {
      "cell_type": "code",
      "metadata": {
        "id": "fTm4buDUnuiy"
      },
      "source": [
        "# kümeleme algoritmasını seç ve küme sayısını belirlememiz\n",
        "kmeans= cluster.KMeans(n_clusters=3, random_state=42)   #  3 küme, 42 de diğer çalışmalarda aynı sonuç çıkması için"
      ],
      "execution_count": null,
      "outputs": []
    },
    {
      "cell_type": "code",
      "metadata": {
        "colab": {
          "base_uri": "https://localhost:8080/",
          "height": 299
        },
        "id": "_6eOhRJ_n_WR",
        "outputId": "5455f2e1-539f-4b88-f625-6937ed679992"
      },
      "source": [
        "# Elbow Methodu\n",
        "# Küme sayısının daha doğru tespiti için kullanılıyor.\n",
        "Error =[]\n",
        "for i in range(1, 11):\n",
        "    kmeans = cluster.KMeans(n_clusters = i).fit(x)\n",
        "    kmeans.fit(x)\n",
        "    Error.append(kmeans.inertia_)\n",
        "import matplotlib.pyplot as plt\n",
        "plt.plot(range(1, 11), Error)\n",
        "plt.title('Elbow method')\n",
        "plt.xlabel('No of clusters')\n",
        "plt.ylabel('Error')\n",
        "plt.show()"
      ],
      "execution_count": null,
      "outputs": [
        {
          "output_type": "display_data",
          "data": {
            "image/png": "[encoded data removed]",
            "text/plain": [
              "<Figure size 432x288 with 1 Axes>"
            ]
          },
          "metadata": {}
        }
      ]
    },
    {
      "cell_type": "code",
      "metadata": {
        "colab": {
          "base_uri": "https://localhost:8080/"
        },
        "id": "66IJgtQcoT4n",
        "outputId": "ef2e0226-8a17-4a94-8012-86024d385006"
      },
      "source": [
        "kmeans.fit_predict(x)   # öznitelikleri uyumlaştırma"
      ],
      "execution_count": null,
      "outputs": [
        {
          "output_type": "execute_result",
          "data": {
            "text/plain": [
              "array([9, 1, 1, 1, 9, 5, 1, 9, 1, 1, 5, 9, 1, 1, 5, 5, 5, 9, 5, 9, 9, 9,\n",
              "       1, 9, 9, 1, 9, 9, 9, 1, 1, 9, 5, 5, 1, 1, 9, 9, 1, 9, 9, 1, 1, 9,\n",
              "       9, 1, 9, 1, 9, 9, 3, 3, 3, 2, 3, 2, 3, 7, 3, 2, 7, 2, 2, 3, 2, 3,\n",
              "       2, 2, 3, 2, 8, 2, 8, 3, 3, 3, 3, 3, 3, 7, 2, 7, 2, 8, 2, 3, 3, 3,\n",
              "       2, 2, 2, 3, 2, 7, 2, 2, 2, 3, 7, 2, 4, 8, 0, 4, 4, 6, 2, 0, 0, 6,\n",
              "       4, 8, 4, 8, 8, 4, 4, 6, 6, 8, 4, 8, 6, 8, 4, 0, 8, 8, 4, 0, 0, 6,\n",
              "       4, 8, 8, 6, 4, 4, 8, 4, 4, 4, 8, 4, 4, 4, 8, 4, 4, 8], dtype=int32)"
            ]
          },
          "metadata": {},
          "execution_count": 16
        }
      ]
    },
    {
      "cell_type": "code",
      "metadata": {
        "colab": {
          "base_uri": "https://localhost:8080/"
        },
        "id": "Hb90rXJcoo5j",
        "outputId": "9b4663fc-3873-4437-95f5-1644302de76e"
      },
      "source": [
        "# Kümelerin orta noktasını bulma     Her bir elemanın kümenin orta noktasına olan uzaklığını verir\n",
        "kmeans.cluster_centers_.round(2)  # virgülden sonra 2 basamak yuvarla   "
      ],
      "execution_count": null,
      "outputs": [
        {
          "output_type": "execute_result",
          "data": {
            "text/plain": [
              "array([[7.15, 2.9 , 5.98, 1.83],\n",
              "       [4.68, 3.08, 1.38, 0.2 ],\n",
              "       [5.62, 2.71, 4.12, 1.29],\n",
              "       [6.43, 2.94, 4.59, 1.44],\n",
              "       [6.56, 3.11, 5.52, 2.18],\n",
              "       [5.51, 4.  , 1.47, 0.28],\n",
              "       [7.64, 3.23, 6.5 , 2.2 ],\n",
              "       [5.2 , 2.37, 3.38, 1.02],\n",
              "       [6.03, 2.73, 5.03, 1.79],\n",
              "       [5.1 , 3.51, 1.53, 0.27]])"
            ]
          },
          "metadata": {},
          "execution_count": 17
        }
      ]
    },
    {
      "cell_type": "code",
      "metadata": {
        "colab": {
          "base_uri": "https://localhost:8080/"
        },
        "id": "zw2YIlqFpdBE",
        "outputId": "46770212-3a1d-4954-b2fd-4d857fc4cf51"
      },
      "source": [
        "# x verilerini hangi kümelere aktarmışız\n",
        "kmeans.labels_   "
      ],
      "execution_count": null,
      "outputs": [
        {
          "output_type": "execute_result",
          "data": {
            "text/plain": [
              "array([9, 1, 1, 1, 9, 5, 1, 9, 1, 1, 5, 9, 1, 1, 5, 5, 5, 9, 5, 9, 9, 9,\n",
              "       1, 9, 9, 1, 9, 9, 9, 1, 1, 9, 5, 5, 1, 1, 9, 9, 1, 9, 9, 1, 1, 9,\n",
              "       9, 1, 9, 1, 9, 9, 3, 3, 3, 2, 3, 2, 3, 7, 3, 2, 7, 2, 2, 3, 2, 3,\n",
              "       2, 2, 3, 2, 8, 2, 8, 3, 3, 3, 3, 3, 3, 7, 2, 7, 2, 8, 2, 3, 3, 3,\n",
              "       2, 2, 2, 3, 2, 7, 2, 2, 2, 3, 7, 2, 4, 8, 0, 4, 4, 6, 2, 0, 0, 6,\n",
              "       4, 8, 4, 8, 8, 4, 4, 6, 6, 8, 4, 8, 6, 8, 4, 0, 8, 8, 4, 0, 0, 6,\n",
              "       4, 8, 8, 6, 4, 4, 8, 4, 4, 4, 8, 4, 4, 4, 8, 4, 4, 8], dtype=int32)"
            ]
          },
          "metadata": {},
          "execution_count": 18
        }
      ]
    },
    {
      "cell_type": "code",
      "metadata": {
        "colab": {
          "base_uri": "https://localhost:8080/",
          "height": 286
        },
        "id": "Da-UGWInpzSd",
        "outputId": "a23ef4cf-3c6f-43f6-b43a-5e91433d1e82"
      },
      "source": [
        "fig=plt.figure()\n",
        "ax=fig.add_subplot(121)  # 1 satır 2 sütun\n",
        "ax.scatter(x[:,0],x[:,1],c=kmeans.labels_) #kmeans sonucu kümeleme  # [:,0] >> tüm satırları ve 0. sütunu al\n",
        "\n",
        "ax=fig.add_subplot(122)  #1 satır 2 sütun ayır 2.sini çiz\n",
        "ax.scatter(x[:,0],x[:,1],c=y)   # gerçek kümeleme"
      ],
      "execution_count": null,
      "outputs": [
        {
          "output_type": "execute_result",
          "data": {
            "text/plain": [
              "<matplotlib.collections.PathCollection at 0x7f22fe915a10>"
            ]
          },
          "metadata": {},
          "execution_count": 19
        },
        {
          "output_type": "display_data",
          "data": {
            "image/png": "[encoded data removed]",
            "text/plain": [
              "<Figure size 432x288 with 2 Axes>"
            ]
          },
          "metadata": {}
        }
      ]
    },
    {
      "cell_type": "code",
      "metadata": {
        "colab": {
          "base_uri": "https://localhost:8080/",
          "height": 286
        },
        "id": "UzUQxHl4qr8G",
        "outputId": "c838ae58-0e5e-4c2a-c84f-b5653c050dca"
      },
      "source": [
        "plt.scatter(x[:,0],x[:,1],c=y)  # gerçek kümeleme\n",
        "plt.scatter(kmeans.cluster_centers_[:,0],kmeans.cluster_centers_[:,1],s=100,c='blue')  # küme orta nokta merkezleri"
      ],
      "execution_count": null,
      "outputs": [
        {
          "output_type": "execute_result",
          "data": {
            "text/plain": [
              "<matplotlib.collections.PathCollection at 0x7f22fe7e0350>"
            ]
          },
          "metadata": {},
          "execution_count": 21
        },
        {
          "output_type": "display_data",
          "data": {
            "image/png": "[encoded data removed]",
            "text/plain": [
              "<Figure size 432x288 with 1 Axes>"
            ]
          },
          "metadata": {}
        }
      ]
    },
    {
      "cell_type": "code",
      "metadata": {
        "colab": {
          "base_uri": "https://localhost:8080/"
        },
        "id": "Hcb-d_OarDke",
        "outputId": "56132d7b-1e89-4f31-f571-983c159530ad"
      },
      "source": [
        "# Performans ölçümü (doğruluk Skoru)\n",
        "accuracy_score(y,kmeans.labels_)"
      ],
      "execution_count": null,
      "outputs": [
        {
          "output_type": "execute_result",
          "data": {
            "text/plain": [
              "0.006666666666666667"
            ]
          },
          "metadata": {},
          "execution_count": 22
        }
      ]
    },
    {
      "cell_type": "markdown",
      "metadata": {
        "id": "ThzjUXZYsTSq"
      },
      "source": [
        "**Support Vector Machine (SVM)**"
      ]
    },
    {
      "cell_type": "code",
      "metadata": {
        "id": "YPOh2GKEsYyT"
      },
      "source": [
        "# Modül ekleme\n",
        "import pandas as pd\n",
        "import numpy as np\n",
        "import matplotlib.pyplot as plt\n",
        "# from sklearn import svm, datasets\n",
        "from sklearn import svm    # destek vektör makinaları\n",
        "from sklearn.model_selection import train_test_split  # veri setini eğitim ve test olarak ayırmak için\n",
        "from sklearn.metrics import (accuracy_score, confusion_matrix, classification_report)"
      ],
      "execution_count": null,
      "outputs": []
    },
    {
      "cell_type": "code",
      "metadata": {
        "id": "MxlmNevssf74"
      },
      "source": [
        "# veri seti yükleme\n",
        "from sklearn import datasets\n",
        "iris = datasets.load_iris()"
      ],
      "execution_count": null,
      "outputs": []
    },
    {
      "cell_type": "code",
      "metadata": {
        "id": "f_x3tMieszUY"
      },
      "source": [
        "iris_x,iris_y = datasets.load_iris(return_X_y=True)  # öznitelik (x) dizi olarak almamızı sağlıyor, y hedef(çıktı)"
      ],
      "execution_count": null,
      "outputs": []
    },
    {
      "cell_type": "code",
      "metadata": {
        "colab": {
          "base_uri": "https://localhost:8080/",
          "height": 206
        },
        "id": "_q3DXtUhtDK7",
        "outputId": "ad71ebf2-33f4-48eb-a732-44a9aacbdf60"
      },
      "source": [
        "# sklearn ile yüklenen dosya verilerini dataframe dönüştürme\n",
        "df= pd.DataFrame(iris.data)\n",
        "df.head()"
      ],
      "execution_count": null,
      "outputs": [
        {
          "output_type": "execute_result",
          "data": {
            "text/html": [
              "<div>\n",
              "<style scoped>\n",
              "    .dataframe tbody tr th:only-of-type {\n",
              "        vertical-align: middle;\n",
              "    }\n",
              "\n",
              "    .dataframe tbody tr th {\n",
              "        vertical-align: top;\n",
              "    }\n",
              "\n",
              "    .dataframe thead th {\n",
              "        text-align: right;\n",
              "    }\n",
              "</style>\n",
              "<table border=\"1\" class=\"dataframe\">\n",
              "  <thead>\n",
              "    <tr style=\"text-align: right;\">\n",
              "      <th></th>\n",
              "      <th>0</th>\n",
              "      <th>1</th>\n",
              "      <th>2</th>\n",
              "      <th>3</th>\n",
              "    </tr>\n",
              "  </thead>\n",
              "  <tbody>\n",
              "    <tr>\n",
              "      <th>0</th>\n",
              "      <td>5.1</td>\n",
              "      <td>3.5</td>\n",
              "      <td>1.4</td>\n",
              "      <td>0.2</td>\n",
              "    </tr>\n",
              "    <tr>\n",
              "      <th>1</th>\n",
              "      <td>4.9</td>\n",
              "      <td>3.0</td>\n",
              "      <td>1.4</td>\n",
              "      <td>0.2</td>\n",
              "    </tr>\n",
              "    <tr>\n",
              "      <th>2</th>\n",
              "      <td>4.7</td>\n",
              "      <td>3.2</td>\n",
              "      <td>1.3</td>\n",
              "      <td>0.2</td>\n",
              "    </tr>\n",
              "    <tr>\n",
              "      <th>3</th>\n",
              "      <td>4.6</td>\n",
              "      <td>3.1</td>\n",
              "      <td>1.5</td>\n",
              "      <td>0.2</td>\n",
              "    </tr>\n",
              "    <tr>\n",
              "      <th>4</th>\n",
              "      <td>5.0</td>\n",
              "      <td>3.6</td>\n",
              "      <td>1.4</td>\n",
              "      <td>0.2</td>\n",
              "    </tr>\n",
              "  </tbody>\n",
              "</table>\n",
              "</div>"
            ],
            "text/plain": [
              "     0    1    2    3\n",
              "0  5.1  3.5  1.4  0.2\n",
              "1  4.9  3.0  1.4  0.2\n",
              "2  4.7  3.2  1.3  0.2\n",
              "3  4.6  3.1  1.5  0.2\n",
              "4  5.0  3.6  1.4  0.2"
            ]
          },
          "metadata": {},
          "execution_count": 29
        }
      ]
    },
    {
      "cell_type": "code",
      "metadata": {
        "colab": {
          "base_uri": "https://localhost:8080/"
        },
        "id": "TZvFmxLTtP2F",
        "outputId": "e00a0a34-07f2-464a-c100-ac90ab145ab4"
      },
      "source": [
        "iris_y"
      ],
      "execution_count": null,
      "outputs": [
        {
          "output_type": "execute_result",
          "data": {
            "text/plain": [
              "array([0, 0, 0, 0, 0, 0, 0, 0, 0, 0, 0, 0, 0, 0, 0, 0, 0, 0, 0, 0, 0, 0,\n",
              "       0, 0, 0, 0, 0, 0, 0, 0, 0, 0, 0, 0, 0, 0, 0, 0, 0, 0, 0, 0, 0, 0,\n",
              "       0, 0, 0, 0, 0, 0, 1, 1, 1, 1, 1, 1, 1, 1, 1, 1, 1, 1, 1, 1, 1, 1,\n",
              "       1, 1, 1, 1, 1, 1, 1, 1, 1, 1, 1, 1, 1, 1, 1, 1, 1, 1, 1, 1, 1, 1,\n",
              "       1, 1, 1, 1, 1, 1, 1, 1, 1, 1, 1, 1, 2, 2, 2, 2, 2, 2, 2, 2, 2, 2,\n",
              "       2, 2, 2, 2, 2, 2, 2, 2, 2, 2, 2, 2, 2, 2, 2, 2, 2, 2, 2, 2, 2, 2,\n",
              "       2, 2, 2, 2, 2, 2, 2, 2, 2, 2, 2, 2, 2, 2, 2, 2, 2, 2])"
            ]
          },
          "metadata": {},
          "execution_count": 30
        }
      ]
    },
    {
      "cell_type": "code",
      "metadata": {
        "id": "sbJc1DanvHCC"
      },
      "source": [
        "iris_x"
      ],
      "execution_count": null,
      "outputs": []
    },
    {
      "cell_type": "code",
      "metadata": {
        "colab": {
          "base_uri": "https://localhost:8080/"
        },
        "id": "KQ-5zS_jtV40",
        "outputId": "f291fedc-b529-4d0c-c12d-b8ac655b5c67"
      },
      "source": [
        "iris.target_names"
      ],
      "execution_count": null,
      "outputs": [
        {
          "output_type": "execute_result",
          "data": {
            "text/plain": [
              "array(['setosa', 'versicolor', 'virginica'], dtype='<U10')"
            ]
          },
          "metadata": {},
          "execution_count": 31
        }
      ]
    },
    {
      "cell_type": "code",
      "metadata": {
        "colab": {
          "base_uri": "https://localhost:8080/"
        },
        "id": "N9mEZN-ztfcb",
        "outputId": "45af84b2-3d8b-4428-edc3-607c67e58968"
      },
      "source": [
        "iris.feature_names"
      ],
      "execution_count": null,
      "outputs": [
        {
          "output_type": "execute_result",
          "data": {
            "text/plain": [
              "['sepal length (cm)',\n",
              " 'sepal width (cm)',\n",
              " 'petal length (cm)',\n",
              " 'petal width (cm)']"
            ]
          },
          "metadata": {},
          "execution_count": 32
        }
      ]
    },
    {
      "cell_type": "code",
      "metadata": {
        "id": "MMMInfvHtiau"
      },
      "source": [
        "# SVM MODELİNİ ÇAĞIR\n",
        "iris_model= svm.SVC()"
      ],
      "execution_count": null,
      "outputs": []
    },
    {
      "cell_type": "code",
      "metadata": {
        "colab": {
          "base_uri": "https://localhost:8080/"
        },
        "id": "j0EFeVZ8trzK",
        "outputId": "ed8bd453-4243-4cbc-ddf8-4688055e0276"
      },
      "source": [
        "iris_model.fit(iris_x, iris_y)  #iris modelini eğitiyoruz"
      ],
      "execution_count": null,
      "outputs": [
        {
          "output_type": "execute_result",
          "data": {
            "text/plain": [
              "SVC()"
            ]
          },
          "metadata": {},
          "execution_count": 37
        }
      ]
    },
    {
      "cell_type": "code",
      "metadata": {
        "colab": {
          "base_uri": "https://localhost:8080/"
        },
        "id": "RHzYw-KWtybB",
        "outputId": "420b1258-038d-4429-b92f-d60e8aeb4aa8"
      },
      "source": [
        "iris_x[3]  #3.satırı ver"
      ],
      "execution_count": null,
      "outputs": [
        {
          "output_type": "execute_result",
          "data": {
            "text/plain": [
              "array([4.6, 3.1, 1.5, 0.2])"
            ]
          },
          "metadata": {},
          "execution_count": 38
        }
      ]
    },
    {
      "cell_type": "code",
      "metadata": {
        "colab": {
          "base_uri": "https://localhost:8080/"
        },
        "id": "7fnK1u3tu-Hx",
        "outputId": "274fab48-6f27-4e37-836a-15c2caa4a1fb"
      },
      "source": [
        "iris_y[3]"
      ],
      "execution_count": null,
      "outputs": [
        {
          "output_type": "execute_result",
          "data": {
            "text/plain": [
              "0"
            ]
          },
          "metadata": {},
          "execution_count": 39
        }
      ]
    },
    {
      "cell_type": "code",
      "metadata": {
        "colab": {
          "base_uri": "https://localhost:8080/",
          "height": 35
        },
        "id": "-1CjmZ5TvFbx",
        "outputId": "91c6f67b-85f7-4fb6-a552-7ed5164e4003"
      },
      "source": [
        "iris.target_names[iris_y[3]]"
      ],
      "execution_count": null,
      "outputs": [
        {
          "output_type": "execute_result",
          "data": {
            "application/vnd.google.colaboratory.intrinsic+json": {
              "type": "string"
            },
            "text/plain": [
              "'setosa'"
            ]
          },
          "metadata": {},
          "execution_count": 41
        }
      ]
    },
    {
      "cell_type": "code",
      "metadata": {
        "colab": {
          "base_uri": "https://localhost:8080/"
        },
        "id": "Lv8-hkW6vMcN",
        "outputId": "e582f2ba-72f0-452f-9212-670a03652946"
      },
      "source": [
        "y_tahmin = iris_model.predict(iris_x[3].reshape(1,-1))    # predict model tahmini için kullanılır\n",
        "y_tahmin"
      ],
      "execution_count": null,
      "outputs": [
        {
          "output_type": "execute_result",
          "data": {
            "text/plain": [
              "array([0])"
            ]
          },
          "metadata": {},
          "execution_count": 45
        }
      ]
    },
    {
      "cell_type": "markdown",
      "metadata": {
        "id": "BOf6ty6ivjLm"
      },
      "source": [
        "**Veri Seti %80 eğitim ve %20 test olarak bölme işlemi**"
      ]
    },
    {
      "cell_type": "code",
      "metadata": {
        "id": "Vbz2gwxrvpQS"
      },
      "source": [
        "iris_x_egitim,iris_x_test, iris_y_egitim, iris_y_test = train_test_split(iris_x,iris_y,test_size=0.2, random_state=42)"
      ],
      "execution_count": null,
      "outputs": []
    },
    {
      "cell_type": "code",
      "metadata": {
        "id": "7sNjxtm0v5l4"
      },
      "source": [
        "iris_y_predicted= iris_model.predict(iris_x_test)"
      ],
      "execution_count": null,
      "outputs": []
    },
    {
      "cell_type": "code",
      "metadata": {
        "colab": {
          "base_uri": "https://localhost:8080/"
        },
        "id": "UD7tRoOnwJCT",
        "outputId": "17f54bba-2c84-4a8a-877f-9b5cecc9896d"
      },
      "source": [
        "accuracy_score(iris_y_test,iris_y_predicted)"
      ],
      "execution_count": null,
      "outputs": [
        {
          "output_type": "execute_result",
          "data": {
            "text/plain": [
              "1.0"
            ]
          },
          "metadata": {},
          "execution_count": 48
        }
      ]
    },
    {
      "cell_type": "code",
      "metadata": {
        "id": "DLczMld5wONl"
      },
      "source": [
        "iris_y_predicted= iris_model.predict(iris_x)"
      ],
      "execution_count": null,
      "outputs": []
    },
    {
      "cell_type": "code",
      "metadata": {
        "colab": {
          "base_uri": "https://localhost:8080/"
        },
        "id": "DXw5saWDwfNN",
        "outputId": "cd981940-daa0-4539-e0d5-4afae79c7670"
      },
      "source": [
        "accuracy_score(iris_y,iris_y_predicted)"
      ],
      "execution_count": null,
      "outputs": [
        {
          "output_type": "execute_result",
          "data": {
            "text/plain": [
              "0.9733333333333334"
            ]
          },
          "metadata": {},
          "execution_count": 50
        }
      ]
    },
    {
      "cell_type": "code",
      "metadata": {
        "colab": {
          "base_uri": "https://localhost:8080/"
        },
        "id": "jhMjPLxVwhJW",
        "outputId": "a3e6c09e-b6a8-4d82-e1be-32ddae40b4b5"
      },
      "source": [
        "# Confusion Matris\n",
        "confusion_matrix(iris_y,iris_y_predicted)"
      ],
      "execution_count": null,
      "outputs": [
        {
          "output_type": "execute_result",
          "data": {
            "text/plain": [
              "array([[50,  0,  0],\n",
              "       [ 0, 48,  2],\n",
              "       [ 0,  2, 48]])"
            ]
          },
          "metadata": {},
          "execution_count": 51
        }
      ]
    }
  ]
}