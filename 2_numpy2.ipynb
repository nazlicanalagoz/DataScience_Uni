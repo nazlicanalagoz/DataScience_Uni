{
  "nbformat": 4,
  "nbformat_minor": 0,
  "metadata": {
    "colab": {
      "name": "2-numpy2.ipynb",
      "provenance": [],
      "collapsed_sections": [],
      "authorship_tag": "ABX9TyPrb7VQQ9AdEhVdgI/yn6Hm",
      "include_colab_link": true
    },
    "kernelspec": {
      "display_name": "Python 3",
      "name": "python3"
    },
    "language_info": {
      "name": "python"
    }
  },
  "cells": [
    {
      "cell_type": "markdown",
      "metadata": {
        "id": "view-in-github",
        "colab_type": "text"
      },
      "source": [
        "<a href=\"https://colab.research.google.com/github/nazlicanalagoz/DataScience_Uni/blob/main/2_numpy2.ipynb\" target=\"_parent\"><img src=\"https://colab.research.google.com/assets/colab-badge.svg\" alt=\"Open In Colab\"/></a>"
      ]
    },
    {
      "cell_type": "code",
      "metadata": {
        "id": "bKxdZeZJ86Yn"
      },
      "source": [
        "import numpy as np"
      ],
      "execution_count": null,
      "outputs": []
    },
    {
      "cell_type": "code",
      "metadata": {
        "colab": {
          "base_uri": "https://localhost:8080/",
          "height": 35
        },
        "id": "0cVLGZhi9DtF",
        "outputId": "12fc6a54-6652-4bd7-d9f3-ccbd931468ab"
      },
      "source": [
        "# kurulu bir paketin versiyonu\n",
        "np.__version__"
      ],
      "execution_count": null,
      "outputs": [
        {
          "data": {
            "application/vnd.google.colaboratory.intrinsic+json": {
              "type": "string"
            },
            "text/plain": [
              "'1.19.5'"
            ]
          },
          "execution_count": 57,
          "metadata": {},
          "output_type": "execute_result"
        }
      ]
    },
    {
      "cell_type": "code",
      "metadata": {
        "id": "5dLoFJLU9ReU"
      },
      "source": [
        "# modüle ait fonksiyonları listeleme\n",
        "dir(np)"
      ],
      "execution_count": null,
      "outputs": []
    },
    {
      "cell_type": "code",
      "metadata": {
        "id": "e9GyAymI9aVz"
      },
      "source": [
        "# bir fonksiyonun çalışması hakkında bilgi verir\n",
        "np.abs?"
      ],
      "execution_count": null,
      "outputs": []
    },
    {
      "cell_type": "code",
      "metadata": {
        "colab": {
          "base_uri": "https://localhost:8080/"
        },
        "id": "UMce6RxZ9mwS",
        "outputId": "d1e2fbce-0308-4f50-db23-9b8b29a46448"
      },
      "source": [
        "# dizi oluşturma\n",
        "dizi = np.array([2,4,6,8])\n",
        "dizi"
      ],
      "execution_count": null,
      "outputs": [
        {
          "data": {
            "text/plain": [
              "array([2, 4, 6, 8])"
            ]
          },
          "execution_count": 60,
          "metadata": {},
          "output_type": "execute_result"
        }
      ]
    },
    {
      "cell_type": "code",
      "metadata": {
        "colab": {
          "base_uri": "https://localhost:8080/"
        },
        "id": "ijJEXPia-Xfc",
        "outputId": "f97c3e5a-8bdb-472b-8f1c-cead7ddbff66"
      },
      "source": [
        "# matris oluşturma\n",
        "matris = np.array([[1,2,3],[4,5,6],[7,8,9]])\n",
        "matris"
      ],
      "execution_count": null,
      "outputs": [
        {
          "data": {
            "text/plain": [
              "array([[1, 2, 3],\n",
              "       [4, 5, 6],\n",
              "       [7, 8, 9]])"
            ]
          },
          "execution_count": 61,
          "metadata": {},
          "output_type": "execute_result"
        }
      ]
    },
    {
      "cell_type": "code",
      "metadata": {
        "colab": {
          "base_uri": "https://localhost:8080/"
        },
        "id": "4UsOIgFH-_a9",
        "outputId": "3fb8e8aa-1e05-439e-9624-54fadda2e4d8"
      },
      "source": [
        "# liste oluşturma\n",
        "liste = [1,3,5,7,9]\n",
        "liste"
      ],
      "execution_count": null,
      "outputs": [
        {
          "data": {
            "text/plain": [
              "[1, 3, 5, 7, 9]"
            ]
          },
          "execution_count": 62,
          "metadata": {},
          "output_type": "execute_result"
        }
      ]
    },
    {
      "cell_type": "code",
      "metadata": {
        "colab": {
          "base_uri": "https://localhost:8080/"
        },
        "id": "FWG3V1rQ_o3X",
        "outputId": "30201f0a-6e73-4d92-82bd-863ca5d61c42"
      },
      "source": [
        "# array fonksiyonu ile listeyi diziye dönüştürme\n",
        "listedendizi = np.array(liste)\n",
        "listedendizi"
      ],
      "execution_count": null,
      "outputs": [
        {
          "data": {
            "text/plain": [
              "array([1, 3, 5, 7, 9])"
            ]
          },
          "execution_count": 63,
          "metadata": {},
          "output_type": "execute_result"
        }
      ]
    },
    {
      "cell_type": "code",
      "metadata": {
        "colab": {
          "base_uri": "https://localhost:8080/"
        },
        "id": "uRqEoO2i_4Bg",
        "outputId": "299a0ffe-46d2-4f79-9998-3f5fd9477f54"
      },
      "source": [
        "# arange metodu ile dizi oluşturma (başlangıç,bitiş,adım sayısı) bitiş dahil değil\n",
        "dizi1 = np.arange(1,10,2)\n",
        "dizi1"
      ],
      "execution_count": null,
      "outputs": [
        {
          "data": {
            "text/plain": [
              "array([1, 3, 5, 7, 9])"
            ]
          },
          "execution_count": 64,
          "metadata": {},
          "output_type": "execute_result"
        }
      ]
    },
    {
      "cell_type": "code",
      "metadata": {
        "colab": {
          "base_uri": "https://localhost:8080/"
        },
        "id": "l5U3CJ6qAz1A",
        "outputId": "5ac3aa9c-345d-41be-a045-1d05fb82ce79"
      },
      "source": [
        "np.arange(10)"
      ],
      "execution_count": null,
      "outputs": [
        {
          "data": {
            "text/plain": [
              "array([0, 1, 2, 3, 4, 5, 6, 7, 8, 9])"
            ]
          },
          "execution_count": 65,
          "metadata": {},
          "output_type": "execute_result"
        }
      ]
    },
    {
      "cell_type": "code",
      "metadata": {
        "colab": {
          "base_uri": "https://localhost:8080/"
        },
        "id": "6DlmFXBgB6XQ",
        "outputId": "28f85dae-af48-441d-980e-4113e31eb3d0"
      },
      "source": [
        "azalandizi = np.arange(10,1,-1)\n",
        "azalandizi  #tek boyutlu dizi yani vektördür"
      ],
      "execution_count": null,
      "outputs": [
        {
          "data": {
            "text/plain": [
              "array([10,  9,  8,  7,  6,  5,  4,  3,  2])"
            ]
          },
          "execution_count": 66,
          "metadata": {},
          "output_type": "execute_result"
        }
      ]
    },
    {
      "cell_type": "code",
      "metadata": {
        "colab": {
          "base_uri": "https://localhost:8080/"
        },
        "id": "PYP4aDhJCFhP",
        "outputId": "45a0de8f-73cb-4473-e354-bbd20e371ada"
      },
      "source": [
        "# var olan bir diziyi yapılandırma\n",
        "d = np.arange(10).reshape(5,2) #5x2 lik matris yaptı (sözlü sorar)\n",
        "d"
      ],
      "execution_count": null,
      "outputs": [
        {
          "data": {
            "text/plain": [
              "array([[0, 1],\n",
              "       [2, 3],\n",
              "       [4, 5],\n",
              "       [6, 7],\n",
              "       [8, 9]])"
            ]
          },
          "execution_count": 67,
          "metadata": {},
          "output_type": "execute_result"
        }
      ]
    },
    {
      "cell_type": "code",
      "metadata": {
        "colab": {
          "base_uri": "https://localhost:8080/"
        },
        "id": "WTYtegCADMdg",
        "outputId": "44b2ab9e-ddc5-4595-98ac-d17549f69581"
      },
      "source": [
        "# linspace ile dizi oluşturma\n",
        "np.linspace(0,10,20) # 0-10 arasını 20 eşit parçaya böler"
      ],
      "execution_count": null,
      "outputs": [
        {
          "data": {
            "text/plain": [
              "array([ 0.        ,  0.52631579,  1.05263158,  1.57894737,  2.10526316,\n",
              "        2.63157895,  3.15789474,  3.68421053,  4.21052632,  4.73684211,\n",
              "        5.26315789,  5.78947368,  6.31578947,  6.84210526,  7.36842105,\n",
              "        7.89473684,  8.42105263,  8.94736842,  9.47368421, 10.        ])"
            ]
          },
          "execution_count": 68,
          "metadata": {},
          "output_type": "execute_result"
        }
      ]
    },
    {
      "cell_type": "markdown",
      "metadata": {
        "id": "ASOzlte1EzMf"
      },
      "source": [
        "**Özel Dizi ya da Matris oluşturma**"
      ]
    },
    {
      "cell_type": "code",
      "metadata": {
        "colab": {
          "base_uri": "https://localhost:8080/"
        },
        "id": "enDegsIFE0C6",
        "outputId": "118ff64d-0a6b-41d2-eb66-af12f71c1745"
      },
      "source": [
        "# sıfır dizi ya da matris oluşturma\n",
        "sifir = np.zeros(5)\n",
        "sifir"
      ],
      "execution_count": null,
      "outputs": [
        {
          "data": {
            "text/plain": [
              "array([0., 0., 0., 0., 0.])"
            ]
          },
          "execution_count": 69,
          "metadata": {},
          "output_type": "execute_result"
        }
      ]
    },
    {
      "cell_type": "code",
      "metadata": {
        "colab": {
          "base_uri": "https://localhost:8080/"
        },
        "id": "FjoNOvd2FRbd",
        "outputId": "2def8140-f869-4cb0-feeb-227c9849cc25"
      },
      "source": [
        "np.zeros(shape=(3,2)) # 3x2lik bir 0 matrisi"
      ],
      "execution_count": null,
      "outputs": [
        {
          "data": {
            "text/plain": [
              "array([[0., 0.],\n",
              "       [0., 0.],\n",
              "       [0., 0.]])"
            ]
          },
          "execution_count": 70,
          "metadata": {},
          "output_type": "execute_result"
        }
      ]
    },
    {
      "cell_type": "code",
      "metadata": {
        "colab": {
          "base_uri": "https://localhost:8080/"
        },
        "id": "bb-Wq8rqFabC",
        "outputId": "72faa93e-89a1-4625-fea4-cb290aae1b95"
      },
      "source": [
        "# birim matris oluşturma\n",
        "np.eye(4)"
      ],
      "execution_count": null,
      "outputs": [
        {
          "data": {
            "text/plain": [
              "array([[1., 0., 0., 0.],\n",
              "       [0., 1., 0., 0.],\n",
              "       [0., 0., 1., 0.],\n",
              "       [0., 0., 0., 1.]])"
            ]
          },
          "execution_count": 71,
          "metadata": {},
          "output_type": "execute_result"
        }
      ]
    },
    {
      "cell_type": "code",
      "metadata": {
        "colab": {
          "base_uri": "https://localhost:8080/"
        },
        "id": "zrmYRvE2FeMH",
        "outputId": "bfccb24d-d935-4c34-93fa-8521d5a044da"
      },
      "source": [
        "# verilen değerden oluşan bir matris oluşturma\n",
        "np.full(shape=(3,4),fill_value=7)"
      ],
      "execution_count": null,
      "outputs": [
        {
          "data": {
            "text/plain": [
              "array([[7, 7, 7, 7],\n",
              "       [7, 7, 7, 7],\n",
              "       [7, 7, 7, 7]])"
            ]
          },
          "execution_count": 72,
          "metadata": {},
          "output_type": "execute_result"
        }
      ]
    },
    {
      "cell_type": "markdown",
      "metadata": {
        "id": "FR0gT7nuGfLF"
      },
      "source": [
        "**Rastgele Sayı İşlemler**\n",
        "\n"
      ]
    },
    {
      "cell_type": "code",
      "metadata": {
        "colab": {
          "base_uri": "https://localhost:8080/"
        },
        "id": "42UhI9MVGh-o",
        "outputId": "1b61ee61-a110-4122-ddc4-0bbbefca2245"
      },
      "source": [
        "np.random.randint(1,10,4)  # 1 ile 10 arasında rastgele 4 tane tam sayı getirir"
      ],
      "execution_count": null,
      "outputs": [
        {
          "data": {
            "text/plain": [
              "array([9, 5, 4, 1])"
            ]
          },
          "execution_count": 73,
          "metadata": {},
          "output_type": "execute_result"
        }
      ]
    },
    {
      "cell_type": "code",
      "metadata": {
        "colab": {
          "base_uri": "https://localhost:8080/"
        },
        "id": "SqjVZTQnGyS3",
        "outputId": "013c5446-d7b6-4949-cbad-3654f9a3385d"
      },
      "source": [
        "# 0 ile 1 arasında rastgele 5 sayı oluşturalım\n",
        "np.random.rand(5)"
      ],
      "execution_count": null,
      "outputs": [
        {
          "data": {
            "text/plain": [
              "array([0.83261985, 0.77815675, 0.87001215, 0.97861834, 0.79915856])"
            ]
          },
          "execution_count": 74,
          "metadata": {},
          "output_type": "execute_result"
        }
      ]
    },
    {
      "cell_type": "code",
      "metadata": {
        "colab": {
          "base_uri": "https://localhost:8080/"
        },
        "id": "56RlPWOoG__X",
        "outputId": "c9550602-04fa-42c4-9f20-5cf2e79aaf3b"
      },
      "source": [
        "# 0 ile 100 arasında (100 dahil) 1 adet tam sayı üreten kod satırı\n",
        "np.random.randint(0,101,1)"
      ],
      "execution_count": null,
      "outputs": [
        {
          "data": {
            "text/plain": [
              "array([29])"
            ]
          },
          "execution_count": 75,
          "metadata": {},
          "output_type": "execute_result"
        }
      ]
    },
    {
      "cell_type": "code",
      "metadata": {
        "colab": {
          "base_uri": "https://localhost:8080/"
        },
        "id": "o4_gJ0QqHj0F",
        "outputId": "5ac77066-7261-43b9-9738-90df911a0c90"
      },
      "source": [
        "# herkeste aynı rastgele değeri oluşturmasını istiyoruz\n",
        "np.random.seed(22) # ortak bi proje yürütülüyorsa herkeste aynı sayı gözüksün diye kullanılır\n",
        "np.random.randint(0,101,1)"
      ],
      "execution_count": null,
      "outputs": [
        {
          "data": {
            "text/plain": [
              "array([4])"
            ]
          },
          "execution_count": 76,
          "metadata": {},
          "output_type": "execute_result"
        }
      ]
    },
    {
      "cell_type": "code",
      "metadata": {
        "colab": {
          "base_uri": "https://localhost:8080/"
        },
        "id": "EoTnx0xZI7u5",
        "outputId": "ff193225-9482-4e16-96fe-1f29839187a7"
      },
      "source": [
        "m2 = np.random.randint(100,size=(3,4))\n",
        "m2"
      ],
      "execution_count": null,
      "outputs": [
        {
          "data": {
            "text/plain": [
              "array([[44, 64, 84,  8],\n",
              "       [95, 93, 18, 14],\n",
              "       [45, 88, 93, 39]])"
            ]
          },
          "execution_count": 77,
          "metadata": {},
          "output_type": "execute_result"
        }
      ]
    },
    {
      "cell_type": "code",
      "metadata": {
        "colab": {
          "base_uri": "https://localhost:8080/"
        },
        "id": "HAIRyqd6JsNC",
        "outputId": "eaf38700-7ad6-40ba-9046-6ea61f782c67"
      },
      "source": [
        "d5 = np.random.randint(1,100,6)\n",
        "d5"
      ],
      "execution_count": null,
      "outputs": [
        {
          "data": {
            "text/plain": [
              "array([35, 42,  9, 41,  6, 28])"
            ]
          },
          "execution_count": 78,
          "metadata": {},
          "output_type": "execute_result"
        }
      ]
    },
    {
      "cell_type": "code",
      "metadata": {
        "colab": {
          "base_uri": "https://localhost:8080/"
        },
        "id": "frh5HdQFKVM4",
        "outputId": "c6a7e3b0-aa34-4017-8d4a-cb7b8efaae8b"
      },
      "source": [
        "# indeks\n",
        "d5[0]"
      ],
      "execution_count": null,
      "outputs": [
        {
          "data": {
            "text/plain": [
              "35"
            ]
          },
          "execution_count": 79,
          "metadata": {},
          "output_type": "execute_result"
        }
      ]
    },
    {
      "cell_type": "code",
      "metadata": {
        "colab": {
          "base_uri": "https://localhost:8080/"
        },
        "id": "RWUqVLm0LIii",
        "outputId": "7ac81005-e150-43af-f2f5-725d994a193d"
      },
      "source": [
        "#son elemean\n",
        "d5[5]"
      ],
      "execution_count": null,
      "outputs": [
        {
          "data": {
            "text/plain": [
              "28"
            ]
          },
          "execution_count": 80,
          "metadata": {},
          "output_type": "execute_result"
        }
      ]
    },
    {
      "cell_type": "code",
      "metadata": {
        "colab": {
          "base_uri": "https://localhost:8080/"
        },
        "id": "KfhEsrcTLQax",
        "outputId": "5bac5bff-9520-4391-b0e7-f15966015f5f"
      },
      "source": [
        "# son eleman 2.seçenek\n",
        "d5[-1]"
      ],
      "execution_count": null,
      "outputs": [
        {
          "data": {
            "text/plain": [
              "28"
            ]
          },
          "execution_count": 81,
          "metadata": {},
          "output_type": "execute_result"
        }
      ]
    },
    {
      "cell_type": "code",
      "metadata": {
        "colab": {
          "base_uri": "https://localhost:8080/"
        },
        "id": "C5jn8kIjLW_R",
        "outputId": "59e23676-ab98-417b-8ecb-21c328c747f9"
      },
      "source": [
        "# matriste indeksleme\n",
        "m2[0,0]    # 0.satır 0.sütun"
      ],
      "execution_count": null,
      "outputs": [
        {
          "data": {
            "text/plain": [
              "44"
            ]
          },
          "execution_count": 82,
          "metadata": {},
          "output_type": "execute_result"
        }
      ]
    },
    {
      "cell_type": "code",
      "metadata": {
        "colab": {
          "base_uri": "https://localhost:8080/"
        },
        "id": "8YL_kxXlLmdG",
        "outputId": "f20bc4ab-55ae-4b6e-8309-bdb3c9a8632d"
      },
      "source": [
        "d5"
      ],
      "execution_count": null,
      "outputs": [
        {
          "data": {
            "text/plain": [
              "array([35, 42,  9, 41,  6, 28])"
            ]
          },
          "execution_count": 83,
          "metadata": {},
          "output_type": "execute_result"
        }
      ]
    },
    {
      "cell_type": "code",
      "metadata": {
        "colab": {
          "base_uri": "https://localhost:8080/"
        },
        "id": "IidDGmCiL39n",
        "outputId": "b3753dd0-c9f6-43cc-a186-4b4fea175e24"
      },
      "source": [
        "# dilimleme\n",
        "d5[1:3] # 1 indisli elemandan 4 indisli elemana kadar alır (4 dahil değil)"
      ],
      "execution_count": null,
      "outputs": [
        {
          "data": {
            "text/plain": [
              "array([42,  9])"
            ]
          },
          "execution_count": 84,
          "metadata": {},
          "output_type": "execute_result"
        }
      ]
    },
    {
      "cell_type": "code",
      "metadata": {
        "colab": {
          "base_uri": "https://localhost:8080/"
        },
        "id": "QoMncxwvML0q",
        "outputId": "98f1f78e-c97b-438f-b31b-a238708ac801"
      },
      "source": [
        "d5[:2]   # başlangıçtan belirtilen değere kadar alır"
      ],
      "execution_count": null,
      "outputs": [
        {
          "data": {
            "text/plain": [
              "array([35, 42])"
            ]
          },
          "execution_count": 85,
          "metadata": {},
          "output_type": "execute_result"
        }
      ]
    },
    {
      "cell_type": "code",
      "metadata": {
        "id": "sPsGaFyzMcYj"
      },
      "source": [
        ""
      ],
      "execution_count": null,
      "outputs": []
    },
    {
      "cell_type": "markdown",
      "metadata": {
        "id": "3elPsC-ZMqOb"
      },
      "source": [
        "**Matriste Dilimleme**"
      ]
    },
    {
      "cell_type": "code",
      "metadata": {
        "colab": {
          "base_uri": "https://localhost:8080/"
        },
        "id": "xlDxOR1NMtZf",
        "outputId": "72be32d4-d759-4287-8b1b-4df2ee873894"
      },
      "source": [
        "m2"
      ],
      "execution_count": null,
      "outputs": [
        {
          "data": {
            "text/plain": [
              "array([[44, 64, 84,  8],\n",
              "       [95, 93, 18, 14],\n",
              "       [45, 88, 93, 39]])"
            ]
          },
          "execution_count": 86,
          "metadata": {},
          "output_type": "execute_result"
        }
      ]
    },
    {
      "cell_type": "code",
      "metadata": {
        "colab": {
          "background_save": true,
          "base_uri": "https://localhost:8080/"
        },
        "id": "NHQySuhjMv_B",
        "outputId": "cf18356d-dace-4368-e6bd-5d2e310454e4"
      },
      "source": [
        "sutun1 = m2[:,2:3] # 1.sütundan başlayıp 2.sütuna kadar al  (soru sorulacak)\n",
        "sutun1"
      ],
      "execution_count": null,
      "outputs": [
        {
          "data": {
            "text/plain": [
              "array([84, 18, 93])"
            ]
          },
          "execution_count": null,
          "metadata": {},
          "output_type": "execute_result"
        }
      ]
    },
    {
      "cell_type": "code",
      "metadata": {
        "colab": {
          "base_uri": "https://localhost:8080/"
        },
        "id": "H0RXoGCOM9uf",
        "outputId": "4670c17c-9c59-4eef-9860-41c7e590d669"
      },
      "source": [
        "# dizinin ya da matrisin boyutunu bulma\n",
        "m2.ndim  # 1 dönerse dizi(tek boyutlu), 2 dönerse matris"
      ],
      "execution_count": null,
      "outputs": [
        {
          "data": {
            "text/plain": [
              "2"
            ]
          },
          "execution_count": 88,
          "metadata": {},
          "output_type": "execute_result"
        }
      ]
    },
    {
      "cell_type": "code",
      "metadata": {
        "colab": {
          "base_uri": "https://localhost:8080/"
        },
        "id": "Fp5oxGQ1Q_SE",
        "outputId": "38c27d09-4bea-4297-bd56-e8d3a81feaa5"
      },
      "source": [
        "d5"
      ],
      "execution_count": null,
      "outputs": [
        {
          "data": {
            "text/plain": [
              "array([35, 42,  9, 41,  6, 28])"
            ]
          },
          "execution_count": 89,
          "metadata": {},
          "output_type": "execute_result"
        }
      ]
    },
    {
      "cell_type": "code",
      "metadata": {
        "colab": {
          "base_uri": "https://localhost:8080/"
        },
        "id": "MpcqGYbNRGyV",
        "outputId": "dc7d0b07-be50-4ad9-a56b-b45d9704044e"
      },
      "source": [
        "d5.ndim"
      ],
      "execution_count": null,
      "outputs": [
        {
          "data": {
            "text/plain": [
              "1"
            ]
          },
          "execution_count": 90,
          "metadata": {},
          "output_type": "execute_result"
        }
      ]
    },
    {
      "cell_type": "code",
      "metadata": {
        "colab": {
          "base_uri": "https://localhost:8080/"
        },
        "id": "GQbc76QBRHwR",
        "outputId": "f2efc97d-21e9-4f47-dedb-1673d903ce6e"
      },
      "source": [
        "# matrisin satır ve sütun sayısını öğrenme\n",
        "m2.shape"
      ],
      "execution_count": null,
      "outputs": [
        {
          "data": {
            "text/plain": [
              "(3, 4)"
            ]
          },
          "execution_count": 91,
          "metadata": {},
          "output_type": "execute_result"
        }
      ]
    },
    {
      "cell_type": "code",
      "metadata": {
        "colab": {
          "base_uri": "https://localhost:8080/"
        },
        "id": "b0WMivUWROKt",
        "outputId": "b5207f26-b816-4ed5-fd6d-f3e2d8a60498"
      },
      "source": [
        "# matrisin transpozesini almak\n",
        "m2"
      ],
      "execution_count": null,
      "outputs": [
        {
          "data": {
            "text/plain": [
              "array([[44, 64, 84,  8],\n",
              "       [95, 93, 18, 14],\n",
              "       [45, 88, 93, 39]])"
            ]
          },
          "execution_count": 92,
          "metadata": {},
          "output_type": "execute_result"
        }
      ]
    },
    {
      "cell_type": "code",
      "metadata": {
        "colab": {
          "base_uri": "https://localhost:8080/"
        },
        "id": "3O9D-WGiRpx9",
        "outputId": "702c5b63-fb8e-4107-961d-c60d75dc6a7a"
      },
      "source": [
        "m2.T"
      ],
      "execution_count": null,
      "outputs": [
        {
          "data": {
            "text/plain": [
              "array([[44, 95, 45],\n",
              "       [64, 93, 88],\n",
              "       [84, 18, 93],\n",
              "       [ 8, 14, 39]])"
            ]
          },
          "execution_count": 93,
          "metadata": {},
          "output_type": "execute_result"
        }
      ]
    },
    {
      "cell_type": "code",
      "metadata": {
        "colab": {
          "base_uri": "https://localhost:8080/"
        },
        "id": "GPvWEjyRRruX",
        "outputId": "fd6faddf-191f-4454-cd61-45bab34abb90"
      },
      "source": [
        "# dizi ve matrisler üzerinde matematiksel işlemler\n",
        "A = np.array([[1,2],[3,4]])\n",
        "B = A\n",
        "B"
      ],
      "execution_count": null,
      "outputs": [
        {
          "data": {
            "text/plain": [
              "array([[1, 2],\n",
              "       [3, 4]])"
            ]
          },
          "execution_count": 94,
          "metadata": {},
          "output_type": "execute_result"
        }
      ]
    },
    {
      "cell_type": "code",
      "metadata": {
        "colab": {
          "base_uri": "https://localhost:8080/"
        },
        "id": "Hlu2JO-TSDcc",
        "outputId": "d76e3bfe-160d-4005-ec0d-f527f6c177ff"
      },
      "source": [
        "# matrislerde toplama\n",
        "C = A+B\n",
        "C"
      ],
      "execution_count": null,
      "outputs": [
        {
          "data": {
            "text/plain": [
              "array([[2, 4],\n",
              "       [6, 8]])"
            ]
          },
          "execution_count": 95,
          "metadata": {},
          "output_type": "execute_result"
        }
      ]
    },
    {
      "cell_type": "code",
      "metadata": {
        "colab": {
          "base_uri": "https://localhost:8080/"
        },
        "id": "iDT7w52PSKyP",
        "outputId": "b2e961a1-01b1-4db7-a8bb-09a882f30e90"
      },
      "source": [
        "np.add(A,B)"
      ],
      "execution_count": null,
      "outputs": [
        {
          "data": {
            "text/plain": [
              "array([[2, 4],\n",
              "       [6, 8]])"
            ]
          },
          "execution_count": 96,
          "metadata": {},
          "output_type": "execute_result"
        }
      ]
    },
    {
      "cell_type": "code",
      "metadata": {
        "colab": {
          "base_uri": "https://localhost:8080/"
        },
        "id": "qm0vxcKXSU2y",
        "outputId": "82a2a317-bc73-416a-baf8-c761d23f1ac1"
      },
      "source": [
        "# matrislerde çarpma\n",
        "D= np.dot(A,B)\n",
        "D"
      ],
      "execution_count": null,
      "outputs": [
        {
          "data": {
            "text/plain": [
              "array([[ 7, 10],\n",
              "       [15, 22]])"
            ]
          },
          "execution_count": 97,
          "metadata": {},
          "output_type": "execute_result"
        }
      ]
    },
    {
      "cell_type": "code",
      "metadata": {
        "colab": {
          "base_uri": "https://localhost:8080/"
        },
        "id": "LwL4aDFWSbK2",
        "outputId": "80c492e5-912c-486a-fcad-ef937be1dc8f"
      },
      "source": [
        "# matrislerde çıkarma\n",
        "A-B"
      ],
      "execution_count": null,
      "outputs": [
        {
          "data": {
            "text/plain": [
              "array([[0, 0],\n",
              "       [0, 0]])"
            ]
          },
          "execution_count": 98,
          "metadata": {},
          "output_type": "execute_result"
        }
      ]
    },
    {
      "cell_type": "markdown",
      "metadata": {
        "id": "2flRL9KkSoA8"
      },
      "source": [
        "NP İle İstatistiksel İşlemler"
      ]
    },
    {
      "cell_type": "code",
      "metadata": {
        "colab": {
          "base_uri": "https://localhost:8080/"
        },
        "id": "wqKeoJDzSqfu",
        "outputId": "9bf8d50b-c999-4161-be04-fd8c078aa4d8"
      },
      "source": [
        "np.random.seed(0)\n",
        "ras = np.random.randint(1,100,10)\n",
        "ras"
      ],
      "execution_count": null,
      "outputs": [
        {
          "data": {
            "text/plain": [
              "array([45, 48, 65, 68, 68, 10, 84, 22, 37, 88])"
            ]
          },
          "execution_count": 99,
          "metadata": {},
          "output_type": "execute_result"
        }
      ]
    },
    {
      "cell_type": "code",
      "metadata": {
        "colab": {
          "base_uri": "https://localhost:8080/"
        },
        "id": "ZrmmI6vLSzmi",
        "outputId": "f5825bd4-098c-4e1b-9c14-c0d38e34aa2b"
      },
      "source": [
        "# minimum değeri bulma\n",
        "ras.min()"
      ],
      "execution_count": null,
      "outputs": [
        {
          "data": {
            "text/plain": [
              "10"
            ]
          },
          "execution_count": 100,
          "metadata": {},
          "output_type": "execute_result"
        }
      ]
    },
    {
      "cell_type": "code",
      "metadata": {
        "colab": {
          "base_uri": "https://localhost:8080/"
        },
        "id": "Jhf8Ldl5T2BU",
        "outputId": "839b2ff7-61b0-4ff6-e69a-ece72fd185a9"
      },
      "source": [
        "# max değeri\n",
        "ras.max()"
      ],
      "execution_count": null,
      "outputs": [
        {
          "data": {
            "text/plain": [
              "88"
            ]
          },
          "execution_count": 101,
          "metadata": {},
          "output_type": "execute_result"
        }
      ]
    },
    {
      "cell_type": "code",
      "metadata": {
        "colab": {
          "base_uri": "https://localhost:8080/"
        },
        "id": "ljC_h-ANT5J_",
        "outputId": "d9c7a854-8755-4315-a724-4f75d935f5c7"
      },
      "source": [
        "# aritmetik ortalama\n",
        "ras.mean()"
      ],
      "execution_count": null,
      "outputs": [
        {
          "data": {
            "text/plain": [
              "53.5"
            ]
          },
          "execution_count": 102,
          "metadata": {},
          "output_type": "execute_result"
        }
      ]
    },
    {
      "cell_type": "code",
      "metadata": {
        "colab": {
          "base_uri": "https://localhost:8080/"
        },
        "id": "TajIKrsQT8hC",
        "outputId": "a1c94eb4-0387-4fc9-f589-efffb87d2ad7"
      },
      "source": [
        "# dizi elemanlarının toplamı\n",
        "ras.sum()"
      ],
      "execution_count": null,
      "outputs": [
        {
          "data": {
            "text/plain": [
              "535"
            ]
          },
          "execution_count": 103,
          "metadata": {},
          "output_type": "execute_result"
        }
      ]
    },
    {
      "cell_type": "code",
      "metadata": {
        "colab": {
          "base_uri": "https://localhost:8080/"
        },
        "id": "LVxYZZK4T_sk",
        "outputId": "006ace85-0b0d-4700-eeb1-40491f2c40a6"
      },
      "source": [
        "# standart sapma\n",
        "ras.std()"
      ],
      "execution_count": null,
      "outputs": [
        {
          "data": {
            "text/plain": [
              "24.3567239176372"
            ]
          },
          "execution_count": 104,
          "metadata": {},
          "output_type": "execute_result"
        }
      ]
    },
    {
      "cell_type": "code",
      "metadata": {
        "colab": {
          "base_uri": "https://localhost:8080/"
        },
        "id": "XUfA8fLxUBjj",
        "outputId": "5329547c-00d9-4074-fddd-8286e52feeee"
      },
      "source": [
        "# varyant bulma\n",
        "ras.var()"
      ],
      "execution_count": null,
      "outputs": [
        {
          "data": {
            "text/plain": [
              "593.25"
            ]
          },
          "execution_count": 105,
          "metadata": {},
          "output_type": "execute_result"
        }
      ]
    },
    {
      "cell_type": "code",
      "metadata": {
        "colab": {
          "base_uri": "https://localhost:8080/"
        },
        "id": "C9wfC-DSUEyv",
        "outputId": "cf9d241a-77a0-405e-9eb3-ceb2d764a57d"
      },
      "source": [
        "# küçükten büyüğe sıralama\n",
        "ras.sort()\n",
        "ras"
      ],
      "execution_count": null,
      "outputs": [
        {
          "data": {
            "text/plain": [
              "array([10, 22, 37, 45, 48, 65, 68, 68, 84, 88])"
            ]
          },
          "execution_count": 106,
          "metadata": {},
          "output_type": "execute_result"
        }
      ]
    },
    {
      "cell_type": "code",
      "metadata": {
        "colab": {
          "base_uri": "https://localhost:8080/"
        },
        "id": "FH-4uoMvUdjJ",
        "outputId": "29eb5764-5612-484d-eafd-c5b0914fa1cc"
      },
      "source": [
        "# axis 1 ise satırları, axis 0 ise sütunları toplar\n",
        "m2.sum(axis=1)"
      ],
      "execution_count": null,
      "outputs": [
        {
          "data": {
            "text/plain": [
              "array([200, 220, 265])"
            ]
          },
          "execution_count": 107,
          "metadata": {},
          "output_type": "execute_result"
        }
      ]
    },
    {
      "cell_type": "code",
      "metadata": {
        "colab": {
          "base_uri": "https://localhost:8080/"
        },
        "id": "Y8VcKub7Uele",
        "outputId": "ae809547-3e68-40f5-b87f-dea6ca3c2aff"
      },
      "source": [
        "# ras dizisinden 45ten büyük elemanları verir\n",
        "ras[ras>45]"
      ],
      "execution_count": null,
      "outputs": [
        {
          "data": {
            "text/plain": [
              "array([48, 65, 68, 68, 84, 88])"
            ]
          },
          "execution_count": 108,
          "metadata": {},
          "output_type": "execute_result"
        }
      ]
    },
    {
      "cell_type": "code",
      "metadata": {
        "colab": {
          "base_uri": "https://localhost:8080/"
        },
        "id": "K3hgoWBzUtTQ",
        "outputId": "df55fc3e-33a8-4b3f-b10d-bf539e183d17"
      },
      "source": [
        "np.sum(ras[ras>45]) # 45 ten büyük elemanlarının toplamı"
      ],
      "execution_count": null,
      "outputs": [
        {
          "data": {
            "text/plain": [
              "421"
            ]
          },
          "execution_count": 109,
          "metadata": {},
          "output_type": "execute_result"
        }
      ]
    }
  ]
}