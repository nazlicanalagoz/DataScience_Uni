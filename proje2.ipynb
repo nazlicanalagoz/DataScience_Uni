{
  "nbformat": 4,
  "nbformat_minor": 0,
  "metadata": {
    "colab": {
      "name": "proje2.ipynb",
      "provenance": [],
      "collapsed_sections": [],
      "authorship_tag": "ABX9TyNuNUjGwbVV+BsxUhKUD/Eq",
      "include_colab_link": true
    },
    "kernelspec": {
      "name": "python3",
      "display_name": "Python 3"
    },
    "language_info": {
      "name": "python"
    }
  },
  "cells": [
    {
      "cell_type": "markdown",
      "metadata": {
        "id": "view-in-github",
        "colab_type": "text"
      },
      "source": [
        "<a href=\"https://colab.research.google.com/github/nazlicanalagoz/DataScience_Uni/blob/main/proje2.ipynb\" target=\"_parent\"><img src=\"https://colab.research.google.com/assets/colab-badge.svg\" alt=\"Open In Colab\"/></a>"
      ]
    },
    {
      "cell_type": "markdown",
      "source": [
        "Nazlıcan ALAGÖZ - B180200057 - Matematik"
      ],
      "metadata": {
        "id": "LS_xJjGJsT7B"
      }
    },
    {
      "cell_type": "markdown",
      "source": [
        "***Proje Adı***: Matematik çalışma kitaplarını kullanmak öğrencilerin öğrenmesini geliştirir mi?\n",
        "\n",
        "***Neden ve Amaç*** : Batı Afrika ülkelerinde öğrencilerin matematik alanında bilgileri nasıl ve nasıl etkileniyorlar? Deneme yanılma yöntemiyle belli bir süreçte incelenmiştir."
      ],
      "metadata": {
        "id": "Y6BUHQy_vs82"
      }
    },
    {
      "cell_type": "code",
      "execution_count": 52,
      "metadata": {
        "id": "I2uLBfl8bJ8c"
      },
      "outputs": [],
      "source": [
        "import numpy as np    #vektörel ve matris işlemleri    \n",
        "import pandas as pd   #dataframe manipülasyon işlemleri\n",
        "import seaborn as sns   #görselleştirme\n",
        "import matplotlib.pyplot as plt   #görselleştirme\n",
        "from sklearn.linear_model import LinearRegression\n",
        "from sklearn.metrics import r2_score, mean_absolute_error, mean_squared_error\n",
        "from sklearn.model_selection import train_test_split"
      ]
    },
    {
      "cell_type": "markdown",
      "source": [
        "**VERİ ÖN İŞLEME**"
      ],
      "metadata": {
        "id": "tXLiFEi6wB8x"
      }
    },
    {
      "cell_type": "code",
      "source": [
        "data = pd.read_excel(\"/content/data.xlsx\")  # Verilerimizi excelden çektik\n",
        "data"
      ],
      "metadata": {
        "colab": {
          "base_uri": "https://localhost:8080/",
          "height": 426
        },
        "id": "zpbDNlJJbO77",
        "outputId": "f65da5e0-0326-4218-87d7-600ac9ab5820"
      },
      "execution_count": 53,
      "outputs": [
        {
          "output_type": "execute_result",
          "data": {
            "text/html": [
              "<div>\n",
              "<style scoped>\n",
              "    .dataframe tbody tr th:only-of-type {\n",
              "        vertical-align: middle;\n",
              "    }\n",
              "\n",
              "    .dataframe tbody tr th {\n",
              "        vertical-align: top;\n",
              "    }\n",
              "\n",
              "    .dataframe thead th {\n",
              "        text-align: right;\n",
              "    }\n",
              "</style>\n",
              "<table border=\"1\" class=\"dataframe\">\n",
              "  <thead>\n",
              "    <tr style=\"text-align: right;\">\n",
              "      <th></th>\n",
              "      <th>Dönem</th>\n",
              "      <th>Grade 4 Group</th>\n",
              "      <th>Grade 5 Group</th>\n",
              "      <th>Grade 6 Group</th>\n",
              "    </tr>\n",
              "  </thead>\n",
              "  <tbody>\n",
              "    <tr>\n",
              "      <th>0</th>\n",
              "      <td>Ortalama Test Puanı</td>\n",
              "      <td>17.1</td>\n",
              "      <td>23.9</td>\n",
              "      <td>27.5</td>\n",
              "    </tr>\n",
              "    <tr>\n",
              "      <th>1</th>\n",
              "      <td>Standart Sapma</td>\n",
              "      <td>13.0</td>\n",
              "      <td>12.9</td>\n",
              "      <td>12.5</td>\n",
              "    </tr>\n",
              "    <tr>\n",
              "      <th>2</th>\n",
              "      <td>Kızların Sayısı</td>\n",
              "      <td>120.0</td>\n",
              "      <td>95.0</td>\n",
              "      <td>129.0</td>\n",
              "    </tr>\n",
              "    <tr>\n",
              "      <th>3</th>\n",
              "      <td>Erkeklerin Sayısı</td>\n",
              "      <td>116.0</td>\n",
              "      <td>119.0</td>\n",
              "      <td>135.0</td>\n",
              "    </tr>\n",
              "    <tr>\n",
              "      <th>4</th>\n",
              "      <td>Ortalama Test Puanı 1</td>\n",
              "      <td>20.7</td>\n",
              "      <td>28.4</td>\n",
              "      <td>29.7</td>\n",
              "    </tr>\n",
              "    <tr>\n",
              "      <th>5</th>\n",
              "      <td>Standart Sapma 1</td>\n",
              "      <td>13.6</td>\n",
              "      <td>12.0</td>\n",
              "      <td>11.3</td>\n",
              "    </tr>\n",
              "    <tr>\n",
              "      <th>6</th>\n",
              "      <td>Kızların Sayısı 1</td>\n",
              "      <td>120.0</td>\n",
              "      <td>95.0</td>\n",
              "      <td>129.0</td>\n",
              "    </tr>\n",
              "    <tr>\n",
              "      <th>7</th>\n",
              "      <td>Erkeklerin Sayısı 1</td>\n",
              "      <td>116.0</td>\n",
              "      <td>119.0</td>\n",
              "      <td>135.0</td>\n",
              "    </tr>\n",
              "    <tr>\n",
              "      <th>8</th>\n",
              "      <td>Ortalama Test Puanı 2</td>\n",
              "      <td>30.6</td>\n",
              "      <td>33.0</td>\n",
              "      <td>34.6</td>\n",
              "    </tr>\n",
              "    <tr>\n",
              "      <th>9</th>\n",
              "      <td>Standart Sapma 2</td>\n",
              "      <td>11.7</td>\n",
              "      <td>10.4</td>\n",
              "      <td>10.4</td>\n",
              "    </tr>\n",
              "    <tr>\n",
              "      <th>10</th>\n",
              "      <td>Kızların Sayısı 2</td>\n",
              "      <td>120.0</td>\n",
              "      <td>95.0</td>\n",
              "      <td>129.0</td>\n",
              "    </tr>\n",
              "    <tr>\n",
              "      <th>11</th>\n",
              "      <td>Erkeklerin Sayısı 2</td>\n",
              "      <td>116.0</td>\n",
              "      <td>119.0</td>\n",
              "      <td>135.0</td>\n",
              "    </tr>\n",
              "  </tbody>\n",
              "</table>\n",
              "</div>"
            ],
            "text/plain": [
              "                    Dönem  Grade 4 Group  Grade 5 Group  Grade 6 Group\n",
              "0     Ortalama Test Puanı           17.1           23.9           27.5\n",
              "1          Standart Sapma           13.0           12.9           12.5\n",
              "2         Kızların Sayısı          120.0           95.0          129.0\n",
              "3       Erkeklerin Sayısı          116.0          119.0          135.0\n",
              "4   Ortalama Test Puanı 1           20.7           28.4           29.7\n",
              "5        Standart Sapma 1           13.6           12.0           11.3\n",
              "6       Kızların Sayısı 1          120.0           95.0          129.0\n",
              "7     Erkeklerin Sayısı 1          116.0          119.0          135.0\n",
              "8   Ortalama Test Puanı 2           30.6           33.0           34.6\n",
              "9        Standart Sapma 2           11.7           10.4           10.4\n",
              "10      Kızların Sayısı 2          120.0           95.0          129.0\n",
              "11    Erkeklerin Sayısı 2          116.0          119.0          135.0"
            ]
          },
          "metadata": {},
          "execution_count": 53
        }
      ]
    },
    {
      "cell_type": "markdown",
      "source": [
        "*  Dönem kısmı, \n",
        "  - Hazırlık\n",
        "  - Orta\n",
        "  - Bitiş    olarak alınmıştır. Ve her birinde ortalama test puanlarına, standart sapmaya, kızların ve erkeklerin sayısına bakılmıştır."
      ],
      "metadata": {
        "id": "TREJUUSQHfPq"
      }
    },
    {
      "cell_type": "code",
      "source": [
        "# Eksik değer var mı?\n",
        "data.isnull().sum()"
      ],
      "metadata": {
        "colab": {
          "base_uri": "https://localhost:8080/"
        },
        "id": "oUx-alcLHbWP",
        "outputId": "e538da09-97c0-4aa4-ec27-673a6376a880"
      },
      "execution_count": 54,
      "outputs": [
        {
          "output_type": "execute_result",
          "data": {
            "text/plain": [
              "Dönem            0\n",
              "Grade 4 Group    0\n",
              "Grade 5 Group    0\n",
              "Grade 6 Group    0\n",
              "dtype: int64"
            ]
          },
          "metadata": {},
          "execution_count": 54
        }
      ]
    },
    {
      "cell_type": "code",
      "source": [
        "# Özniteliklerin veri türleri, içerdikleri kayıt sayıları ve bellek kullanımı hakkında bilgi edinme\n",
        "data.info()"
      ],
      "metadata": {
        "colab": {
          "base_uri": "https://localhost:8080/"
        },
        "id": "ck8vrrsMH5YJ",
        "outputId": "fbb8e8b5-ff96-4082-f119-cebf61bd22be"
      },
      "execution_count": 55,
      "outputs": [
        {
          "output_type": "stream",
          "name": "stdout",
          "text": [
            "<class 'pandas.core.frame.DataFrame'>\n",
            "RangeIndex: 12 entries, 0 to 11\n",
            "Data columns (total 4 columns):\n",
            " #   Column         Non-Null Count  Dtype  \n",
            "---  ------         --------------  -----  \n",
            " 0   Dönem          12 non-null     object \n",
            " 1   Grade 4 Group  12 non-null     float64\n",
            " 2   Grade 5 Group  12 non-null     float64\n",
            " 3   Grade 6 Group  12 non-null     float64\n",
            "dtypes: float64(3), object(1)\n",
            "memory usage: 512.0+ bytes\n"
          ]
        }
      ]
    },
    {
      "cell_type": "code",
      "source": [
        "# Satır ve sütun (öznitelik) sayısını görüntüleme\n",
        "data.shape"
      ],
      "metadata": {
        "colab": {
          "base_uri": "https://localhost:8080/"
        },
        "id": "s8pHK_mQH_YW",
        "outputId": "bec19d0a-8fe1-44ef-8fea-a4557200bb84"
      },
      "execution_count": 56,
      "outputs": [
        {
          "output_type": "execute_result",
          "data": {
            "text/plain": [
              "(12, 4)"
            ]
          },
          "metadata": {},
          "execution_count": 56
        }
      ]
    },
    {
      "cell_type": "markdown",
      "source": [
        "*  Veri setinde 14 adet farklı değişken, 4 gözlem vardır.\n",
        "*  Kayıp değer bulunmamaktadır."
      ],
      "metadata": {
        "id": "scMR5DFoIG_a"
      }
    },
    {
      "cell_type": "code",
      "source": [
        "# Rastgele 4 kaydı verdi\n",
        "data.sample(4)"
      ],
      "metadata": {
        "colab": {
          "base_uri": "https://localhost:8080/",
          "height": 174
        },
        "id": "FJGZHxaqIABt",
        "outputId": "1fafbe1a-f2a7-48eb-efbc-16642017580a"
      },
      "execution_count": 57,
      "outputs": [
        {
          "output_type": "execute_result",
          "data": {
            "text/html": [
              "<div>\n",
              "<style scoped>\n",
              "    .dataframe tbody tr th:only-of-type {\n",
              "        vertical-align: middle;\n",
              "    }\n",
              "\n",
              "    .dataframe tbody tr th {\n",
              "        vertical-align: top;\n",
              "    }\n",
              "\n",
              "    .dataframe thead th {\n",
              "        text-align: right;\n",
              "    }\n",
              "</style>\n",
              "<table border=\"1\" class=\"dataframe\">\n",
              "  <thead>\n",
              "    <tr style=\"text-align: right;\">\n",
              "      <th></th>\n",
              "      <th>Dönem</th>\n",
              "      <th>Grade 4 Group</th>\n",
              "      <th>Grade 5 Group</th>\n",
              "      <th>Grade 6 Group</th>\n",
              "    </tr>\n",
              "  </thead>\n",
              "  <tbody>\n",
              "    <tr>\n",
              "      <th>3</th>\n",
              "      <td>Erkeklerin Sayısı</td>\n",
              "      <td>116.0</td>\n",
              "      <td>119.0</td>\n",
              "      <td>135.0</td>\n",
              "    </tr>\n",
              "    <tr>\n",
              "      <th>0</th>\n",
              "      <td>Ortalama Test Puanı</td>\n",
              "      <td>17.1</td>\n",
              "      <td>23.9</td>\n",
              "      <td>27.5</td>\n",
              "    </tr>\n",
              "    <tr>\n",
              "      <th>1</th>\n",
              "      <td>Standart Sapma</td>\n",
              "      <td>13.0</td>\n",
              "      <td>12.9</td>\n",
              "      <td>12.5</td>\n",
              "    </tr>\n",
              "    <tr>\n",
              "      <th>5</th>\n",
              "      <td>Standart Sapma 1</td>\n",
              "      <td>13.6</td>\n",
              "      <td>12.0</td>\n",
              "      <td>11.3</td>\n",
              "    </tr>\n",
              "  </tbody>\n",
              "</table>\n",
              "</div>"
            ],
            "text/plain": [
              "                 Dönem  Grade 4 Group  Grade 5 Group  Grade 6 Group\n",
              "3    Erkeklerin Sayısı          116.0          119.0          135.0\n",
              "0  Ortalama Test Puanı           17.1           23.9           27.5\n",
              "1       Standart Sapma           13.0           12.9           12.5\n",
              "5     Standart Sapma 1           13.6           12.0           11.3"
            ]
          },
          "metadata": {},
          "execution_count": 57
        }
      ]
    },
    {
      "cell_type": "code",
      "source": [
        "#Gözlemlerimizde kaç adet değişken var?\n",
        "data.count()"
      ],
      "metadata": {
        "colab": {
          "base_uri": "https://localhost:8080/"
        },
        "id": "IVHzREnWIAE9",
        "outputId": "8917ef10-55bb-49f8-816a-80ef0d892f4f"
      },
      "execution_count": 58,
      "outputs": [
        {
          "output_type": "execute_result",
          "data": {
            "text/plain": [
              "Dönem            12\n",
              "Grade 4 Group    12\n",
              "Grade 5 Group    12\n",
              "Grade 6 Group    12\n",
              "dtype: int64"
            ]
          },
          "metadata": {},
          "execution_count": 58
        }
      ]
    },
    {
      "cell_type": "code",
      "source": [
        "# Değişkenlerimizden orta dönemdeki verilerini alalım\n",
        "data[4:8]"
      ],
      "metadata": {
        "colab": {
          "base_uri": "https://localhost:8080/",
          "height": 174
        },
        "id": "ApyyY1IkIfi9",
        "outputId": "61685e32-7d74-47e6-ba92-691c2bb1e023"
      },
      "execution_count": 59,
      "outputs": [
        {
          "output_type": "execute_result",
          "data": {
            "text/html": [
              "<div>\n",
              "<style scoped>\n",
              "    .dataframe tbody tr th:only-of-type {\n",
              "        vertical-align: middle;\n",
              "    }\n",
              "\n",
              "    .dataframe tbody tr th {\n",
              "        vertical-align: top;\n",
              "    }\n",
              "\n",
              "    .dataframe thead th {\n",
              "        text-align: right;\n",
              "    }\n",
              "</style>\n",
              "<table border=\"1\" class=\"dataframe\">\n",
              "  <thead>\n",
              "    <tr style=\"text-align: right;\">\n",
              "      <th></th>\n",
              "      <th>Dönem</th>\n",
              "      <th>Grade 4 Group</th>\n",
              "      <th>Grade 5 Group</th>\n",
              "      <th>Grade 6 Group</th>\n",
              "    </tr>\n",
              "  </thead>\n",
              "  <tbody>\n",
              "    <tr>\n",
              "      <th>4</th>\n",
              "      <td>Ortalama Test Puanı 1</td>\n",
              "      <td>20.7</td>\n",
              "      <td>28.4</td>\n",
              "      <td>29.7</td>\n",
              "    </tr>\n",
              "    <tr>\n",
              "      <th>5</th>\n",
              "      <td>Standart Sapma 1</td>\n",
              "      <td>13.6</td>\n",
              "      <td>12.0</td>\n",
              "      <td>11.3</td>\n",
              "    </tr>\n",
              "    <tr>\n",
              "      <th>6</th>\n",
              "      <td>Kızların Sayısı 1</td>\n",
              "      <td>120.0</td>\n",
              "      <td>95.0</td>\n",
              "      <td>129.0</td>\n",
              "    </tr>\n",
              "    <tr>\n",
              "      <th>7</th>\n",
              "      <td>Erkeklerin Sayısı 1</td>\n",
              "      <td>116.0</td>\n",
              "      <td>119.0</td>\n",
              "      <td>135.0</td>\n",
              "    </tr>\n",
              "  </tbody>\n",
              "</table>\n",
              "</div>"
            ],
            "text/plain": [
              "                   Dönem  Grade 4 Group  Grade 5 Group  Grade 6 Group\n",
              "4  Ortalama Test Puanı 1           20.7           28.4           29.7\n",
              "5       Standart Sapma 1           13.6           12.0           11.3\n",
              "6      Kızların Sayısı 1          120.0           95.0          129.0\n",
              "7    Erkeklerin Sayısı 1          116.0          119.0          135.0"
            ]
          },
          "metadata": {},
          "execution_count": 59
        }
      ]
    },
    {
      "cell_type": "code",
      "source": [
        "# 5.sınıf verilerinin bir dönemini en çoktan en aza sıralayalım\n",
        "data['Grade 5 Group'][:4].sort_values(axis=0, ascending=False)"
      ],
      "metadata": {
        "colab": {
          "base_uri": "https://localhost:8080/"
        },
        "id": "PI8QncR7KcL1",
        "outputId": "d1061985-3b69-4837-82c4-03fd371c0dc4"
      },
      "execution_count": 60,
      "outputs": [
        {
          "output_type": "execute_result",
          "data": {
            "text/plain": [
              "3    119.0\n",
              "2     95.0\n",
              "0     23.9\n",
              "1     12.9\n",
              "Name: Grade 5 Group, dtype: float64"
            ]
          },
          "metadata": {},
          "execution_count": 60
        }
      ]
    },
    {
      "cell_type": "markdown",
      "source": [
        "**İSTATİSTİKSEL İŞLEMLER**"
      ],
      "metadata": {
        "id": "tH0rZH84MAD9"
      }
    },
    {
      "cell_type": "code",
      "source": [
        "# Sadece sayısal değerlerin istatistiksel işlemlerini yaptı\n",
        "data.describe().T"
      ],
      "metadata": {
        "colab": {
          "base_uri": "https://localhost:8080/",
          "height": 143
        },
        "id": "MDueAta3MJS_",
        "outputId": "ce0f8b8a-d6af-4184-80ed-488357b3ddec"
      },
      "execution_count": 61,
      "outputs": [
        {
          "output_type": "execute_result",
          "data": {
            "text/html": [
              "<div>\n",
              "<style scoped>\n",
              "    .dataframe tbody tr th:only-of-type {\n",
              "        vertical-align: middle;\n",
              "    }\n",
              "\n",
              "    .dataframe tbody tr th {\n",
              "        vertical-align: top;\n",
              "    }\n",
              "\n",
              "    .dataframe thead th {\n",
              "        text-align: right;\n",
              "    }\n",
              "</style>\n",
              "<table border=\"1\" class=\"dataframe\">\n",
              "  <thead>\n",
              "    <tr style=\"text-align: right;\">\n",
              "      <th></th>\n",
              "      <th>count</th>\n",
              "      <th>mean</th>\n",
              "      <th>std</th>\n",
              "      <th>min</th>\n",
              "      <th>25%</th>\n",
              "      <th>50%</th>\n",
              "      <th>75%</th>\n",
              "      <th>max</th>\n",
              "    </tr>\n",
              "  </thead>\n",
              "  <tbody>\n",
              "    <tr>\n",
              "      <th>Grade 4 Group</th>\n",
              "      <td>12.0</td>\n",
              "      <td>67.891667</td>\n",
              "      <td>52.574423</td>\n",
              "      <td>11.7</td>\n",
              "      <td>16.225</td>\n",
              "      <td>73.3</td>\n",
              "      <td>117.0</td>\n",
              "      <td>120.0</td>\n",
              "    </tr>\n",
              "    <tr>\n",
              "      <th>Grade 5 Group</th>\n",
              "      <td>12.0</td>\n",
              "      <td>63.550000</td>\n",
              "      <td>46.690577</td>\n",
              "      <td>10.4</td>\n",
              "      <td>21.150</td>\n",
              "      <td>64.0</td>\n",
              "      <td>101.0</td>\n",
              "      <td>119.0</td>\n",
              "    </tr>\n",
              "    <tr>\n",
              "      <th>Grade 6 Group</th>\n",
              "      <td>12.0</td>\n",
              "      <td>76.500000</td>\n",
              "      <td>58.464130</td>\n",
              "      <td>10.4</td>\n",
              "      <td>23.750</td>\n",
              "      <td>81.8</td>\n",
              "      <td>130.5</td>\n",
              "      <td>135.0</td>\n",
              "    </tr>\n",
              "  </tbody>\n",
              "</table>\n",
              "</div>"
            ],
            "text/plain": [
              "               count       mean        std   min     25%   50%    75%    max\n",
              "Grade 4 Group   12.0  67.891667  52.574423  11.7  16.225  73.3  117.0  120.0\n",
              "Grade 5 Group   12.0  63.550000  46.690577  10.4  21.150  64.0  101.0  119.0\n",
              "Grade 6 Group   12.0  76.500000  58.464130  10.4  23.750  81.8  130.5  135.0"
            ]
          },
          "metadata": {},
          "execution_count": 61
        }
      ]
    },
    {
      "cell_type": "code",
      "source": [
        "data.corr() # Korelasyon"
      ],
      "metadata": {
        "colab": {
          "base_uri": "https://localhost:8080/",
          "height": 143
        },
        "id": "1L-SqggJMN42",
        "outputId": "1ab7867c-42b2-484d-b221-b1bfc8c57fc3"
      },
      "execution_count": 62,
      "outputs": [
        {
          "output_type": "execute_result",
          "data": {
            "text/html": [
              "<div>\n",
              "<style scoped>\n",
              "    .dataframe tbody tr th:only-of-type {\n",
              "        vertical-align: middle;\n",
              "    }\n",
              "\n",
              "    .dataframe tbody tr th {\n",
              "        vertical-align: top;\n",
              "    }\n",
              "\n",
              "    .dataframe thead th {\n",
              "        text-align: right;\n",
              "    }\n",
              "</style>\n",
              "<table border=\"1\" class=\"dataframe\">\n",
              "  <thead>\n",
              "    <tr style=\"text-align: right;\">\n",
              "      <th></th>\n",
              "      <th>Grade 4 Group</th>\n",
              "      <th>Grade 5 Group</th>\n",
              "      <th>Grade 6 Group</th>\n",
              "    </tr>\n",
              "  </thead>\n",
              "  <tbody>\n",
              "    <tr>\n",
              "      <th>Grade 4 Group</th>\n",
              "      <td>1.000000</td>\n",
              "      <td>0.973881</td>\n",
              "      <td>0.996043</td>\n",
              "    </tr>\n",
              "    <tr>\n",
              "      <th>Grade 5 Group</th>\n",
              "      <td>0.973881</td>\n",
              "      <td>1.000000</td>\n",
              "      <td>0.988067</td>\n",
              "    </tr>\n",
              "    <tr>\n",
              "      <th>Grade 6 Group</th>\n",
              "      <td>0.996043</td>\n",
              "      <td>0.988067</td>\n",
              "      <td>1.000000</td>\n",
              "    </tr>\n",
              "  </tbody>\n",
              "</table>\n",
              "</div>"
            ],
            "text/plain": [
              "               Grade 4 Group  Grade 5 Group  Grade 6 Group\n",
              "Grade 4 Group       1.000000       0.973881       0.996043\n",
              "Grade 5 Group       0.973881       1.000000       0.988067\n",
              "Grade 6 Group       0.996043       0.988067       1.000000"
            ]
          },
          "metadata": {},
          "execution_count": 62
        }
      ]
    },
    {
      "cell_type": "markdown",
      "source": [
        "*  4. Sınıf verimi 5. sınıfa geçerken düşmüş.\n",
        "* 5. Sınıf verimi 6.sınıfa geçerken düşmüş fakat 4.sınıfa kıyasla yüksek."
      ],
      "metadata": {
        "id": "MjDoIMm7MS4d"
      }
    },
    {
      "cell_type": "code",
      "source": [
        "# Her dönemde katılan toplam kişi sayısını bulalım  (Her 3 dönemde de kişi sayısı aynıdır.)\n",
        "df = data['Grade 4 Group'][2:4] + data['Grade 5 Group'][2:4] + data['Grade 6 Group'][2:4]\n",
        "df[2]+ df[3]"
      ],
      "metadata": {
        "colab": {
          "base_uri": "https://localhost:8080/"
        },
        "id": "KbNUT2RrMt47",
        "outputId": "4029ca3a-7a82-4402-9274-e863e28de9c8"
      },
      "execution_count": 63,
      "outputs": [
        {
          "output_type": "execute_result",
          "data": {
            "text/plain": [
              "714.0"
            ]
          },
          "metadata": {},
          "execution_count": 63
        }
      ]
    },
    {
      "cell_type": "code",
      "source": [
        "# 4.Sınıfta değerlerin 100 den az ve 6.sınıfta değerlerin 10 dan fazla olduğu verileri alalım\n",
        "data[(data['Grade 4 Group']<100.0) & (data['Grade 6 Group']>10.0)]"
      ],
      "metadata": {
        "colab": {
          "base_uri": "https://localhost:8080/",
          "height": 238
        },
        "id": "ugjJ4qZ8Sv88",
        "outputId": "8e8b97a4-a1db-4adb-e220-e6bda467d656"
      },
      "execution_count": 64,
      "outputs": [
        {
          "output_type": "execute_result",
          "data": {
            "text/html": [
              "<div>\n",
              "<style scoped>\n",
              "    .dataframe tbody tr th:only-of-type {\n",
              "        vertical-align: middle;\n",
              "    }\n",
              "\n",
              "    .dataframe tbody tr th {\n",
              "        vertical-align: top;\n",
              "    }\n",
              "\n",
              "    .dataframe thead th {\n",
              "        text-align: right;\n",
              "    }\n",
              "</style>\n",
              "<table border=\"1\" class=\"dataframe\">\n",
              "  <thead>\n",
              "    <tr style=\"text-align: right;\">\n",
              "      <th></th>\n",
              "      <th>Dönem</th>\n",
              "      <th>Grade 4 Group</th>\n",
              "      <th>Grade 5 Group</th>\n",
              "      <th>Grade 6 Group</th>\n",
              "    </tr>\n",
              "  </thead>\n",
              "  <tbody>\n",
              "    <tr>\n",
              "      <th>0</th>\n",
              "      <td>Ortalama Test Puanı</td>\n",
              "      <td>17.1</td>\n",
              "      <td>23.9</td>\n",
              "      <td>27.5</td>\n",
              "    </tr>\n",
              "    <tr>\n",
              "      <th>1</th>\n",
              "      <td>Standart Sapma</td>\n",
              "      <td>13.0</td>\n",
              "      <td>12.9</td>\n",
              "      <td>12.5</td>\n",
              "    </tr>\n",
              "    <tr>\n",
              "      <th>4</th>\n",
              "      <td>Ortalama Test Puanı 1</td>\n",
              "      <td>20.7</td>\n",
              "      <td>28.4</td>\n",
              "      <td>29.7</td>\n",
              "    </tr>\n",
              "    <tr>\n",
              "      <th>5</th>\n",
              "      <td>Standart Sapma 1</td>\n",
              "      <td>13.6</td>\n",
              "      <td>12.0</td>\n",
              "      <td>11.3</td>\n",
              "    </tr>\n",
              "    <tr>\n",
              "      <th>8</th>\n",
              "      <td>Ortalama Test Puanı 2</td>\n",
              "      <td>30.6</td>\n",
              "      <td>33.0</td>\n",
              "      <td>34.6</td>\n",
              "    </tr>\n",
              "    <tr>\n",
              "      <th>9</th>\n",
              "      <td>Standart Sapma 2</td>\n",
              "      <td>11.7</td>\n",
              "      <td>10.4</td>\n",
              "      <td>10.4</td>\n",
              "    </tr>\n",
              "  </tbody>\n",
              "</table>\n",
              "</div>"
            ],
            "text/plain": [
              "                   Dönem  Grade 4 Group  Grade 5 Group  Grade 6 Group\n",
              "0    Ortalama Test Puanı           17.1           23.9           27.5\n",
              "1         Standart Sapma           13.0           12.9           12.5\n",
              "4  Ortalama Test Puanı 1           20.7           28.4           29.7\n",
              "5       Standart Sapma 1           13.6           12.0           11.3\n",
              "8  Ortalama Test Puanı 2           30.6           33.0           34.6\n",
              "9       Standart Sapma 2           11.7           10.4           10.4"
            ]
          },
          "metadata": {},
          "execution_count": 64
        }
      ]
    },
    {
      "cell_type": "markdown",
      "source": [
        "**VERİ GÖRSELLEŞTİRME**"
      ],
      "metadata": {
        "id": "FRnmgZIGTvfF"
      }
    },
    {
      "cell_type": "code",
      "source": [
        "a=np.arange(1,4)      # Elimizdeki veri sayısı kadar böldü\n",
        "x=[17.1,20.7,30.6]\n",
        "y=[23.9,28.4,33.0]\n",
        "z=[27.5,29.7,34.6]\n",
        "plt.subplots(figsize=(8,5))  # Grafiğin boyutunu 8x5 yaptı\n",
        "plt.title(\"Sınıflara Göre Matematik Puanları\")     # Grafiğin Adını verdik\n",
        "plt.plot(a,x,\"g\",marker='*',label='4th')\n",
        "plt.plot(a,y,'b:',marker='^',label='5th')\n",
        "plt.plot(a,z,'r--',marker='o',label='6th')\n",
        "plt.legend(loc=\"lower right\")  # Labelları sağ alta yazdı\n",
        "plt.grid()  # Grafiğin arkasını kare yaptı"
      ],
      "metadata": {
        "colab": {
          "base_uri": "https://localhost:8080/",
          "height": 338
        },
        "id": "Aa-VpY_cgfi3",
        "outputId": "871cb996-c7e8-4d4f-fdea-ff177a1aac80"
      },
      "execution_count": 65,
      "outputs": [
        {
          "output_type": "display_data",
          "data": {
            "image/png": "[encoded data removed]",
            "text/plain": [
              "<Figure size 576x360 with 1 Axes>"
            ]
          },
          "metadata": {}
        }
      ]
    },
    {
      "cell_type": "code",
      "source": [
        "sns.set(rc={'figure.figsize':(8,5)})  # grafiği 8x5 boyutunda alır\n",
        "\n",
        "sns.scatterplot(x='Dönem', y='Grade 4 Group',data=data[:4],color='red')   # saçılım grafiğinde 4.sınıfın Hazırlık döneminin verileri gösterildi"
      ],
      "metadata": {
        "colab": {
          "base_uri": "https://localhost:8080/",
          "height": 356
        },
        "id": "3vMY-QUfUgGE",
        "outputId": "49d6bac0-40ee-4df7-d0d0-8b31f33902c4"
      },
      "execution_count": 66,
      "outputs": [
        {
          "output_type": "execute_result",
          "data": {
            "text/plain": [
              "<matplotlib.axes._subplots.AxesSubplot at 0x7ff37e8a3710>"
            ]
          },
          "metadata": {},
          "execution_count": 66
        },
        {
          "output_type": "display_data",
          "data": {
            "image/png": "[encoded data removed]",
            "text/plain": [
              "<Figure size 576x360 with 1 Axes>"
            ]
          },
          "metadata": {}
        }
      ]
    },
    {
      "cell_type": "code",
      "source": [
        "# Hazırlık döneminin Standart sapmalarını gösterdik ( Histogram )\n",
        "sns.displot(data[1:2], bins=15, color='purple') # normal dağılım"
      ],
      "metadata": {
        "colab": {
          "base_uri": "https://localhost:8080/",
          "height": 382
        },
        "id": "K22muCo-WTbP",
        "outputId": "277570f0-3ac0-4aa0-beec-7f099e611bbe"
      },
      "execution_count": 67,
      "outputs": [
        {
          "output_type": "execute_result",
          "data": {
            "text/plain": [
              "<seaborn.axisgrid.FacetGrid at 0x7ff37e7d1f10>"
            ]
          },
          "metadata": {},
          "execution_count": 67
        },
        {
          "output_type": "display_data",
          "data": {
            "image/png": "[encoded data removed]",
            "text/plain": [
              "<Figure size 480.85x360 with 1 Axes>"
            ]
          },
          "metadata": {}
        }
      ]
    },
    {
      "cell_type": "code",
      "source": [
        "sns.pairplot(data, hue='Dönem',palette='Set2')   # sayısal sütunlar için çift yönlü ilişkiye baktık"
      ],
      "metadata": {
        "colab": {
          "base_uri": "https://localhost:8080/",
          "height": 566
        },
        "id": "awY8iObcXhSi",
        "outputId": "7ff8964c-efd6-462d-d4ab-5a99f48a6da5"
      },
      "execution_count": 68,
      "outputs": [
        {
          "output_type": "execute_result",
          "data": {
            "text/plain": [
              "<seaborn.axisgrid.PairGrid at 0x7ff37e699c10>"
            ]
          },
          "metadata": {},
          "execution_count": 68
        },
        {
          "output_type": "display_data",
          "data": {
            "image/png": "[encoded data removed]",
            "text/plain": [
              "<Figure size 700.85x540 with 12 Axes>"
            ]
          },
          "metadata": {}
        }
      ]
    },
    {
      "cell_type": "markdown",
      "source": [
        "**MODEL OLUŞTURMA**"
      ],
      "metadata": {
        "id": "NTdICNzAtUmz"
      }
    },
    {
      "cell_type": "code",
      "source": [
        "from sklearn.linear_model import LinearRegression\n",
        "from sklearn.metrics import r2_score, mean_absolute_error, mean_squared_error\n",
        "from sklearn.model_selection import train_test_split"
      ],
      "metadata": {
        "id": "NhO76KLZaNTY"
      },
      "execution_count": 81,
      "outputs": []
    },
    {
      "cell_type": "code",
      "source": [
        "data"
      ],
      "metadata": {
        "colab": {
          "base_uri": "https://localhost:8080/",
          "height": 426
        },
        "id": "S-1cUudKtfXs",
        "outputId": "1f49e38f-8d3b-49dc-f8c6-086eca3d57b0"
      },
      "execution_count": 70,
      "outputs": [
        {
          "output_type": "execute_result",
          "data": {
            "text/html": [
              "<div>\n",
              "<style scoped>\n",
              "    .dataframe tbody tr th:only-of-type {\n",
              "        vertical-align: middle;\n",
              "    }\n",
              "\n",
              "    .dataframe tbody tr th {\n",
              "        vertical-align: top;\n",
              "    }\n",
              "\n",
              "    .dataframe thead th {\n",
              "        text-align: right;\n",
              "    }\n",
              "</style>\n",
              "<table border=\"1\" class=\"dataframe\">\n",
              "  <thead>\n",
              "    <tr style=\"text-align: right;\">\n",
              "      <th></th>\n",
              "      <th>Dönem</th>\n",
              "      <th>Grade 4 Group</th>\n",
              "      <th>Grade 5 Group</th>\n",
              "      <th>Grade 6 Group</th>\n",
              "    </tr>\n",
              "  </thead>\n",
              "  <tbody>\n",
              "    <tr>\n",
              "      <th>0</th>\n",
              "      <td>Ortalama Test Puanı</td>\n",
              "      <td>17.1</td>\n",
              "      <td>23.9</td>\n",
              "      <td>27.5</td>\n",
              "    </tr>\n",
              "    <tr>\n",
              "      <th>1</th>\n",
              "      <td>Standart Sapma</td>\n",
              "      <td>13.0</td>\n",
              "      <td>12.9</td>\n",
              "      <td>12.5</td>\n",
              "    </tr>\n",
              "    <tr>\n",
              "      <th>2</th>\n",
              "      <td>Kızların Sayısı</td>\n",
              "      <td>120.0</td>\n",
              "      <td>95.0</td>\n",
              "      <td>129.0</td>\n",
              "    </tr>\n",
              "    <tr>\n",
              "      <th>3</th>\n",
              "      <td>Erkeklerin Sayısı</td>\n",
              "      <td>116.0</td>\n",
              "      <td>119.0</td>\n",
              "      <td>135.0</td>\n",
              "    </tr>\n",
              "    <tr>\n",
              "      <th>4</th>\n",
              "      <td>Ortalama Test Puanı 1</td>\n",
              "      <td>20.7</td>\n",
              "      <td>28.4</td>\n",
              "      <td>29.7</td>\n",
              "    </tr>\n",
              "    <tr>\n",
              "      <th>5</th>\n",
              "      <td>Standart Sapma 1</td>\n",
              "      <td>13.6</td>\n",
              "      <td>12.0</td>\n",
              "      <td>11.3</td>\n",
              "    </tr>\n",
              "    <tr>\n",
              "      <th>6</th>\n",
              "      <td>Kızların Sayısı 1</td>\n",
              "      <td>120.0</td>\n",
              "      <td>95.0</td>\n",
              "      <td>129.0</td>\n",
              "    </tr>\n",
              "    <tr>\n",
              "      <th>7</th>\n",
              "      <td>Erkeklerin Sayısı 1</td>\n",
              "      <td>116.0</td>\n",
              "      <td>119.0</td>\n",
              "      <td>135.0</td>\n",
              "    </tr>\n",
              "    <tr>\n",
              "      <th>8</th>\n",
              "      <td>Ortalama Test Puanı 2</td>\n",
              "      <td>30.6</td>\n",
              "      <td>33.0</td>\n",
              "      <td>34.6</td>\n",
              "    </tr>\n",
              "    <tr>\n",
              "      <th>9</th>\n",
              "      <td>Standart Sapma 2</td>\n",
              "      <td>11.7</td>\n",
              "      <td>10.4</td>\n",
              "      <td>10.4</td>\n",
              "    </tr>\n",
              "    <tr>\n",
              "      <th>10</th>\n",
              "      <td>Kızların Sayısı 2</td>\n",
              "      <td>120.0</td>\n",
              "      <td>95.0</td>\n",
              "      <td>129.0</td>\n",
              "    </tr>\n",
              "    <tr>\n",
              "      <th>11</th>\n",
              "      <td>Erkeklerin Sayısı 2</td>\n",
              "      <td>116.0</td>\n",
              "      <td>119.0</td>\n",
              "      <td>135.0</td>\n",
              "    </tr>\n",
              "  </tbody>\n",
              "</table>\n",
              "</div>"
            ],
            "text/plain": [
              "                    Dönem  Grade 4 Group  Grade 5 Group  Grade 6 Group\n",
              "0     Ortalama Test Puanı           17.1           23.9           27.5\n",
              "1          Standart Sapma           13.0           12.9           12.5\n",
              "2         Kızların Sayısı          120.0           95.0          129.0\n",
              "3       Erkeklerin Sayısı          116.0          119.0          135.0\n",
              "4   Ortalama Test Puanı 1           20.7           28.4           29.7\n",
              "5        Standart Sapma 1           13.6           12.0           11.3\n",
              "6       Kızların Sayısı 1          120.0           95.0          129.0\n",
              "7     Erkeklerin Sayısı 1          116.0          119.0          135.0\n",
              "8   Ortalama Test Puanı 2           30.6           33.0           34.6\n",
              "9        Standart Sapma 2           11.7           10.4           10.4\n",
              "10      Kızların Sayısı 2          120.0           95.0          129.0\n",
              "11    Erkeklerin Sayısı 2          116.0          119.0          135.0"
            ]
          },
          "metadata": {},
          "execution_count": 70
        }
      ]
    },
    {
      "cell_type": "code",
      "source": [
        "# İki özniteliğimizi inceyelerek aykırı değer olup olmadığına baktık.\n",
        "g = sns.regplot(data['Grade 4 Group'],data['Grade 5 Group'],ci=None,scatter_kws= {\"color\":\"r\",\"s\":9});\n",
        "plt.xlim(-2,85) \n",
        "plt.ylim(bottom=0)"
      ],
      "metadata": {
        "colab": {
          "base_uri": "https://localhost:8080/",
          "height": 411
        },
        "id": "Lj3siMjLu_Gt",
        "outputId": "5e1e7c08-91ac-47e2-e6cf-b2b8853c10ab"
      },
      "execution_count": 71,
      "outputs": [
        {
          "output_type": "stream",
          "name": "stderr",
          "text": [
            "/usr/local/lib/python3.7/dist-packages/seaborn/_decorators.py:43: FutureWarning: Pass the following variables as keyword args: x, y. From version 0.12, the only valid positional argument will be `data`, and passing other arguments without an explicit keyword will result in an error or misinterpretation.\n",
            "  FutureWarning\n"
          ]
        },
        {
          "output_type": "execute_result",
          "data": {
            "text/plain": [
              "(0.0, 124.43)"
            ]
          },
          "metadata": {},
          "execution_count": 71
        },
        {
          "output_type": "display_data",
          "data": {
            "image/png": "[encoded data removed]",
            "text/plain": [
              "<Figure size 576x360 with 1 Axes>"
            ]
          },
          "metadata": {}
        }
      ]
    },
    {
      "cell_type": "code",
      "source": [
        "x1 = data['Grade 4 Group']\n",
        "y1 = data['Grade 5 Group']\n",
        "#bağımlı ve bağımsız değişkeni seçme işlemi yapıyoruz.\n",
        "reg = LinearRegression()\n",
        "\n",
        "x1_egitim, x1_test, y1_egitim, y1_test = train_test_split(x1,y1,test_size=0.2, random_state=2)     # eğitim ve test olarak böldük\n",
        "model = reg.fit(x1.values.reshape(-1,1),y1.values.reshape(-1,1))  #Scikit-Learn modülü içerisinde bulunan LinearRegression fonksiyonu ile modeli oluşturup daha sonra seçmiş\n",
        "#olduğumuz değişkenler ile bu modeli eğitiyoruz."
      ],
      "metadata": {
        "id": "kLVVRXxMv5Ez"
      },
      "execution_count": 72,
      "outputs": []
    },
    {
      "cell_type": "code",
      "source": [
        " print(model.score(x1.values.reshape(-1,1),y1.values.reshape(-1,1)),\"\\n\")  # doğruluk değerlerine baktık"
      ],
      "metadata": {
        "colab": {
          "base_uri": "https://localhost:8080/"
        },
        "id": "I-HxGAHVxph1",
        "outputId": "8b5b1e74-ba68-444b-d67f-c1bd92a76754"
      },
      "execution_count": 73,
      "outputs": [
        {
          "output_type": "stream",
          "name": "stdout",
          "text": [
            "0.9484441652541944 \n",
            "\n"
          ]
        }
      ]
    },
    {
      "cell_type": "code",
      "source": [
        "x1_test = (model.predict(x1.values.reshape(-1,1)))\n",
        "x1_test      # 4.sınıfın 5.sınıf değeri üzerindeki etkisini tahmin etme işlemi"
      ],
      "metadata": {
        "colab": {
          "base_uri": "https://localhost:8080/"
        },
        "id": "ex9w1O7eyiG9",
        "outputId": "11ba776b-23cf-4586-b41e-05634096f457"
      },
      "execution_count": 76,
      "outputs": [
        {
          "output_type": "execute_result",
          "data": {
            "text/plain": [
              "array([[ 19.62082182],\n",
              "       [ 16.07477495],\n",
              "       [108.61794933],\n",
              "       [105.15839141],\n",
              "       [ 22.73442395],\n",
              "       [ 16.59370864],\n",
              "       [108.61794933],\n",
              "       [105.15839141],\n",
              "       [ 31.2968298 ],\n",
              "       [ 14.95041863],\n",
              "       [108.61794933],\n",
              "       [105.15839141]])"
            ]
          },
          "metadata": {},
          "execution_count": 76
        }
      ]
    },
    {
      "cell_type": "code",
      "source": [
        "r2_score(x1,x1_test)     # Performans ölçümü "
      ],
      "metadata": {
        "colab": {
          "base_uri": "https://localhost:8080/"
        },
        "id": "sM0Fzi19zlzm",
        "outputId": "7d02bf14-dbf5-491d-dd6d-c3fc0be9dd73"
      },
      "execution_count": 79,
      "outputs": [
        {
          "output_type": "execute_result",
          "data": {
            "text/plain": [
              "0.974305497687835"
            ]
          },
          "metadata": {},
          "execution_count": 79
        }
      ]
    },
    {
      "cell_type": "code",
      "source": [
        "mean_squared_error(x1,x1_test, squared=False)  # Tahmin/ test hatalarının standart sapması"
      ],
      "metadata": {
        "colab": {
          "base_uri": "https://localhost:8080/"
        },
        "id": "_LCSd4iQ23j2",
        "outputId": "b4d24a4f-5b09-4b2b-a7c6-1ac41d8f873b"
      },
      "execution_count": 80,
      "outputs": [
        {
          "output_type": "execute_result",
          "data": {
            "text/plain": [
              "8.068639970351056"
            ]
          },
          "metadata": {},
          "execution_count": 80
        }
      ]
    },
    {
      "cell_type": "code",
      "source": [
        ""
      ],
      "metadata": {
        "id": "Br2k7m0-3EWx"
      },
      "execution_count": null,
      "outputs": []
    }
  ]
}