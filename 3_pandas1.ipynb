{
  "nbformat": 4,
  "nbformat_minor": 0,
  "metadata": {
    "colab": {
      "name": "3-pandas1.ipynb",
      "provenance": [],
      "collapsed_sections": [],
      "authorship_tag": "ABX9TyOqzlGMR//cqt1JJF+DxxF1",
      "include_colab_link": true
    },
    "kernelspec": {
      "name": "python3",
      "display_name": "Python 3"
    },
    "language_info": {
      "name": "python"
    }
  },
  "cells": [
    {
      "cell_type": "markdown",
      "metadata": {
        "id": "view-in-github",
        "colab_type": "text"
      },
      "source": [
        "<a href=\"https://colab.research.google.com/github/nazlicanalagoz/DataScience_Uni/blob/main/3_pandas1.ipynb\" target=\"_parent\"><img src=\"https://colab.research.google.com/assets/colab-badge.svg\" alt=\"Open In Colab\"/></a>"
      ]
    },
    {
      "cell_type": "code",
      "metadata": {
        "id": "B8EIjeqh1FFj"
      },
      "source": [
        "# pandas modülünü ekleme\n",
        "import pandas as pd\n",
        "import numpy as np\n",
        "#from numpy.random import randn  #tek bir fonksiyonu direkt eklemek istiyorsak"
      ],
      "execution_count": null,
      "outputs": []
    },
    {
      "cell_type": "code",
      "metadata": {
        "colab": {
          "base_uri": "https://localhost:8080/"
        },
        "id": "yyfKSG4l1YlA",
        "outputId": "7c720721-06e4-4ef6-9b20-68aaf5a1eb06"
      },
      "source": [
        "# series (tek boyutlu dizi) liste yapısındadır\n",
        "seri = pd.Series([\"BMW\",\"Toyota\",\"WV\"])\n",
        "seri"
      ],
      "execution_count": null,
      "outputs": [
        {
          "output_type": "execute_result",
          "data": {
            "text/plain": [
              "0       BMW\n",
              "1    Toyota\n",
              "2        WV\n",
              "dtype: object"
            ]
          },
          "metadata": {},
          "execution_count": 2
        }
      ]
    },
    {
      "cell_type": "code",
      "metadata": {
        "colab": {
          "base_uri": "https://localhost:8080/"
        },
        "id": "PKN32MiH11na",
        "outputId": "4a2cf76f-ddec-40f5-acad-bc9934fbcb31"
      },
      "source": [
        "renkler = pd.Series([\"Beyaz\",\"Kırmızı\",\"Mavi\"])\n",
        "renkler"
      ],
      "execution_count": null,
      "outputs": [
        {
          "output_type": "execute_result",
          "data": {
            "text/plain": [
              "0      Beyaz\n",
              "1    Kırmızı\n",
              "2       Mavi\n",
              "dtype: object"
            ]
          },
          "metadata": {},
          "execution_count": 3
        }
      ]
    },
    {
      "cell_type": "code",
      "metadata": {
        "colab": {
          "base_uri": "https://localhost:8080/",
          "height": 142
        },
        "id": "UjaSpqYT3EoP",
        "outputId": "ca8c7bcb-87d9-4b92-aa91-a9c647da0cf4"
      },
      "source": [
        "# dataframe sözlük yapısındadır ve çok boyutludur\n",
        "arac = pd.DataFrame({\"Marka\":seri,\"Renk\":renkler})\n",
        "arac"
      ],
      "execution_count": null,
      "outputs": [
        {
          "output_type": "execute_result",
          "data": {
            "text/html": [
              "<div>\n",
              "<style scoped>\n",
              "    .dataframe tbody tr th:only-of-type {\n",
              "        vertical-align: middle;\n",
              "    }\n",
              "\n",
              "    .dataframe tbody tr th {\n",
              "        vertical-align: top;\n",
              "    }\n",
              "\n",
              "    .dataframe thead th {\n",
              "        text-align: right;\n",
              "    }\n",
              "</style>\n",
              "<table border=\"1\" class=\"dataframe\">\n",
              "  <thead>\n",
              "    <tr style=\"text-align: right;\">\n",
              "      <th></th>\n",
              "      <th>Marka</th>\n",
              "      <th>Renk</th>\n",
              "    </tr>\n",
              "  </thead>\n",
              "  <tbody>\n",
              "    <tr>\n",
              "      <th>0</th>\n",
              "      <td>BMW</td>\n",
              "      <td>Beyaz</td>\n",
              "    </tr>\n",
              "    <tr>\n",
              "      <th>1</th>\n",
              "      <td>Toyota</td>\n",
              "      <td>Kırmızı</td>\n",
              "    </tr>\n",
              "    <tr>\n",
              "      <th>2</th>\n",
              "      <td>WV</td>\n",
              "      <td>Mavi</td>\n",
              "    </tr>\n",
              "  </tbody>\n",
              "</table>\n",
              "</div>"
            ],
            "text/plain": [
              "    Marka     Renk\n",
              "0     BMW    Beyaz\n",
              "1  Toyota  Kırmızı\n",
              "2      WV     Mavi"
            ]
          },
          "metadata": {},
          "execution_count": 4
        }
      ]
    },
    {
      "cell_type": "code",
      "metadata": {
        "id": "cjfs4IjD3jSg"
      },
      "source": [
        "# sütun değerler >> features   satır değerler >> indeks,gözlem"
      ],
      "execution_count": null,
      "outputs": []
    },
    {
      "cell_type": "code",
      "metadata": {
        "colab": {
          "base_uri": "https://localhost:8080/",
          "height": 203
        },
        "id": "5JhQDyPP4pSu",
        "outputId": "e4c4971a-1c53-47e7-da06-09f5e076ed2d"
      },
      "source": [
        "df = pd.DataFrame(data=np.random.randn(5,5), index=['A','B','C','D','E'], columns=[\"Sutun1\",\"Sutun2\",\"Sutun3\",\"Sutun4\",\"Sutun5\"])\n",
        "df\n"
      ],
      "execution_count": null,
      "outputs": [
        {
          "output_type": "execute_result",
          "data": {
            "text/html": [
              "<div>\n",
              "<style scoped>\n",
              "    .dataframe tbody tr th:only-of-type {\n",
              "        vertical-align: middle;\n",
              "    }\n",
              "\n",
              "    .dataframe tbody tr th {\n",
              "        vertical-align: top;\n",
              "    }\n",
              "\n",
              "    .dataframe thead th {\n",
              "        text-align: right;\n",
              "    }\n",
              "</style>\n",
              "<table border=\"1\" class=\"dataframe\">\n",
              "  <thead>\n",
              "    <tr style=\"text-align: right;\">\n",
              "      <th></th>\n",
              "      <th>Sutun1</th>\n",
              "      <th>Sutun2</th>\n",
              "      <th>Sutun3</th>\n",
              "      <th>Sutun4</th>\n",
              "      <th>Sutun5</th>\n",
              "    </tr>\n",
              "  </thead>\n",
              "  <tbody>\n",
              "    <tr>\n",
              "      <th>A</th>\n",
              "      <td>-0.572529</td>\n",
              "      <td>1.233353</td>\n",
              "      <td>-1.304206</td>\n",
              "      <td>0.081784</td>\n",
              "      <td>0.606271</td>\n",
              "    </tr>\n",
              "    <tr>\n",
              "      <th>B</th>\n",
              "      <td>0.394206</td>\n",
              "      <td>-1.179069</td>\n",
              "      <td>-0.278502</td>\n",
              "      <td>0.163444</td>\n",
              "      <td>0.305850</td>\n",
              "    </tr>\n",
              "    <tr>\n",
              "      <th>C</th>\n",
              "      <td>0.393079</td>\n",
              "      <td>0.661073</td>\n",
              "      <td>0.906478</td>\n",
              "      <td>1.056409</td>\n",
              "      <td>-0.281503</td>\n",
              "    </tr>\n",
              "    <tr>\n",
              "      <th>D</th>\n",
              "      <td>-0.809278</td>\n",
              "      <td>0.004138</td>\n",
              "      <td>0.198492</td>\n",
              "      <td>0.612268</td>\n",
              "      <td>-0.870844</td>\n",
              "    </tr>\n",
              "    <tr>\n",
              "      <th>E</th>\n",
              "      <td>-0.643444</td>\n",
              "      <td>2.017773</td>\n",
              "      <td>1.490574</td>\n",
              "      <td>-0.577110</td>\n",
              "      <td>-1.286557</td>\n",
              "    </tr>\n",
              "  </tbody>\n",
              "</table>\n",
              "</div>"
            ],
            "text/plain": [
              "     Sutun1    Sutun2    Sutun3    Sutun4    Sutun5\n",
              "A -0.572529  1.233353 -1.304206  0.081784  0.606271\n",
              "B  0.394206 -1.179069 -0.278502  0.163444  0.305850\n",
              "C  0.393079  0.661073  0.906478  1.056409 -0.281503\n",
              "D -0.809278  0.004138  0.198492  0.612268 -0.870844\n",
              "E -0.643444  2.017773  1.490574 -0.577110 -1.286557"
            ]
          },
          "metadata": {},
          "execution_count": 6
        }
      ]
    },
    {
      "cell_type": "code",
      "metadata": {
        "colab": {
          "base_uri": "https://localhost:8080/"
        },
        "id": "Taq1VhnU5Zoe",
        "outputId": "5e3969ad-feff-4c19-fbe1-d1ed9c725a76"
      },
      "source": [
        "# bir sütun seçmek için\n",
        "df[\"Sutun2\"]"
      ],
      "execution_count": null,
      "outputs": [
        {
          "output_type": "execute_result",
          "data": {
            "text/plain": [
              "A    1.233353\n",
              "B   -1.179069\n",
              "C    0.661073\n",
              "D    0.004138\n",
              "E    2.017773\n",
              "Name: Sutun2, dtype: float64"
            ]
          },
          "metadata": {},
          "execution_count": 7
        }
      ]
    },
    {
      "cell_type": "code",
      "metadata": {
        "colab": {
          "base_uri": "https://localhost:8080/",
          "height": 203
        },
        "id": "hg1l5NIJ6tqA",
        "outputId": "9653fc7f-7fe9-415c-f563-d2b0247897e3"
      },
      "source": [
        "# iki sütun seçmek için\n",
        "df[[\"Sutun1\",\"Sutun2\"]]"
      ],
      "execution_count": null,
      "outputs": [
        {
          "output_type": "execute_result",
          "data": {
            "text/html": [
              "<div>\n",
              "<style scoped>\n",
              "    .dataframe tbody tr th:only-of-type {\n",
              "        vertical-align: middle;\n",
              "    }\n",
              "\n",
              "    .dataframe tbody tr th {\n",
              "        vertical-align: top;\n",
              "    }\n",
              "\n",
              "    .dataframe thead th {\n",
              "        text-align: right;\n",
              "    }\n",
              "</style>\n",
              "<table border=\"1\" class=\"dataframe\">\n",
              "  <thead>\n",
              "    <tr style=\"text-align: right;\">\n",
              "      <th></th>\n",
              "      <th>Sutun1</th>\n",
              "      <th>Sutun2</th>\n",
              "    </tr>\n",
              "  </thead>\n",
              "  <tbody>\n",
              "    <tr>\n",
              "      <th>A</th>\n",
              "      <td>-0.572529</td>\n",
              "      <td>1.233353</td>\n",
              "    </tr>\n",
              "    <tr>\n",
              "      <th>B</th>\n",
              "      <td>0.394206</td>\n",
              "      <td>-1.179069</td>\n",
              "    </tr>\n",
              "    <tr>\n",
              "      <th>C</th>\n",
              "      <td>0.393079</td>\n",
              "      <td>0.661073</td>\n",
              "    </tr>\n",
              "    <tr>\n",
              "      <th>D</th>\n",
              "      <td>-0.809278</td>\n",
              "      <td>0.004138</td>\n",
              "    </tr>\n",
              "    <tr>\n",
              "      <th>E</th>\n",
              "      <td>-0.643444</td>\n",
              "      <td>2.017773</td>\n",
              "    </tr>\n",
              "  </tbody>\n",
              "</table>\n",
              "</div>"
            ],
            "text/plain": [
              "     Sutun1    Sutun2\n",
              "A -0.572529  1.233353\n",
              "B  0.394206 -1.179069\n",
              "C  0.393079  0.661073\n",
              "D -0.809278  0.004138\n",
              "E -0.643444  2.017773"
            ]
          },
          "metadata": {},
          "execution_count": 8
        }
      ]
    },
    {
      "cell_type": "code",
      "metadata": {
        "id": "xthgYRkU64By"
      },
      "source": [
        "#veri kümesi oluşturma\n",
        "sozluk = {'İsim':pd.Series(['Ada','Cem','Sibel','Ahmet','Mehmet','Ali','Veli',\n",
        "          'Ayşe','Hüseyin','Necmi','Nalan','Namık']),\n",
        "          'Meslek':pd.Series(['işçi','işçi','memur','serbest','serbest',None,None,\n",
        "          'sigortacı','işsiz',None,None,'memur']),\n",
        "          'Tarih':pd.Series(['11.11.2010','11.11.2010','11.11.2010','18.11.2011','18.11.2011',None,None,\n",
        "          None,'11.11.2010',None,'18.11.2011','18.11.2011']),          \n",
        "          'Yaş':pd.Series([21, 24, 25, 44, 31, 27, 35, 33, 42, 29, 41, 43]),\n",
        "          'ÇocukSayısı':pd.Series([None, None, None, None, None, 1, 2, 0, None, None, None, None]),\n",
        "          'Puan':pd.Series([89, 87, 77, 55, 70, 79, 73, 79, 54, 92, 61, 69])}"
      ],
      "execution_count": null,
      "outputs": []
    },
    {
      "cell_type": "code",
      "metadata": {
        "colab": {
          "base_uri": "https://localhost:8080/",
          "height": 418
        },
        "id": "LuqYHZjh8tDS",
        "outputId": "138c71b0-05ac-4c85-cf6f-3fa058ac9d88"
      },
      "source": [
        "df = pd.DataFrame(sozluk)\n",
        "df"
      ],
      "execution_count": null,
      "outputs": [
        {
          "output_type": "execute_result",
          "data": {
            "text/html": [
              "<div>\n",
              "<style scoped>\n",
              "    .dataframe tbody tr th:only-of-type {\n",
              "        vertical-align: middle;\n",
              "    }\n",
              "\n",
              "    .dataframe tbody tr th {\n",
              "        vertical-align: top;\n",
              "    }\n",
              "\n",
              "    .dataframe thead th {\n",
              "        text-align: right;\n",
              "    }\n",
              "</style>\n",
              "<table border=\"1\" class=\"dataframe\">\n",
              "  <thead>\n",
              "    <tr style=\"text-align: right;\">\n",
              "      <th></th>\n",
              "      <th>İsim</th>\n",
              "      <th>Meslek</th>\n",
              "      <th>Tarih</th>\n",
              "      <th>Yaş</th>\n",
              "      <th>ÇocukSayısı</th>\n",
              "      <th>Puan</th>\n",
              "    </tr>\n",
              "  </thead>\n",
              "  <tbody>\n",
              "    <tr>\n",
              "      <th>0</th>\n",
              "      <td>Ada</td>\n",
              "      <td>işçi</td>\n",
              "      <td>11.11.2010</td>\n",
              "      <td>21</td>\n",
              "      <td>NaN</td>\n",
              "      <td>89</td>\n",
              "    </tr>\n",
              "    <tr>\n",
              "      <th>1</th>\n",
              "      <td>Cem</td>\n",
              "      <td>işçi</td>\n",
              "      <td>11.11.2010</td>\n",
              "      <td>24</td>\n",
              "      <td>NaN</td>\n",
              "      <td>87</td>\n",
              "    </tr>\n",
              "    <tr>\n",
              "      <th>2</th>\n",
              "      <td>Sibel</td>\n",
              "      <td>memur</td>\n",
              "      <td>11.11.2010</td>\n",
              "      <td>25</td>\n",
              "      <td>NaN</td>\n",
              "      <td>77</td>\n",
              "    </tr>\n",
              "    <tr>\n",
              "      <th>3</th>\n",
              "      <td>Ahmet</td>\n",
              "      <td>serbest</td>\n",
              "      <td>18.11.2011</td>\n",
              "      <td>44</td>\n",
              "      <td>NaN</td>\n",
              "      <td>55</td>\n",
              "    </tr>\n",
              "    <tr>\n",
              "      <th>4</th>\n",
              "      <td>Mehmet</td>\n",
              "      <td>serbest</td>\n",
              "      <td>18.11.2011</td>\n",
              "      <td>31</td>\n",
              "      <td>NaN</td>\n",
              "      <td>70</td>\n",
              "    </tr>\n",
              "    <tr>\n",
              "      <th>5</th>\n",
              "      <td>Ali</td>\n",
              "      <td>None</td>\n",
              "      <td>None</td>\n",
              "      <td>27</td>\n",
              "      <td>1.0</td>\n",
              "      <td>79</td>\n",
              "    </tr>\n",
              "    <tr>\n",
              "      <th>6</th>\n",
              "      <td>Veli</td>\n",
              "      <td>None</td>\n",
              "      <td>None</td>\n",
              "      <td>35</td>\n",
              "      <td>2.0</td>\n",
              "      <td>73</td>\n",
              "    </tr>\n",
              "    <tr>\n",
              "      <th>7</th>\n",
              "      <td>Ayşe</td>\n",
              "      <td>sigortacı</td>\n",
              "      <td>None</td>\n",
              "      <td>33</td>\n",
              "      <td>0.0</td>\n",
              "      <td>79</td>\n",
              "    </tr>\n",
              "    <tr>\n",
              "      <th>8</th>\n",
              "      <td>Hüseyin</td>\n",
              "      <td>işsiz</td>\n",
              "      <td>11.11.2010</td>\n",
              "      <td>42</td>\n",
              "      <td>NaN</td>\n",
              "      <td>54</td>\n",
              "    </tr>\n",
              "    <tr>\n",
              "      <th>9</th>\n",
              "      <td>Necmi</td>\n",
              "      <td>None</td>\n",
              "      <td>None</td>\n",
              "      <td>29</td>\n",
              "      <td>NaN</td>\n",
              "      <td>92</td>\n",
              "    </tr>\n",
              "    <tr>\n",
              "      <th>10</th>\n",
              "      <td>Nalan</td>\n",
              "      <td>None</td>\n",
              "      <td>18.11.2011</td>\n",
              "      <td>41</td>\n",
              "      <td>NaN</td>\n",
              "      <td>61</td>\n",
              "    </tr>\n",
              "    <tr>\n",
              "      <th>11</th>\n",
              "      <td>Namık</td>\n",
              "      <td>memur</td>\n",
              "      <td>18.11.2011</td>\n",
              "      <td>43</td>\n",
              "      <td>NaN</td>\n",
              "      <td>69</td>\n",
              "    </tr>\n",
              "  </tbody>\n",
              "</table>\n",
              "</div>"
            ],
            "text/plain": [
              "       İsim     Meslek       Tarih  Yaş  ÇocukSayısı  Puan\n",
              "0       Ada       işçi  11.11.2010   21          NaN    89\n",
              "1       Cem       işçi  11.11.2010   24          NaN    87\n",
              "2     Sibel      memur  11.11.2010   25          NaN    77\n",
              "3     Ahmet    serbest  18.11.2011   44          NaN    55\n",
              "4    Mehmet    serbest  18.11.2011   31          NaN    70\n",
              "5       Ali       None        None   27          1.0    79\n",
              "6      Veli       None        None   35          2.0    73\n",
              "7      Ayşe  sigortacı        None   33          0.0    79\n",
              "8   Hüseyin      işsiz  11.11.2010   42          NaN    54\n",
              "9     Necmi       None        None   29          NaN    92\n",
              "10    Nalan       None  18.11.2011   41          NaN    61\n",
              "11    Namık      memur  18.11.2011   43          NaN    69"
            ]
          },
          "metadata": {},
          "execution_count": 10
        }
      ]
    },
    {
      "cell_type": "code",
      "metadata": {
        "colab": {
          "base_uri": "https://localhost:8080/",
          "height": 203
        },
        "id": "T_eK2keX8xYJ",
        "outputId": "84657ea9-7152-4893-8ea9-3086295bd004"
      },
      "source": [
        "#ilk 5 gözlemi göster\n",
        "df.head()"
      ],
      "execution_count": null,
      "outputs": [
        {
          "output_type": "execute_result",
          "data": {
            "text/html": [
              "<div>\n",
              "<style scoped>\n",
              "    .dataframe tbody tr th:only-of-type {\n",
              "        vertical-align: middle;\n",
              "    }\n",
              "\n",
              "    .dataframe tbody tr th {\n",
              "        vertical-align: top;\n",
              "    }\n",
              "\n",
              "    .dataframe thead th {\n",
              "        text-align: right;\n",
              "    }\n",
              "</style>\n",
              "<table border=\"1\" class=\"dataframe\">\n",
              "  <thead>\n",
              "    <tr style=\"text-align: right;\">\n",
              "      <th></th>\n",
              "      <th>İsim</th>\n",
              "      <th>Meslek</th>\n",
              "      <th>Tarih</th>\n",
              "      <th>Yaş</th>\n",
              "      <th>ÇocukSayısı</th>\n",
              "      <th>Puan</th>\n",
              "    </tr>\n",
              "  </thead>\n",
              "  <tbody>\n",
              "    <tr>\n",
              "      <th>0</th>\n",
              "      <td>Ada</td>\n",
              "      <td>işçi</td>\n",
              "      <td>11.11.2010</td>\n",
              "      <td>21</td>\n",
              "      <td>NaN</td>\n",
              "      <td>89</td>\n",
              "    </tr>\n",
              "    <tr>\n",
              "      <th>1</th>\n",
              "      <td>Cem</td>\n",
              "      <td>işçi</td>\n",
              "      <td>11.11.2010</td>\n",
              "      <td>24</td>\n",
              "      <td>NaN</td>\n",
              "      <td>87</td>\n",
              "    </tr>\n",
              "    <tr>\n",
              "      <th>2</th>\n",
              "      <td>Sibel</td>\n",
              "      <td>memur</td>\n",
              "      <td>11.11.2010</td>\n",
              "      <td>25</td>\n",
              "      <td>NaN</td>\n",
              "      <td>77</td>\n",
              "    </tr>\n",
              "    <tr>\n",
              "      <th>3</th>\n",
              "      <td>Ahmet</td>\n",
              "      <td>serbest</td>\n",
              "      <td>18.11.2011</td>\n",
              "      <td>44</td>\n",
              "      <td>NaN</td>\n",
              "      <td>55</td>\n",
              "    </tr>\n",
              "    <tr>\n",
              "      <th>4</th>\n",
              "      <td>Mehmet</td>\n",
              "      <td>serbest</td>\n",
              "      <td>18.11.2011</td>\n",
              "      <td>31</td>\n",
              "      <td>NaN</td>\n",
              "      <td>70</td>\n",
              "    </tr>\n",
              "  </tbody>\n",
              "</table>\n",
              "</div>"
            ],
            "text/plain": [
              "     İsim   Meslek       Tarih  Yaş  ÇocukSayısı  Puan\n",
              "0     Ada     işçi  11.11.2010   21          NaN    89\n",
              "1     Cem     işçi  11.11.2010   24          NaN    87\n",
              "2   Sibel    memur  11.11.2010   25          NaN    77\n",
              "3   Ahmet  serbest  18.11.2011   44          NaN    55\n",
              "4  Mehmet  serbest  18.11.2011   31          NaN    70"
            ]
          },
          "metadata": {},
          "execution_count": 11
        }
      ]
    },
    {
      "cell_type": "code",
      "metadata": {
        "colab": {
          "base_uri": "https://localhost:8080/",
          "height": 203
        },
        "id": "wXY5HR7J_QB6",
        "outputId": "8ea65afe-63a7-4ede-89f5-27bc2bc71dd0"
      },
      "source": [
        "# son 5 gözlem\n",
        "df.tail()"
      ],
      "execution_count": null,
      "outputs": [
        {
          "output_type": "execute_result",
          "data": {
            "text/html": [
              "<div>\n",
              "<style scoped>\n",
              "    .dataframe tbody tr th:only-of-type {\n",
              "        vertical-align: middle;\n",
              "    }\n",
              "\n",
              "    .dataframe tbody tr th {\n",
              "        vertical-align: top;\n",
              "    }\n",
              "\n",
              "    .dataframe thead th {\n",
              "        text-align: right;\n",
              "    }\n",
              "</style>\n",
              "<table border=\"1\" class=\"dataframe\">\n",
              "  <thead>\n",
              "    <tr style=\"text-align: right;\">\n",
              "      <th></th>\n",
              "      <th>İsim</th>\n",
              "      <th>Meslek</th>\n",
              "      <th>Tarih</th>\n",
              "      <th>Yaş</th>\n",
              "      <th>ÇocukSayısı</th>\n",
              "      <th>Puan</th>\n",
              "    </tr>\n",
              "  </thead>\n",
              "  <tbody>\n",
              "    <tr>\n",
              "      <th>7</th>\n",
              "      <td>Ayşe</td>\n",
              "      <td>sigortacı</td>\n",
              "      <td>None</td>\n",
              "      <td>33</td>\n",
              "      <td>0.0</td>\n",
              "      <td>79</td>\n",
              "    </tr>\n",
              "    <tr>\n",
              "      <th>8</th>\n",
              "      <td>Hüseyin</td>\n",
              "      <td>işsiz</td>\n",
              "      <td>11.11.2010</td>\n",
              "      <td>42</td>\n",
              "      <td>NaN</td>\n",
              "      <td>54</td>\n",
              "    </tr>\n",
              "    <tr>\n",
              "      <th>9</th>\n",
              "      <td>Necmi</td>\n",
              "      <td>None</td>\n",
              "      <td>None</td>\n",
              "      <td>29</td>\n",
              "      <td>NaN</td>\n",
              "      <td>92</td>\n",
              "    </tr>\n",
              "    <tr>\n",
              "      <th>10</th>\n",
              "      <td>Nalan</td>\n",
              "      <td>None</td>\n",
              "      <td>18.11.2011</td>\n",
              "      <td>41</td>\n",
              "      <td>NaN</td>\n",
              "      <td>61</td>\n",
              "    </tr>\n",
              "    <tr>\n",
              "      <th>11</th>\n",
              "      <td>Namık</td>\n",
              "      <td>memur</td>\n",
              "      <td>18.11.2011</td>\n",
              "      <td>43</td>\n",
              "      <td>NaN</td>\n",
              "      <td>69</td>\n",
              "    </tr>\n",
              "  </tbody>\n",
              "</table>\n",
              "</div>"
            ],
            "text/plain": [
              "       İsim     Meslek       Tarih  Yaş  ÇocukSayısı  Puan\n",
              "7      Ayşe  sigortacı        None   33          0.0    79\n",
              "8   Hüseyin      işsiz  11.11.2010   42          NaN    54\n",
              "9     Necmi       None        None   29          NaN    92\n",
              "10    Nalan       None  18.11.2011   41          NaN    61\n",
              "11    Namık      memur  18.11.2011   43          NaN    69"
            ]
          },
          "metadata": {},
          "execution_count": 12
        }
      ]
    },
    {
      "cell_type": "code",
      "metadata": {
        "colab": {
          "base_uri": "https://localhost:8080/",
          "height": 172
        },
        "id": "41ijPOL8_dQj",
        "outputId": "f11075c5-a2a8-48ae-ff8b-8a98d8472fc8"
      },
      "source": [
        "# rastgele 4 gözlem\n",
        "df.sample(4)"
      ],
      "execution_count": null,
      "outputs": [
        {
          "output_type": "execute_result",
          "data": {
            "text/html": [
              "<div>\n",
              "<style scoped>\n",
              "    .dataframe tbody tr th:only-of-type {\n",
              "        vertical-align: middle;\n",
              "    }\n",
              "\n",
              "    .dataframe tbody tr th {\n",
              "        vertical-align: top;\n",
              "    }\n",
              "\n",
              "    .dataframe thead th {\n",
              "        text-align: right;\n",
              "    }\n",
              "</style>\n",
              "<table border=\"1\" class=\"dataframe\">\n",
              "  <thead>\n",
              "    <tr style=\"text-align: right;\">\n",
              "      <th></th>\n",
              "      <th>İsim</th>\n",
              "      <th>Meslek</th>\n",
              "      <th>Tarih</th>\n",
              "      <th>Yaş</th>\n",
              "      <th>ÇocukSayısı</th>\n",
              "      <th>Puan</th>\n",
              "    </tr>\n",
              "  </thead>\n",
              "  <tbody>\n",
              "    <tr>\n",
              "      <th>7</th>\n",
              "      <td>Ayşe</td>\n",
              "      <td>sigortacı</td>\n",
              "      <td>None</td>\n",
              "      <td>33</td>\n",
              "      <td>0.0</td>\n",
              "      <td>79</td>\n",
              "    </tr>\n",
              "    <tr>\n",
              "      <th>3</th>\n",
              "      <td>Ahmet</td>\n",
              "      <td>serbest</td>\n",
              "      <td>18.11.2011</td>\n",
              "      <td>44</td>\n",
              "      <td>NaN</td>\n",
              "      <td>55</td>\n",
              "    </tr>\n",
              "    <tr>\n",
              "      <th>10</th>\n",
              "      <td>Nalan</td>\n",
              "      <td>None</td>\n",
              "      <td>18.11.2011</td>\n",
              "      <td>41</td>\n",
              "      <td>NaN</td>\n",
              "      <td>61</td>\n",
              "    </tr>\n",
              "    <tr>\n",
              "      <th>5</th>\n",
              "      <td>Ali</td>\n",
              "      <td>None</td>\n",
              "      <td>None</td>\n",
              "      <td>27</td>\n",
              "      <td>1.0</td>\n",
              "      <td>79</td>\n",
              "    </tr>\n",
              "  </tbody>\n",
              "</table>\n",
              "</div>"
            ],
            "text/plain": [
              "     İsim     Meslek       Tarih  Yaş  ÇocukSayısı  Puan\n",
              "7    Ayşe  sigortacı        None   33          0.0    79\n",
              "3   Ahmet    serbest  18.11.2011   44          NaN    55\n",
              "10  Nalan       None  18.11.2011   41          NaN    61\n",
              "5     Ali       None        None   27          1.0    79"
            ]
          },
          "metadata": {},
          "execution_count": 13
        }
      ]
    },
    {
      "cell_type": "code",
      "metadata": {
        "colab": {
          "base_uri": "https://localhost:8080/"
        },
        "id": "_-ex-Whx_xPX",
        "outputId": "57ca2b2d-16cd-44e8-f00c-9e39cd9070bf"
      },
      "source": [
        "# satır ve sütun sayısını öğrenme\n",
        "df.shape"
      ],
      "execution_count": null,
      "outputs": [
        {
          "output_type": "execute_result",
          "data": {
            "text/plain": [
              "(12, 6)"
            ]
          },
          "metadata": {},
          "execution_count": 14
        }
      ]
    },
    {
      "cell_type": "code",
      "metadata": {
        "colab": {
          "base_uri": "https://localhost:8080/"
        },
        "id": "54OTJOMeAMxe",
        "outputId": "e86e34b0-3736-40f2-b8e6-3a9f20c0b9f9"
      },
      "source": [
        "# özniteliklerin veri türleri ve içerdikleri kayıt sayısı bellek kullanımları\n",
        "df.info()"
      ],
      "execution_count": null,
      "outputs": [
        {
          "output_type": "stream",
          "name": "stdout",
          "text": [
            "<class 'pandas.core.frame.DataFrame'>\n",
            "RangeIndex: 12 entries, 0 to 11\n",
            "Data columns (total 6 columns):\n",
            " #   Column       Non-Null Count  Dtype  \n",
            "---  ------       --------------  -----  \n",
            " 0   İsim         12 non-null     object \n",
            " 1   Meslek       8 non-null      object \n",
            " 2   Tarih        8 non-null      object \n",
            " 3   Yaş          12 non-null     int64  \n",
            " 4   ÇocukSayısı  3 non-null      float64\n",
            " 5   Puan         12 non-null     int64  \n",
            "dtypes: float64(1), int64(2), object(3)\n",
            "memory usage: 704.0+ bytes\n"
          ]
        }
      ]
    },
    {
      "cell_type": "code",
      "metadata": {
        "colab": {
          "base_uri": "https://localhost:8080/"
        },
        "id": "gUEZ1sD-Ak_D",
        "outputId": "dce01c88-ce30-4ba7-ddd7-88848d1245c9"
      },
      "source": [
        "df['Yaş']"
      ],
      "execution_count": null,
      "outputs": [
        {
          "output_type": "execute_result",
          "data": {
            "text/plain": [
              "0     21\n",
              "1     24\n",
              "2     25\n",
              "3     44\n",
              "4     31\n",
              "5     27\n",
              "6     35\n",
              "7     33\n",
              "8     42\n",
              "9     29\n",
              "10    41\n",
              "11    43\n",
              "Name: Yaş, dtype: int64"
            ]
          },
          "metadata": {},
          "execution_count": 16
        }
      ]
    },
    {
      "cell_type": "code",
      "metadata": {
        "colab": {
          "base_uri": "https://localhost:8080/"
        },
        "id": "ayQw-Rv_A4hJ",
        "outputId": "a920e8ca-e1d7-45ba-99c7-5a92171ebaa6"
      },
      "source": [
        "# yaş ın ilk 5 satırı\n",
        "df['Yaş'].head()"
      ],
      "execution_count": null,
      "outputs": [
        {
          "output_type": "execute_result",
          "data": {
            "text/plain": [
              "0    21\n",
              "1    24\n",
              "2    25\n",
              "3    44\n",
              "4    31\n",
              "Name: Yaş, dtype: int64"
            ]
          },
          "metadata": {},
          "execution_count": 17
        }
      ]
    },
    {
      "cell_type": "code",
      "metadata": {
        "colab": {
          "base_uri": "https://localhost:8080/"
        },
        "id": "hRyYrssMBO0p",
        "outputId": "d90a3063-fa58-4dcc-996e-491300047a74"
      },
      "source": [
        "# yaş ın ilk 5 satırı\n",
        "df['Yaş'][:5]"
      ],
      "execution_count": null,
      "outputs": [
        {
          "output_type": "execute_result",
          "data": {
            "text/plain": [
              "0    21\n",
              "1    24\n",
              "2    25\n",
              "3    44\n",
              "4    31\n",
              "Name: Yaş, dtype: int64"
            ]
          },
          "metadata": {},
          "execution_count": 18
        }
      ]
    },
    {
      "cell_type": "code",
      "metadata": {
        "colab": {
          "base_uri": "https://localhost:8080/",
          "height": 265
        },
        "id": "GiBjOP2CBWeO",
        "outputId": "06bc36ad-ff43-489a-f431-e3af54355d72"
      },
      "source": [
        "# yaşı 30dan büyük ve puanı 50 den büyük olanlar\n",
        "df[(df['Yaş']>30)&(df['Puan']>50)]"
      ],
      "execution_count": null,
      "outputs": [
        {
          "output_type": "execute_result",
          "data": {
            "text/html": [
              "<div>\n",
              "<style scoped>\n",
              "    .dataframe tbody tr th:only-of-type {\n",
              "        vertical-align: middle;\n",
              "    }\n",
              "\n",
              "    .dataframe tbody tr th {\n",
              "        vertical-align: top;\n",
              "    }\n",
              "\n",
              "    .dataframe thead th {\n",
              "        text-align: right;\n",
              "    }\n",
              "</style>\n",
              "<table border=\"1\" class=\"dataframe\">\n",
              "  <thead>\n",
              "    <tr style=\"text-align: right;\">\n",
              "      <th></th>\n",
              "      <th>İsim</th>\n",
              "      <th>Meslek</th>\n",
              "      <th>Tarih</th>\n",
              "      <th>Yaş</th>\n",
              "      <th>ÇocukSayısı</th>\n",
              "      <th>Puan</th>\n",
              "    </tr>\n",
              "  </thead>\n",
              "  <tbody>\n",
              "    <tr>\n",
              "      <th>3</th>\n",
              "      <td>Ahmet</td>\n",
              "      <td>serbest</td>\n",
              "      <td>18.11.2011</td>\n",
              "      <td>44</td>\n",
              "      <td>NaN</td>\n",
              "      <td>55</td>\n",
              "    </tr>\n",
              "    <tr>\n",
              "      <th>4</th>\n",
              "      <td>Mehmet</td>\n",
              "      <td>serbest</td>\n",
              "      <td>18.11.2011</td>\n",
              "      <td>31</td>\n",
              "      <td>NaN</td>\n",
              "      <td>70</td>\n",
              "    </tr>\n",
              "    <tr>\n",
              "      <th>6</th>\n",
              "      <td>Veli</td>\n",
              "      <td>None</td>\n",
              "      <td>None</td>\n",
              "      <td>35</td>\n",
              "      <td>2.0</td>\n",
              "      <td>73</td>\n",
              "    </tr>\n",
              "    <tr>\n",
              "      <th>7</th>\n",
              "      <td>Ayşe</td>\n",
              "      <td>sigortacı</td>\n",
              "      <td>None</td>\n",
              "      <td>33</td>\n",
              "      <td>0.0</td>\n",
              "      <td>79</td>\n",
              "    </tr>\n",
              "    <tr>\n",
              "      <th>8</th>\n",
              "      <td>Hüseyin</td>\n",
              "      <td>işsiz</td>\n",
              "      <td>11.11.2010</td>\n",
              "      <td>42</td>\n",
              "      <td>NaN</td>\n",
              "      <td>54</td>\n",
              "    </tr>\n",
              "    <tr>\n",
              "      <th>10</th>\n",
              "      <td>Nalan</td>\n",
              "      <td>None</td>\n",
              "      <td>18.11.2011</td>\n",
              "      <td>41</td>\n",
              "      <td>NaN</td>\n",
              "      <td>61</td>\n",
              "    </tr>\n",
              "    <tr>\n",
              "      <th>11</th>\n",
              "      <td>Namık</td>\n",
              "      <td>memur</td>\n",
              "      <td>18.11.2011</td>\n",
              "      <td>43</td>\n",
              "      <td>NaN</td>\n",
              "      <td>69</td>\n",
              "    </tr>\n",
              "  </tbody>\n",
              "</table>\n",
              "</div>"
            ],
            "text/plain": [
              "       İsim     Meslek       Tarih  Yaş  ÇocukSayısı  Puan\n",
              "3     Ahmet    serbest  18.11.2011   44          NaN    55\n",
              "4    Mehmet    serbest  18.11.2011   31          NaN    70\n",
              "6      Veli       None        None   35          2.0    73\n",
              "7      Ayşe  sigortacı        None   33          0.0    79\n",
              "8   Hüseyin      işsiz  11.11.2010   42          NaN    54\n",
              "10    Nalan       None  18.11.2011   41          NaN    61\n",
              "11    Namık      memur  18.11.2011   43          NaN    69"
            ]
          },
          "metadata": {},
          "execution_count": 19
        }
      ]
    },
    {
      "cell_type": "code",
      "metadata": {
        "colab": {
          "base_uri": "https://localhost:8080/",
          "height": 265
        },
        "id": "JA5_OvDCBvJj",
        "outputId": "d6dde1c3-570d-43c2-9356-1d0901ab0c21"
      },
      "source": [
        "# query ile yukarıdaki işlem\n",
        "df_filtrele = df.query('Yaş>30 & Puan>50')\n",
        "df_filtrele"
      ],
      "execution_count": null,
      "outputs": [
        {
          "output_type": "execute_result",
          "data": {
            "text/html": [
              "<div>\n",
              "<style scoped>\n",
              "    .dataframe tbody tr th:only-of-type {\n",
              "        vertical-align: middle;\n",
              "    }\n",
              "\n",
              "    .dataframe tbody tr th {\n",
              "        vertical-align: top;\n",
              "    }\n",
              "\n",
              "    .dataframe thead th {\n",
              "        text-align: right;\n",
              "    }\n",
              "</style>\n",
              "<table border=\"1\" class=\"dataframe\">\n",
              "  <thead>\n",
              "    <tr style=\"text-align: right;\">\n",
              "      <th></th>\n",
              "      <th>İsim</th>\n",
              "      <th>Meslek</th>\n",
              "      <th>Tarih</th>\n",
              "      <th>Yaş</th>\n",
              "      <th>ÇocukSayısı</th>\n",
              "      <th>Puan</th>\n",
              "    </tr>\n",
              "  </thead>\n",
              "  <tbody>\n",
              "    <tr>\n",
              "      <th>3</th>\n",
              "      <td>Ahmet</td>\n",
              "      <td>serbest</td>\n",
              "      <td>18.11.2011</td>\n",
              "      <td>44</td>\n",
              "      <td>NaN</td>\n",
              "      <td>55</td>\n",
              "    </tr>\n",
              "    <tr>\n",
              "      <th>4</th>\n",
              "      <td>Mehmet</td>\n",
              "      <td>serbest</td>\n",
              "      <td>18.11.2011</td>\n",
              "      <td>31</td>\n",
              "      <td>NaN</td>\n",
              "      <td>70</td>\n",
              "    </tr>\n",
              "    <tr>\n",
              "      <th>6</th>\n",
              "      <td>Veli</td>\n",
              "      <td>None</td>\n",
              "      <td>None</td>\n",
              "      <td>35</td>\n",
              "      <td>2.0</td>\n",
              "      <td>73</td>\n",
              "    </tr>\n",
              "    <tr>\n",
              "      <th>7</th>\n",
              "      <td>Ayşe</td>\n",
              "      <td>sigortacı</td>\n",
              "      <td>None</td>\n",
              "      <td>33</td>\n",
              "      <td>0.0</td>\n",
              "      <td>79</td>\n",
              "    </tr>\n",
              "    <tr>\n",
              "      <th>8</th>\n",
              "      <td>Hüseyin</td>\n",
              "      <td>işsiz</td>\n",
              "      <td>11.11.2010</td>\n",
              "      <td>42</td>\n",
              "      <td>NaN</td>\n",
              "      <td>54</td>\n",
              "    </tr>\n",
              "    <tr>\n",
              "      <th>10</th>\n",
              "      <td>Nalan</td>\n",
              "      <td>None</td>\n",
              "      <td>18.11.2011</td>\n",
              "      <td>41</td>\n",
              "      <td>NaN</td>\n",
              "      <td>61</td>\n",
              "    </tr>\n",
              "    <tr>\n",
              "      <th>11</th>\n",
              "      <td>Namık</td>\n",
              "      <td>memur</td>\n",
              "      <td>18.11.2011</td>\n",
              "      <td>43</td>\n",
              "      <td>NaN</td>\n",
              "      <td>69</td>\n",
              "    </tr>\n",
              "  </tbody>\n",
              "</table>\n",
              "</div>"
            ],
            "text/plain": [
              "       İsim     Meslek       Tarih  Yaş  ÇocukSayısı  Puan\n",
              "3     Ahmet    serbest  18.11.2011   44          NaN    55\n",
              "4    Mehmet    serbest  18.11.2011   31          NaN    70\n",
              "6      Veli       None        None   35          2.0    73\n",
              "7      Ayşe  sigortacı        None   33          0.0    79\n",
              "8   Hüseyin      işsiz  11.11.2010   42          NaN    54\n",
              "10    Nalan       None  18.11.2011   41          NaN    61\n",
              "11    Namık      memur  18.11.2011   43          NaN    69"
            ]
          },
          "metadata": {},
          "execution_count": 20
        }
      ]
    },
    {
      "cell_type": "code",
      "metadata": {
        "colab": {
          "base_uri": "https://localhost:8080/",
          "height": 418
        },
        "id": "ac5fK5okCKhX",
        "outputId": "9b7b6129-9089-491a-8874-8e76cab01152"
      },
      "source": [
        "# büyükten küçüğe sıralama\n",
        "df.sort_values('Puan',axis=0, ascending=False)  #false olursa büyükten küçüğe, true olursa küçükten büyüğe"
      ],
      "execution_count": null,
      "outputs": [
        {
          "output_type": "execute_result",
          "data": {
            "text/html": [
              "<div>\n",
              "<style scoped>\n",
              "    .dataframe tbody tr th:only-of-type {\n",
              "        vertical-align: middle;\n",
              "    }\n",
              "\n",
              "    .dataframe tbody tr th {\n",
              "        vertical-align: top;\n",
              "    }\n",
              "\n",
              "    .dataframe thead th {\n",
              "        text-align: right;\n",
              "    }\n",
              "</style>\n",
              "<table border=\"1\" class=\"dataframe\">\n",
              "  <thead>\n",
              "    <tr style=\"text-align: right;\">\n",
              "      <th></th>\n",
              "      <th>İsim</th>\n",
              "      <th>Meslek</th>\n",
              "      <th>Tarih</th>\n",
              "      <th>Yaş</th>\n",
              "      <th>ÇocukSayısı</th>\n",
              "      <th>Puan</th>\n",
              "    </tr>\n",
              "  </thead>\n",
              "  <tbody>\n",
              "    <tr>\n",
              "      <th>9</th>\n",
              "      <td>Necmi</td>\n",
              "      <td>None</td>\n",
              "      <td>None</td>\n",
              "      <td>29</td>\n",
              "      <td>NaN</td>\n",
              "      <td>92</td>\n",
              "    </tr>\n",
              "    <tr>\n",
              "      <th>0</th>\n",
              "      <td>Ada</td>\n",
              "      <td>işçi</td>\n",
              "      <td>11.11.2010</td>\n",
              "      <td>21</td>\n",
              "      <td>NaN</td>\n",
              "      <td>89</td>\n",
              "    </tr>\n",
              "    <tr>\n",
              "      <th>1</th>\n",
              "      <td>Cem</td>\n",
              "      <td>işçi</td>\n",
              "      <td>11.11.2010</td>\n",
              "      <td>24</td>\n",
              "      <td>NaN</td>\n",
              "      <td>87</td>\n",
              "    </tr>\n",
              "    <tr>\n",
              "      <th>5</th>\n",
              "      <td>Ali</td>\n",
              "      <td>None</td>\n",
              "      <td>None</td>\n",
              "      <td>27</td>\n",
              "      <td>1.0</td>\n",
              "      <td>79</td>\n",
              "    </tr>\n",
              "    <tr>\n",
              "      <th>7</th>\n",
              "      <td>Ayşe</td>\n",
              "      <td>sigortacı</td>\n",
              "      <td>None</td>\n",
              "      <td>33</td>\n",
              "      <td>0.0</td>\n",
              "      <td>79</td>\n",
              "    </tr>\n",
              "    <tr>\n",
              "      <th>2</th>\n",
              "      <td>Sibel</td>\n",
              "      <td>memur</td>\n",
              "      <td>11.11.2010</td>\n",
              "      <td>25</td>\n",
              "      <td>NaN</td>\n",
              "      <td>77</td>\n",
              "    </tr>\n",
              "    <tr>\n",
              "      <th>6</th>\n",
              "      <td>Veli</td>\n",
              "      <td>None</td>\n",
              "      <td>None</td>\n",
              "      <td>35</td>\n",
              "      <td>2.0</td>\n",
              "      <td>73</td>\n",
              "    </tr>\n",
              "    <tr>\n",
              "      <th>4</th>\n",
              "      <td>Mehmet</td>\n",
              "      <td>serbest</td>\n",
              "      <td>18.11.2011</td>\n",
              "      <td>31</td>\n",
              "      <td>NaN</td>\n",
              "      <td>70</td>\n",
              "    </tr>\n",
              "    <tr>\n",
              "      <th>11</th>\n",
              "      <td>Namık</td>\n",
              "      <td>memur</td>\n",
              "      <td>18.11.2011</td>\n",
              "      <td>43</td>\n",
              "      <td>NaN</td>\n",
              "      <td>69</td>\n",
              "    </tr>\n",
              "    <tr>\n",
              "      <th>10</th>\n",
              "      <td>Nalan</td>\n",
              "      <td>None</td>\n",
              "      <td>18.11.2011</td>\n",
              "      <td>41</td>\n",
              "      <td>NaN</td>\n",
              "      <td>61</td>\n",
              "    </tr>\n",
              "    <tr>\n",
              "      <th>3</th>\n",
              "      <td>Ahmet</td>\n",
              "      <td>serbest</td>\n",
              "      <td>18.11.2011</td>\n",
              "      <td>44</td>\n",
              "      <td>NaN</td>\n",
              "      <td>55</td>\n",
              "    </tr>\n",
              "    <tr>\n",
              "      <th>8</th>\n",
              "      <td>Hüseyin</td>\n",
              "      <td>işsiz</td>\n",
              "      <td>11.11.2010</td>\n",
              "      <td>42</td>\n",
              "      <td>NaN</td>\n",
              "      <td>54</td>\n",
              "    </tr>\n",
              "  </tbody>\n",
              "</table>\n",
              "</div>"
            ],
            "text/plain": [
              "       İsim     Meslek       Tarih  Yaş  ÇocukSayısı  Puan\n",
              "9     Necmi       None        None   29          NaN    92\n",
              "0       Ada       işçi  11.11.2010   21          NaN    89\n",
              "1       Cem       işçi  11.11.2010   24          NaN    87\n",
              "5       Ali       None        None   27          1.0    79\n",
              "7      Ayşe  sigortacı        None   33          0.0    79\n",
              "2     Sibel      memur  11.11.2010   25          NaN    77\n",
              "6      Veli       None        None   35          2.0    73\n",
              "4    Mehmet    serbest  18.11.2011   31          NaN    70\n",
              "11    Namık      memur  18.11.2011   43          NaN    69\n",
              "10    Nalan       None  18.11.2011   41          NaN    61\n",
              "3     Ahmet    serbest  18.11.2011   44          NaN    55\n",
              "8   Hüseyin      işsiz  11.11.2010   42          NaN    54"
            ]
          },
          "metadata": {},
          "execution_count": 21
        }
      ]
    },
    {
      "cell_type": "code",
      "metadata": {
        "colab": {
          "base_uri": "https://localhost:8080/",
          "height": 265
        },
        "id": "JS6OSJQcDdY6",
        "outputId": "a06d4959-4ef1-41f6-f7e6-3a26c40a1f96"
      },
      "source": [
        "df[(df['Yaş']>30)&(df['Puan']>50)].sort_values('Puan',axis=0, ascending=False)"
      ],
      "execution_count": null,
      "outputs": [
        {
          "output_type": "execute_result",
          "data": {
            "text/html": [
              "<div>\n",
              "<style scoped>\n",
              "    .dataframe tbody tr th:only-of-type {\n",
              "        vertical-align: middle;\n",
              "    }\n",
              "\n",
              "    .dataframe tbody tr th {\n",
              "        vertical-align: top;\n",
              "    }\n",
              "\n",
              "    .dataframe thead th {\n",
              "        text-align: right;\n",
              "    }\n",
              "</style>\n",
              "<table border=\"1\" class=\"dataframe\">\n",
              "  <thead>\n",
              "    <tr style=\"text-align: right;\">\n",
              "      <th></th>\n",
              "      <th>İsim</th>\n",
              "      <th>Meslek</th>\n",
              "      <th>Tarih</th>\n",
              "      <th>Yaş</th>\n",
              "      <th>ÇocukSayısı</th>\n",
              "      <th>Puan</th>\n",
              "    </tr>\n",
              "  </thead>\n",
              "  <tbody>\n",
              "    <tr>\n",
              "      <th>7</th>\n",
              "      <td>Ayşe</td>\n",
              "      <td>sigortacı</td>\n",
              "      <td>None</td>\n",
              "      <td>33</td>\n",
              "      <td>0.0</td>\n",
              "      <td>79</td>\n",
              "    </tr>\n",
              "    <tr>\n",
              "      <th>6</th>\n",
              "      <td>Veli</td>\n",
              "      <td>None</td>\n",
              "      <td>None</td>\n",
              "      <td>35</td>\n",
              "      <td>2.0</td>\n",
              "      <td>73</td>\n",
              "    </tr>\n",
              "    <tr>\n",
              "      <th>4</th>\n",
              "      <td>Mehmet</td>\n",
              "      <td>serbest</td>\n",
              "      <td>18.11.2011</td>\n",
              "      <td>31</td>\n",
              "      <td>NaN</td>\n",
              "      <td>70</td>\n",
              "    </tr>\n",
              "    <tr>\n",
              "      <th>11</th>\n",
              "      <td>Namık</td>\n",
              "      <td>memur</td>\n",
              "      <td>18.11.2011</td>\n",
              "      <td>43</td>\n",
              "      <td>NaN</td>\n",
              "      <td>69</td>\n",
              "    </tr>\n",
              "    <tr>\n",
              "      <th>10</th>\n",
              "      <td>Nalan</td>\n",
              "      <td>None</td>\n",
              "      <td>18.11.2011</td>\n",
              "      <td>41</td>\n",
              "      <td>NaN</td>\n",
              "      <td>61</td>\n",
              "    </tr>\n",
              "    <tr>\n",
              "      <th>3</th>\n",
              "      <td>Ahmet</td>\n",
              "      <td>serbest</td>\n",
              "      <td>18.11.2011</td>\n",
              "      <td>44</td>\n",
              "      <td>NaN</td>\n",
              "      <td>55</td>\n",
              "    </tr>\n",
              "    <tr>\n",
              "      <th>8</th>\n",
              "      <td>Hüseyin</td>\n",
              "      <td>işsiz</td>\n",
              "      <td>11.11.2010</td>\n",
              "      <td>42</td>\n",
              "      <td>NaN</td>\n",
              "      <td>54</td>\n",
              "    </tr>\n",
              "  </tbody>\n",
              "</table>\n",
              "</div>"
            ],
            "text/plain": [
              "       İsim     Meslek       Tarih  Yaş  ÇocukSayısı  Puan\n",
              "7      Ayşe  sigortacı        None   33          0.0    79\n",
              "6      Veli       None        None   35          2.0    73\n",
              "4    Mehmet    serbest  18.11.2011   31          NaN    70\n",
              "11    Namık      memur  18.11.2011   43          NaN    69\n",
              "10    Nalan       None  18.11.2011   41          NaN    61\n",
              "3     Ahmet    serbest  18.11.2011   44          NaN    55\n",
              "8   Hüseyin      işsiz  11.11.2010   42          NaN    54"
            ]
          },
          "metadata": {},
          "execution_count": 22
        }
      ]
    },
    {
      "cell_type": "markdown",
      "metadata": {
        "id": "QSs3HmV0FJbR"
      },
      "source": [
        "**Pandas DataFrame ile Temel İstatistiki İşlemler**"
      ]
    },
    {
      "cell_type": "code",
      "metadata": {
        "colab": {
          "base_uri": "https://localhost:8080/"
        },
        "id": "PS5m3OefFNbX",
        "outputId": "ef53e523-9e12-49d6-d183-0bc50bbf8dde"
      },
      "source": [
        "# puan sütununun aritmetik ortalamasını alır\n",
        "df['Puan'].mean()"
      ],
      "execution_count": null,
      "outputs": [
        {
          "output_type": "execute_result",
          "data": {
            "text/plain": [
              "73.75"
            ]
          },
          "metadata": {},
          "execution_count": 23
        }
      ]
    },
    {
      "cell_type": "code",
      "metadata": {
        "colab": {
          "base_uri": "https://localhost:8080/"
        },
        "id": "v-Ev76XnFPXO",
        "outputId": "41e7b4b0-19ed-4a6a-fd56-5869f8715462"
      },
      "source": [
        "# sıralamanın ortancasını alır\n",
        "df['Puan'].median()"
      ],
      "execution_count": null,
      "outputs": [
        {
          "output_type": "execute_result",
          "data": {
            "text/plain": [
              "75.0"
            ]
          },
          "metadata": {},
          "execution_count": 24
        }
      ]
    },
    {
      "cell_type": "code",
      "metadata": {
        "colab": {
          "base_uri": "https://localhost:8080/"
        },
        "id": "aShA-gqnFbAZ",
        "outputId": "4dafd34c-4b12-437d-94c7-be31bfcef02e"
      },
      "source": [
        "# sayısal  tüm özniteliklerin ortalaması\n",
        "df.mean(axis=0, skipna=True) #skipna boşlukları atlar"
      ],
      "execution_count": null,
      "outputs": [
        {
          "output_type": "execute_result",
          "data": {
            "text/plain": [
              "Yaş            32.916667\n",
              "ÇocukSayısı     1.000000\n",
              "Puan           73.750000\n",
              "dtype: float64"
            ]
          },
          "metadata": {},
          "execution_count": 25
        }
      ]
    },
    {
      "cell_type": "code",
      "metadata": {
        "colab": {
          "base_uri": "https://localhost:8080/"
        },
        "id": "xTVUFEQSFsXD",
        "outputId": "03c44b5c-0642-47c0-8ecb-52905dbc0829"
      },
      "source": [
        "#standart sapma (verilerin ne kadarının ortalamaya yakınlığını verir)\n",
        "df['Puan'].std()"
      ],
      "execution_count": null,
      "outputs": [
        {
          "output_type": "execute_result",
          "data": {
            "text/plain": [
              "12.606816338069583"
            ]
          },
          "metadata": {},
          "execution_count": 26
        }
      ]
    },
    {
      "cell_type": "code",
      "metadata": {
        "colab": {
          "base_uri": "https://localhost:8080/",
          "height": 142
        },
        "id": "Cp2I_huqF4Eb",
        "outputId": "a11ebfb4-5314-4a7c-9d52-ec46cf09a33b"
      },
      "source": [
        "# varyans, kovaryans\n",
        "# kovaryans sayısal değere sahip özniteliklerin birlikte nasıl değiştini(ilişkilerini) araştırır\n",
        "df.cov()"
      ],
      "execution_count": null,
      "outputs": [
        {
          "output_type": "execute_result",
          "data": {
            "text/html": [
              "<div>\n",
              "<style scoped>\n",
              "    .dataframe tbody tr th:only-of-type {\n",
              "        vertical-align: middle;\n",
              "    }\n",
              "\n",
              "    .dataframe tbody tr th {\n",
              "        vertical-align: top;\n",
              "    }\n",
              "\n",
              "    .dataframe thead th {\n",
              "        text-align: right;\n",
              "    }\n",
              "</style>\n",
              "<table border=\"1\" class=\"dataframe\">\n",
              "  <thead>\n",
              "    <tr style=\"text-align: right;\">\n",
              "      <th></th>\n",
              "      <th>Yaş</th>\n",
              "      <th>ÇocukSayısı</th>\n",
              "      <th>Puan</th>\n",
              "    </tr>\n",
              "  </thead>\n",
              "  <tbody>\n",
              "    <tr>\n",
              "      <th>Yaş</th>\n",
              "      <td>64.992424</td>\n",
              "      <td>1.0</td>\n",
              "      <td>-87.295455</td>\n",
              "    </tr>\n",
              "    <tr>\n",
              "      <th>ÇocukSayısı</th>\n",
              "      <td>1.000000</td>\n",
              "      <td>1.0</td>\n",
              "      <td>-3.000000</td>\n",
              "    </tr>\n",
              "    <tr>\n",
              "      <th>Puan</th>\n",
              "      <td>-87.295455</td>\n",
              "      <td>-3.0</td>\n",
              "      <td>158.931818</td>\n",
              "    </tr>\n",
              "  </tbody>\n",
              "</table>\n",
              "</div>"
            ],
            "text/plain": [
              "                   Yaş  ÇocukSayısı        Puan\n",
              "Yaş          64.992424          1.0  -87.295455\n",
              "ÇocukSayısı   1.000000          1.0   -3.000000\n",
              "Puan        -87.295455         -3.0  158.931818"
            ]
          },
          "metadata": {},
          "execution_count": 27
        }
      ]
    },
    {
      "cell_type": "code",
      "metadata": {
        "colab": {
          "base_uri": "https://localhost:8080/",
          "height": 142
        },
        "id": "e5RsoHT3GR_-",
        "outputId": "24f1b259-e2a3-46d7-b27f-1be44bd2f3ce"
      },
      "source": [
        "# korelasyon\n",
        "df.corr()"
      ],
      "execution_count": null,
      "outputs": [
        {
          "output_type": "execute_result",
          "data": {
            "text/html": [
              "<div>\n",
              "<style scoped>\n",
              "    .dataframe tbody tr th:only-of-type {\n",
              "        vertical-align: middle;\n",
              "    }\n",
              "\n",
              "    .dataframe tbody tr th {\n",
              "        vertical-align: top;\n",
              "    }\n",
              "\n",
              "    .dataframe thead th {\n",
              "        text-align: right;\n",
              "    }\n",
              "</style>\n",
              "<table border=\"1\" class=\"dataframe\">\n",
              "  <thead>\n",
              "    <tr style=\"text-align: right;\">\n",
              "      <th></th>\n",
              "      <th>Yaş</th>\n",
              "      <th>ÇocukSayısı</th>\n",
              "      <th>Puan</th>\n",
              "    </tr>\n",
              "  </thead>\n",
              "  <tbody>\n",
              "    <tr>\n",
              "      <th>Yaş</th>\n",
              "      <td>1.000000</td>\n",
              "      <td>0.240192</td>\n",
              "      <td>-0.858924</td>\n",
              "    </tr>\n",
              "    <tr>\n",
              "      <th>ÇocukSayısı</th>\n",
              "      <td>0.240192</td>\n",
              "      <td>1.000000</td>\n",
              "      <td>-0.866025</td>\n",
              "    </tr>\n",
              "    <tr>\n",
              "      <th>Puan</th>\n",
              "      <td>-0.858924</td>\n",
              "      <td>-0.866025</td>\n",
              "      <td>1.000000</td>\n",
              "    </tr>\n",
              "  </tbody>\n",
              "</table>\n",
              "</div>"
            ],
            "text/plain": [
              "                  Yaş  ÇocukSayısı      Puan\n",
              "Yaş          1.000000     0.240192 -0.858924\n",
              "ÇocukSayısı  0.240192     1.000000 -0.866025\n",
              "Puan        -0.858924    -0.866025  1.000000"
            ]
          },
          "metadata": {},
          "execution_count": 28
        }
      ]
    },
    {
      "cell_type": "code",
      "metadata": {
        "id": "CO2LHlOTGhui"
      },
      "source": [
        "# yaş sayısı arttıkça puan düşmektedir. (YORUM YAPMA SORULUR!)"
      ],
      "execution_count": null,
      "outputs": []
    },
    {
      "cell_type": "code",
      "metadata": {
        "colab": {
          "base_uri": "https://localhost:8080/",
          "height": 312
        },
        "id": "6Y2FD9VzGwtB",
        "outputId": "c11a1cad-397a-48da-b573-cfd98f54c05a"
      },
      "source": [
        "df.plot(x='Yaş',y='Puan',style='*',title='Grafik')"
      ],
      "execution_count": null,
      "outputs": [
        {
          "output_type": "execute_result",
          "data": {
            "text/plain": [
              "<matplotlib.axes._subplots.AxesSubplot at 0x7f6ed4ed6c10>"
            ]
          },
          "metadata": {},
          "execution_count": 30
        },
        {
          "output_type": "display_data",
          "data": {
            "image/png": "[encoded data removed]",
            "text/plain": [
              "<Figure size 432x288 with 1 Axes>"
            ]
          },
          "metadata": {
            "needs_background": "light"
          }
        }
      ]
    },
    {
      "cell_type": "code",
      "metadata": {
        "id": "2vA7xPd_G2lo"
      },
      "source": [
        "# Korelasyon gösterimi\n",
        "import seaborn as sns"
      ],
      "execution_count": null,
      "outputs": []
    },
    {
      "cell_type": "code",
      "metadata": {
        "colab": {
          "base_uri": "https://localhost:8080/",
          "height": 286
        },
        "id": "0GUaIKzBHv3F",
        "outputId": "5f4194be-0ee5-42de-d453-fd1a9653ebbb"
      },
      "source": [
        "# ISI HARİTASI\n",
        "corr=df.corr()\n",
        "sns.heatmap(corr,xticklabels=corr.columns.values, yticklabels=corr.columns.values)"
      ],
      "execution_count": null,
      "outputs": [
        {
          "output_type": "execute_result",
          "data": {
            "text/plain": [
              "<matplotlib.axes._subplots.AxesSubplot at 0x7f6ec5f87f10>"
            ]
          },
          "metadata": {},
          "execution_count": 32
        },
        {
          "output_type": "display_data",
          "data": {
            "image/png": "[encoded data removed]",
            "text/plain": [
              "<Figure size 432x288 with 2 Axes>"
            ]
          },
          "metadata": {
            "needs_background": "light"
          }
        }
      ]
    },
    {
      "cell_type": "code",
      "metadata": {
        "colab": {
          "base_uri": "https://localhost:8080/"
        },
        "id": "TZ575eY8H4b5",
        "outputId": "7ee420c7-ec94-4d63-f7fc-c1c24aaf8066"
      },
      "source": [
        "df.columns"
      ],
      "execution_count": null,
      "outputs": [
        {
          "output_type": "execute_result",
          "data": {
            "text/plain": [
              "Index(['İsim', 'Meslek', 'Tarih', 'Yaş', 'ÇocukSayısı', 'Puan'], dtype='object')"
            ]
          },
          "metadata": {},
          "execution_count": 33
        }
      ]
    },
    {
      "cell_type": "code",
      "metadata": {
        "colab": {
          "base_uri": "https://localhost:8080/",
          "height": 418
        },
        "id": "48g_UMgDIJPH",
        "outputId": "4f9f762a-d600-41e6-9092-36daba03eff5"
      },
      "source": [
        "# Sütun ekleme\n",
        "df['Kıdem']=[13,23,9,12,5,7,8,11,21,1,2,3]\n",
        "df"
      ],
      "execution_count": null,
      "outputs": [
        {
          "output_type": "execute_result",
          "data": {
            "text/html": [
              "<div>\n",
              "<style scoped>\n",
              "    .dataframe tbody tr th:only-of-type {\n",
              "        vertical-align: middle;\n",
              "    }\n",
              "\n",
              "    .dataframe tbody tr th {\n",
              "        vertical-align: top;\n",
              "    }\n",
              "\n",
              "    .dataframe thead th {\n",
              "        text-align: right;\n",
              "    }\n",
              "</style>\n",
              "<table border=\"1\" class=\"dataframe\">\n",
              "  <thead>\n",
              "    <tr style=\"text-align: right;\">\n",
              "      <th></th>\n",
              "      <th>İsim</th>\n",
              "      <th>Meslek</th>\n",
              "      <th>Tarih</th>\n",
              "      <th>Yaş</th>\n",
              "      <th>ÇocukSayısı</th>\n",
              "      <th>Puan</th>\n",
              "      <th>Kıdem</th>\n",
              "    </tr>\n",
              "  </thead>\n",
              "  <tbody>\n",
              "    <tr>\n",
              "      <th>0</th>\n",
              "      <td>Ada</td>\n",
              "      <td>işçi</td>\n",
              "      <td>11.11.2010</td>\n",
              "      <td>21</td>\n",
              "      <td>NaN</td>\n",
              "      <td>89</td>\n",
              "      <td>13</td>\n",
              "    </tr>\n",
              "    <tr>\n",
              "      <th>1</th>\n",
              "      <td>Cem</td>\n",
              "      <td>işçi</td>\n",
              "      <td>11.11.2010</td>\n",
              "      <td>24</td>\n",
              "      <td>NaN</td>\n",
              "      <td>87</td>\n",
              "      <td>23</td>\n",
              "    </tr>\n",
              "    <tr>\n",
              "      <th>2</th>\n",
              "      <td>Sibel</td>\n",
              "      <td>memur</td>\n",
              "      <td>11.11.2010</td>\n",
              "      <td>25</td>\n",
              "      <td>NaN</td>\n",
              "      <td>77</td>\n",
              "      <td>9</td>\n",
              "    </tr>\n",
              "    <tr>\n",
              "      <th>3</th>\n",
              "      <td>Ahmet</td>\n",
              "      <td>serbest</td>\n",
              "      <td>18.11.2011</td>\n",
              "      <td>44</td>\n",
              "      <td>NaN</td>\n",
              "      <td>55</td>\n",
              "      <td>12</td>\n",
              "    </tr>\n",
              "    <tr>\n",
              "      <th>4</th>\n",
              "      <td>Mehmet</td>\n",
              "      <td>serbest</td>\n",
              "      <td>18.11.2011</td>\n",
              "      <td>31</td>\n",
              "      <td>NaN</td>\n",
              "      <td>70</td>\n",
              "      <td>5</td>\n",
              "    </tr>\n",
              "    <tr>\n",
              "      <th>5</th>\n",
              "      <td>Ali</td>\n",
              "      <td>None</td>\n",
              "      <td>None</td>\n",
              "      <td>27</td>\n",
              "      <td>1.0</td>\n",
              "      <td>79</td>\n",
              "      <td>7</td>\n",
              "    </tr>\n",
              "    <tr>\n",
              "      <th>6</th>\n",
              "      <td>Veli</td>\n",
              "      <td>None</td>\n",
              "      <td>None</td>\n",
              "      <td>35</td>\n",
              "      <td>2.0</td>\n",
              "      <td>73</td>\n",
              "      <td>8</td>\n",
              "    </tr>\n",
              "    <tr>\n",
              "      <th>7</th>\n",
              "      <td>Ayşe</td>\n",
              "      <td>sigortacı</td>\n",
              "      <td>None</td>\n",
              "      <td>33</td>\n",
              "      <td>0.0</td>\n",
              "      <td>79</td>\n",
              "      <td>11</td>\n",
              "    </tr>\n",
              "    <tr>\n",
              "      <th>8</th>\n",
              "      <td>Hüseyin</td>\n",
              "      <td>işsiz</td>\n",
              "      <td>11.11.2010</td>\n",
              "      <td>42</td>\n",
              "      <td>NaN</td>\n",
              "      <td>54</td>\n",
              "      <td>21</td>\n",
              "    </tr>\n",
              "    <tr>\n",
              "      <th>9</th>\n",
              "      <td>Necmi</td>\n",
              "      <td>None</td>\n",
              "      <td>None</td>\n",
              "      <td>29</td>\n",
              "      <td>NaN</td>\n",
              "      <td>92</td>\n",
              "      <td>1</td>\n",
              "    </tr>\n",
              "    <tr>\n",
              "      <th>10</th>\n",
              "      <td>Nalan</td>\n",
              "      <td>None</td>\n",
              "      <td>18.11.2011</td>\n",
              "      <td>41</td>\n",
              "      <td>NaN</td>\n",
              "      <td>61</td>\n",
              "      <td>2</td>\n",
              "    </tr>\n",
              "    <tr>\n",
              "      <th>11</th>\n",
              "      <td>Namık</td>\n",
              "      <td>memur</td>\n",
              "      <td>18.11.2011</td>\n",
              "      <td>43</td>\n",
              "      <td>NaN</td>\n",
              "      <td>69</td>\n",
              "      <td>3</td>\n",
              "    </tr>\n",
              "  </tbody>\n",
              "</table>\n",
              "</div>"
            ],
            "text/plain": [
              "       İsim     Meslek       Tarih  Yaş  ÇocukSayısı  Puan  Kıdem\n",
              "0       Ada       işçi  11.11.2010   21          NaN    89     13\n",
              "1       Cem       işçi  11.11.2010   24          NaN    87     23\n",
              "2     Sibel      memur  11.11.2010   25          NaN    77      9\n",
              "3     Ahmet    serbest  18.11.2011   44          NaN    55     12\n",
              "4    Mehmet    serbest  18.11.2011   31          NaN    70      5\n",
              "5       Ali       None        None   27          1.0    79      7\n",
              "6      Veli       None        None   35          2.0    73      8\n",
              "7      Ayşe  sigortacı        None   33          0.0    79     11\n",
              "8   Hüseyin      işsiz  11.11.2010   42          NaN    54     21\n",
              "9     Necmi       None        None   29          NaN    92      1\n",
              "10    Nalan       None  18.11.2011   41          NaN    61      2\n",
              "11    Namık      memur  18.11.2011   43          NaN    69      3"
            ]
          },
          "metadata": {},
          "execution_count": 34
        }
      ]
    },
    {
      "cell_type": "code",
      "metadata": {
        "id": "GTXz3FYhIdtY"
      },
      "source": [
        ""
      ],
      "execution_count": null,
      "outputs": []
    }
  ]
}